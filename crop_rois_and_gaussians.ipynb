{
 "cells": [
  {
   "cell_type": "code",
   "execution_count": 25,
   "metadata": {},
   "outputs": [],
   "source": [
    "csvfile = r'C:\\Users\\roumba\\Documents\\Software\\deep-events\\original_data\\220915_mtstaygold_cos7_ZEISS_fl\\labels3f.csv'\n",
    "imagefile= r'C:\\Users\\roumba\\Documents\\Software\\deep-events\\original_data\\220915_mtstaygold_cos7_ZEISS_fl\\220915_cos7_mitostaygold_GFP_3.ome.tif'\n",
    "\n",
    "from PIL import Image\n",
    "import pandas as pd\n",
    "import numpy as np\n",
    "import matplotlib.pyplot as plt\n",
    "import plotly.io\n",
    "import plotly.express as px\n",
    "from scipy import ndimage as ndi\n",
    "import tensorflow\n",
    "import imageio\n",
    "from scipy import signal\n",
    "import tensorflow_probability as tfp\n",
    "import tensorflow as tf\n",
    "from tqdm import tqdm  \n",
    "import myfunctions\n",
    "from myfunctions import event_separation , image_crop_save_gauss , get_gaussian , image_crop_save , image_crop_negative\n",
    "\n",
    "img = Image.open(imagefile)\n",
    "datacsv = pd.read_csv(csvfile)\n",
    "sigma_trial=(8,8)\n",
    "size_trial=(2048,2048)\n"
   ]
  },
  {
   "cell_type": "code",
   "execution_count": 26,
   "metadata": {},
   "outputs": [],
   "source": [
    "from pathlib import Path\n",
    "path = Path(imagefile)\n",
    "file_details = path.stem\n",
    "date, cell_type, dye, bf_fl, index  = file_details.split('_')\n",
    "input_name= f'points_{date}_{cell_type}_{bf_fl}_{index}.tiff'\n",
    "output_name= f'image_{date}_{cell_type}_{bf_fl}_{index}'"
   ]
  },
  {
   "cell_type": "code",
   "execution_count": 27,
   "metadata": {},
   "outputs": [
    {
     "name": "stderr",
     "output_type": "stream",
     "text": [
      "100%|██████████| 32/32 [00:07<00:00,  4.53it/s]\n"
     ]
    }
   ],
   "source": [
    "points_of_interest= np.zeros((100, 2048, 2048))\n",
    "\n",
    "for row_number in tqdm(range(0, len(datacsv))):\n",
    "    framenumber_in_row= int(datacsv.loc[row_number, 'axis-0'])\n",
    "    fission_ycoord = int(datacsv.loc[row_number, 'axis-1'])\n",
    "    fission_xcoord = int(datacsv.loc[row_number, 'axis-2'])\n",
    "    fission_coords=(fission_ycoord,fission_xcoord)\n",
    "    gaussian_points=get_gaussian(fission_coords,sigma_trial,size_trial)                                     #gets gaussian points at a single frame\n",
    "    gaussian_points = gaussian_points.numpy()                                                               #convers tensor into numpy array\n",
    "    gaussian_points = gaussian_points/np.max(gaussian_points)                                               #divides by the max \n",
    "    gaussian_points[gaussian_points < 0.1] = 0                                                              #sets background to zero\n",
    "    gaussian_points = gaussian_points/np.max(gaussian_points)                                               #divides by max again\n",
    "    points_of_interest[framenumber_in_row] = points_of_interest[framenumber_in_row] + gaussian_points       #adds the gaussian intensity in the empty file \n",
    "\n",
    "\n",
    "   \n",
    "imageio.mimwrite(input_name, (points_of_interest*254).astype(np.uint8))"
   ]
  },
  {
   "cell_type": "code",
   "execution_count": 28,
   "metadata": {},
   "outputs": [],
   "source": [
    "## CROPS IMAGES ##\n",
    "list1=event_separation(datacsv)\n",
    "l=len(list1)\n",
    "image_crop_save(l,list1, datacsv, img, output_name)"
   ]
  },
  {
   "cell_type": "code",
   "execution_count": 29,
   "metadata": {},
   "outputs": [],
   "source": [
    "## CROPS GAUSS IMAGES ##\n",
    "gauss=r'C:\\Users\\roumba\\Documents\\Software\\deep-events\\points_220915_cos7_GFP_2.ome.tiff'\n",
    "gauss_image=Image.open(gauss)\n",
    "image_crop_save_gauss(l,list1, datacsv, gauss_image, output_name)"
   ]
  },
  {
   "cell_type": "code",
   "execution_count": 30,
   "metadata": {},
   "outputs": [],
   "source": [
    "## PRODUCES NEGATIVE IMAGE CROPS ##\n",
    "image_crop_negative(l,list1, datacsv, img, output_name)"
   ]
  }
 ],
 "metadata": {
  "kernelspec": {
   "display_name": "Python 3.10.7 ('.env': venv)",
   "language": "python",
   "name": "python3"
  },
  "language_info": {
   "codemirror_mode": {
    "name": "ipython",
    "version": 3
   },
   "file_extension": ".py",
   "mimetype": "text/x-python",
   "name": "python",
   "nbconvert_exporter": "python",
   "pygments_lexer": "ipython3",
   "version": "3.10.7"
  },
  "orig_nbformat": 4,
  "vscode": {
   "interpreter": {
    "hash": "1eaf8819518d82bc7e7f729f546a337f692f85bf6d00cdfaf0712e2fc6595813"
   }
  }
 },
 "nbformat": 4,
 "nbformat_minor": 2
}
