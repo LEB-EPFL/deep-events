{
 "cells": [
  {
   "cell_type": "code",
   "execution_count": 1,
   "metadata": {},
   "outputs": [],
   "source": [
    "from PIL import Image\n",
    "import pandas as pd\n",
    "import numpy as np\n",
    "import matplotlib.pyplot as plt\n",
    "from os import path\n",
    "import xmltodict\n",
    "from myfunctions import event_separation , image_crop, image_crop_negative, poi\n",
    "import tifffile"
   ]
  },
  {
   "cell_type": "markdown",
   "metadata": {},
   "source": [
    "## Input data from a folder ##"
   ]
  },
  {
   "cell_type": "code",
   "execution_count": 2,
   "metadata": {},
   "outputs": [
    {
     "name": "stdout",
     "output_type": "stream",
     "text": [
      "Loaded image:221123_U2OS_mitostaygold_GFP_1.ome.tif\n",
      "Loaded image:221123_U2OS_mitostaygold_GFP_10.ome.tif\n",
      "Loaded image:221123_U2OS_mitostaygold_GFP_11.ome.tif\n",
      "Loaded image:221123_U2OS_mitostaygold_GFP_12.ome.tif\n",
      "Loaded image:221123_U2OS_mitostaygold_GFP_2.ome.tif\n",
      "Loaded image:221123_U2OS_mitostaygold_GFP_3.ome.tif\n",
      "Loaded image:221123_U2OS_mitostaygold_GFP_4.ome.tif\n",
      "Loaded image:221123_U2OS_mitostaygold_GFP_5.ome.tif\n",
      "Loaded image:221123_U2OS_mitostaygold_GFP_6.ome.tif\n",
      "Loaded image:221123_U2OS_mitostaygold_GFP_7.ome.tif\n",
      "Loaded image:221123_U2OS_mitostaygold_GFP_8.ome.tif\n",
      "Loaded image:221123_U2OS_mitostaygold_GFP_9.ome.tif\n",
      "Loaded csv:labels_10_fl.csv\n",
      "Loaded csv:labels_11_fl.csv\n",
      "Loaded csv:labels_12_fl.csv\n",
      "Loaded csv:labels_1_fl.csv\n",
      "Loaded csv:labels_2_fl.csv\n",
      "Loaded csv:labels_3_fl.csv\n",
      "Loaded csv:labels_4_fl.csv\n",
      "Loaded csv:labels_5_fl.csv\n",
      "Loaded csv:labels_6_fl.csv\n",
      "Loaded csv:labels_7_fl.csv\n",
      "Loaded csv:labels_8_fl.csv\n",
      "Loaded csv:labels_9_fl.csv\n",
      "Pixel scaling: {0: 1, 9: '0.103', 10: '0.103', 11: '0.103', 1: 1, 2: '0.103', 3: '0.103', 4: '0.103', 5: '0.103', 6: '0.103', 7: '0.103', 8: '0.103'}\n"
     ]
    }
   ],
   "source": [
    "files_dir = r'C:\\Users\\roumba\\Documents\\Software\\deep-events\\original_data'\n",
    "images_dir = '221123_mtStayGold_U2OS_ZEISS_fl'\n",
    "joined_path = os.path.join(files_dir, images_dir)\n",
    "size=(2048,2048)\n",
    "img,input_name,output_name,datacsv,pixel_size={},{},{},{},{}\n",
    "\n",
    "for input_file in os.listdir(joined_path):\n",
    "        joined_file_path = os.path.join(files_dir, images_dir, input_file)\n",
    "        if '.tif' in input_file:\n",
    "            tif  = tifffile.TiffFile(joined_file_path)\n",
    "            mdInfoDict = xmltodict.parse(tif.ome_metadata, force_list={'Plane'})\n",
    "            date, cell_type, dye, bf_fl, index  = input_file.split('_')\n",
    "            number, ome, tiff= index.split('.')\n",
    "            if '@PhysicalSizeX' in mdInfoDict['OME']['Image']['Pixels']:\n",
    "                pixel_size_value=1\n",
    "                pixel_size[int(number)-1]=mdInfoDict['OME']['Image']['Pixels']['@PhysicalSizeX']\n",
    "            else:\n",
    "                pixel_size_value=0\n",
    "                pixel_size[int(number)-1]=1\n",
    "            img[int(number)-1] = Image.open(joined_file_path)\n",
    "            input_name[int(number)-1]= f'points_{date}_{cell_type}_{bf_fl}_{number}'\n",
    "            output_name[int(number)-1]= f'image_{date}_{cell_type}_{bf_fl}_{number}'\n",
    "            print('Loaded image:'+input_file)\n",
    "        else:\n",
    "            labels, index, bf_fl  = input_file.split('_')\n",
    "            datacsv[int(index)-1] = pd.read_csv(joined_file_path)\n",
    "            print('Loaded csv:'+ input_file)\n",
    "print('Pixel scaling:',pixel_size)\n",
    "max_number=int(len(datacsv))   "
   ]
  },
  {
   "cell_type": "markdown",
   "metadata": {},
   "source": [
    "## Get all Gaussian Points of Interest ##"
   ]
  },
  {
   "cell_type": "code",
   "execution_count": 3,
   "metadata": {},
   "outputs": [
    {
     "name": "stderr",
     "output_type": "stream",
     "text": [
      "100%|██████████| 20/20 [00:08<00:00,  2.39it/s]\n",
      "100%|██████████| 20/20 [00:05<00:00,  3.86it/s]\n",
      "100%|██████████| 20/20 [00:05<00:00,  3.85it/s]\n",
      "100%|██████████| 20/20 [00:05<00:00,  3.71it/s]\n",
      "100%|██████████| 16/16 [00:04<00:00,  3.77it/s]\n",
      "100%|██████████| 16/16 [00:04<00:00,  3.71it/s]\n",
      "100%|██████████| 16/16 [00:04<00:00,  3.54it/s]\n",
      "100%|██████████| 16/16 [00:04<00:00,  3.62it/s]\n",
      "100%|██████████| 70/70 [00:17<00:00,  3.99it/s]\n",
      "100%|██████████| 70/70 [00:17<00:00,  3.96it/s]\n",
      "100%|██████████| 70/70 [00:17<00:00,  3.91it/s]\n",
      "100%|██████████| 70/70 [00:18<00:00,  3.78it/s]\n",
      "100%|██████████| 31/31 [00:08<00:00,  3.70it/s]\n",
      "100%|██████████| 31/31 [00:07<00:00,  4.16it/s]\n",
      "100%|██████████| 31/31 [00:08<00:00,  3.69it/s]\n",
      "100%|██████████| 31/31 [00:08<00:00,  3.69it/s]\n",
      "100%|██████████| 18/18 [00:04<00:00,  3.68it/s]\n",
      "100%|██████████| 18/18 [00:04<00:00,  4.04it/s]\n",
      "100%|██████████| 18/18 [00:05<00:00,  3.60it/s]\n",
      "100%|██████████| 18/18 [00:04<00:00,  3.87it/s]\n",
      "100%|██████████| 31/31 [00:08<00:00,  3.71it/s]\n",
      "100%|██████████| 31/31 [00:07<00:00,  3.91it/s]\n",
      "100%|██████████| 31/31 [00:07<00:00,  4.01it/s]\n",
      "100%|██████████| 31/31 [00:08<00:00,  3.74it/s]\n",
      "100%|██████████| 23/23 [00:06<00:00,  3.61it/s]\n",
      "100%|██████████| 23/23 [00:06<00:00,  3.63it/s]\n",
      "100%|██████████| 23/23 [00:06<00:00,  3.70it/s]\n",
      "100%|██████████| 23/23 [00:05<00:00,  4.04it/s]\n",
      "100%|██████████| 49/49 [00:13<00:00,  3.66it/s]\n",
      "100%|██████████| 49/49 [00:12<00:00,  3.92it/s]\n",
      "100%|██████████| 49/49 [00:12<00:00,  3.78it/s]\n",
      "100%|██████████| 49/49 [00:13<00:00,  3.65it/s]\n",
      "100%|██████████| 84/84 [00:21<00:00,  3.85it/s]\n",
      "100%|██████████| 84/84 [00:22<00:00,  3.78it/s]\n",
      "100%|██████████| 84/84 [00:23<00:00,  3.65it/s]\n",
      "100%|██████████| 84/84 [00:22<00:00,  3.68it/s]\n",
      "100%|██████████| 93/93 [00:24<00:00,  3.72it/s]\n",
      "100%|██████████| 93/93 [00:24<00:00,  3.83it/s]\n",
      "100%|██████████| 93/93 [00:23<00:00,  3.89it/s]\n",
      "100%|██████████| 93/93 [00:24<00:00,  3.75it/s]\n",
      "100%|██████████| 24/24 [00:06<00:00,  3.63it/s]\n",
      "100%|██████████| 24/24 [00:06<00:00,  3.74it/s]\n",
      "100%|██████████| 24/24 [00:06<00:00,  3.84it/s]\n",
      "100%|██████████| 24/24 [00:06<00:00,  3.59it/s]\n",
      "100%|██████████| 47/47 [00:12<00:00,  3.73it/s]\n",
      "100%|██████████| 47/47 [00:12<00:00,  3.66it/s]\n",
      "100%|██████████| 47/47 [00:12<00:00,  3.67it/s]\n",
      "100%|██████████| 47/47 [00:12<00:00,  3.71it/s]\n"
     ]
    }
   ],
   "source": [
    "for x in range(max_number):\n",
    "    csv=datacsv[x]\n",
    "    im=img[x]\n",
    "    for i in range(3,7,1):\n",
    "        sigma=(i,i)\n",
    "        s=sigma[0]\n",
    "        in_name=f'{input_name[x]}_sigma{s}.tiff'\n",
    "        framenum=im.n_frames\n",
    "        poi(csv,in_name,sigma,size,framenum)"
   ]
  },
  {
   "cell_type": "markdown",
   "metadata": {},
   "source": [
    "## Cut Images and Gaussian POIs ##"
   ]
  },
  {
   "cell_type": "code",
   "execution_count": 3,
   "metadata": {},
   "outputs": [
    {
     "name": "stdout",
     "output_type": "stream",
     "text": [
      "file number: 0\n",
      "sigma: 3\n",
      "file number: 1\n",
      "sigma: 3\n",
      "file number: 2\n",
      "sigma: 3\n",
      "file number: 3\n",
      "sigma: 3\n",
      "file number: 4\n",
      "sigma: 3\n",
      "file number: 5\n",
      "sigma: 3\n",
      "file number: 6\n",
      "sigma: 3\n",
      "file number: 7\n",
      "sigma: 3\n",
      "file number: 8\n",
      "sigma: 3\n",
      "file number: 9\n",
      "sigma: 3\n",
      "file number: 10\n",
      "sigma: 3\n",
      "file number: 11\n",
      "sigma: 3\n"
     ]
    }
   ],
   "source": [
    "base_dir= r'C:\\Users\\roumba\\Documents\\Software\\deep-events'\n",
    "training_dir= r'C:\\Users\\roumba\\Documents\\Software\\deep-events\\training_data'\n",
    "folder_name=images_dir+'_pos'\n",
    "filepath= os.path.join(training_dir , folder_name)\n",
    "\n",
    "for x in range(max_number):\n",
    "    csv=datacsv[x]\n",
    "    im=img[x]\n",
    "    print('file number:',x)\n",
    "    scale_value=float(pixel_size[x])\n",
    "    csv['axis-1']=csv['axis-1']*(1/scale_value)\n",
    "    csv['axis-2']=csv['axis-2']*(1/scale_value)\n",
    "    for i in range(3,4,1):\n",
    "        sigma=(i,i)\n",
    "        s=sigma[0]\n",
    "        print('sigma:',s)\n",
    "        in_name=f'{input_name[x]}_sigma{s}.tiff'\n",
    "        out_name=f'{output_name[x]}'\n",
    "        out_name_g=f'{output_name[x]}_sigma{s}'\n",
    "    \n",
    "        list1=event_separation(csv)\n",
    "        l=len(list1)\n",
    "        image_crop(l,list1, csv, im,0, out_name,filepath)\n",
    "\n",
    "        gauss=base_dir+f'\\{in_name}'\n",
    "        gauss_image=Image.open(gauss)\n",
    "        image_crop(l,list1, csv, gauss_image,1, out_name_g,filepath)"
   ]
  },
  {
   "cell_type": "markdown",
   "metadata": {},
   "source": [
    "## Cut Negative Frames ##"
   ]
  },
  {
   "cell_type": "code",
   "execution_count": 3,
   "metadata": {},
   "outputs": [
    {
     "name": "stdout",
     "output_type": "stream",
     "text": [
      "file number: 0\n",
      "file number: 1\n",
      "file number: 2\n",
      "file number: 3\n",
      "file number: 4\n",
      "file number: 5\n",
      "file number: 6\n",
      "file number: 7\n",
      "file number: 8\n",
      "file number: 9\n",
      "file number: 10\n",
      "file number: 11\n"
     ]
    }
   ],
   "source": [
    "base_dir= r'C:\\Users\\roumba\\Documents\\Software\\deep-events'\n",
    "training_dir= r'C:\\Users\\roumba\\Documents\\Software\\deep-events\\training_data'\n",
    "folder_name=images_dir+'_neg'\n",
    "filepath= os.path.join(training_dir , folder_name)\n",
    "from myfunctions import image_crop_negative\n",
    "\n",
    "for x in range(max_number):\n",
    "    csv=datacsv[x]\n",
    "    im=img[x]\n",
    "    print('file number:',x)\n",
    "    out_name=f'{output_name[x]}'\n",
    "\n",
    "    list1=event_separation(csv)\n",
    "    l=len(list1)\n",
    "    image_crop_negative(l,list1, csv, im, out_name,filepath)"
   ]
  }
 ],
 "metadata": {
  "kernelspec": {
   "display_name": "Python 3.10.7 ('.env': venv)",
   "language": "python",
   "name": "python3"
  },
  "language_info": {
   "codemirror_mode": {
    "name": "ipython",
    "version": 3
   },
   "file_extension": ".py",
   "mimetype": "text/x-python",
   "name": "python",
   "nbconvert_exporter": "python",
   "pygments_lexer": "ipython3",
   "version": "3.10.7"
  },
  "orig_nbformat": 4,
  "vscode": {
   "interpreter": {
    "hash": "1eaf8819518d82bc7e7f729f546a337f692f85bf6d00cdfaf0712e2fc6595813"
   }
  }
 },
 "nbformat": 4,
 "nbformat_minor": 2
}
