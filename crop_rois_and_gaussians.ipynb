{
 "cells": [
  {
   "cell_type": "code",
   "execution_count": 29,
   "metadata": {},
   "outputs": [],
   "source": [
    "from PIL import Image\n",
    "import pandas as pd\n",
    "import numpy as np\n",
    "import matplotlib.pyplot as plt\n",
    "from os import path\n",
    "import xmltodict\n",
    "from myfunctions import event_separation , image_crop, image_crop_negative, poi\n",
    "import tifffile"
   ]
  },
  {
   "cell_type": "markdown",
   "metadata": {},
   "source": [
    "## Input data from a folder ##"
   ]
  },
  {
   "cell_type": "code",
   "execution_count": 43,
   "metadata": {},
   "outputs": [
    {
     "name": "stdout",
     "output_type": "stream",
     "text": [
      "Loaded image:221123_U2OS_mitostaygold_GFP_1.ome.tif\n",
      "Loaded image:221123_U2OS_mitostaygold_GFP_10.ome.tif\n",
      "Loaded image:221123_U2OS_mitostaygold_GFP_11.ome.tif\n",
      "Loaded image:221123_U2OS_mitostaygold_GFP_12.ome.tif\n",
      "Loaded image:221123_U2OS_mitostaygold_GFP_2.ome.tif\n",
      "Loaded image:221123_U2OS_mitostaygold_GFP_3.ome.tif\n",
      "Loaded image:221123_U2OS_mitostaygold_GFP_4.ome.tif\n",
      "Loaded image:221123_U2OS_mitostaygold_GFP_5.ome.tif\n",
      "Loaded image:221123_U2OS_mitostaygold_GFP_6.ome.tif\n",
      "Loaded image:221123_U2OS_mitostaygold_GFP_7.ome.tif\n",
      "Loaded image:221123_U2OS_mitostaygold_GFP_8.ome.tif\n",
      "Loaded image:221123_U2OS_mitostaygold_GFP_9.ome.tif\n",
      "Loaded csv:labels_10_fl.csv\n",
      "Loaded csv:labels_11_fl.csv\n",
      "Loaded csv:labels_12_fl.csv\n",
      "Loaded csv:labels_1_fl.csv\n",
      "Loaded csv:labels_2_fl.csv\n",
      "Loaded csv:labels_3_fl.csv\n",
      "Loaded csv:labels_4_fl.csv\n",
      "Loaded csv:labels_5_fl.csv\n",
      "Loaded csv:labels_6_fl.csv\n",
      "Loaded csv:labels_7_fl.csv\n",
      "Loaded csv:labels_8_fl.csv\n",
      "Loaded csv:labels_9_fl.csv\n",
      "Pixel scaling: {0: 1, 9: 0.103, 10: 0.103, 11: 0.103, 1: 1, 2: 0.103, 3: 1, 4: 0.103, 5: 0.103, 6: 0.103, 7: 1, 8: 0.103}\n"
     ]
    }
   ],
   "source": [
    "files_dir = r'C:\\Users\\roumba\\Documents\\Software\\deep-events\\original_data'\n",
    "images_dir = '221123_mtStayGold_U2OS_ZEISS_fl'\n",
    "joined_path = os.path.join(files_dir, images_dir)\n",
    "size=(2048,2048)\n",
    "img,input_name,output_name,datacsv,pixel_size={},{},{},{},{}\n",
    "\n",
    "for input_file in os.listdir(joined_path):\n",
    "        joined_file_path = os.path.join(files_dir, images_dir, input_file)\n",
    "        if '.tif' in input_file:\n",
    "            tif  = tifffile.TiffFile(joined_file_path)\n",
    "            mdInfoDict = xmltodict.parse(tif.ome_metadata, force_list={'Plane'})\n",
    "            date, cell_type, dye, bf_fl, index  = input_file.split('_')\n",
    "            number, ome, tiff= index.split('.')\n",
    "            ##\n",
    "            if int(number)==1 or int(number)==2 or int(number)==4 or int(number)==8:\n",
    "                pixel_size_value=0\n",
    "                pixel_size[int(number)-1]=1\n",
    "            else:\n",
    "                pixel_size_value=1\n",
    "                pixel_size[int(number)-1]=0.103\n",
    "            ##\n",
    "            img[int(number)-1] = Image.open(joined_file_path)\n",
    "            input_name[int(number)-1]= f'points_{date}_{cell_type}_{bf_fl}_{number}'\n",
    "            output_name[int(number)-1]= f'image_{date}_{cell_type}_{bf_fl}_{number}'\n",
    "            print('Loaded image:'+input_file)\n",
    "        else:\n",
    "            labels, index, bf_fl  = input_file.split('_')\n",
    "            datacsv[int(index)-1] = pd.read_csv(joined_file_path)\n",
    "            print('Loaded csv:'+ input_file)\n",
    "print('Pixel scaling:',pixel_size)\n",
    "max_number=int(len(datacsv))   "
   ]
  },
  {
   "cell_type": "markdown",
   "metadata": {},
   "source": [
    "## Get all Gaussian Points of Interest ##"
   ]
  },
  {
   "cell_type": "code",
   "execution_count": 38,
   "metadata": {},
   "outputs": [
    {
     "name": "stdout",
     "output_type": "stream",
     "text": [
      "scaling by 1.0\n",
      "634.1531761796789\n",
      "634.1531761796789\n"
     ]
    },
    {
     "name": "stderr",
     "output_type": "stream",
     "text": [
      "100%|██████████| 20/20 [00:04<00:00,  4.01it/s]\n",
      "100%|██████████| 20/20 [00:04<00:00,  4.00it/s]\n",
      "100%|██████████| 20/20 [00:04<00:00,  4.18it/s]\n",
      "100%|██████████| 20/20 [00:04<00:00,  4.53it/s]\n",
      "100%|██████████| 20/20 [00:04<00:00,  4.50it/s]\n"
     ]
    },
    {
     "name": "stdout",
     "output_type": "stream",
     "text": [
      "scaling by 1.0\n",
      "1268.532745482331\n",
      "1268.532745482331\n"
     ]
    },
    {
     "name": "stderr",
     "output_type": "stream",
     "text": [
      "100%|██████████| 16/16 [00:03<00:00,  4.43it/s]\n",
      "100%|██████████| 16/16 [00:03<00:00,  4.07it/s]\n",
      "100%|██████████| 16/16 [00:03<00:00,  4.31it/s]\n",
      "100%|██████████| 16/16 [00:03<00:00,  4.32it/s]\n",
      "100%|██████████| 16/16 [00:03<00:00,  4.37it/s]\n"
     ]
    },
    {
     "name": "stdout",
     "output_type": "stream",
     "text": [
      "scaling by 0.103\n",
      "71.45433429848848\n",
      "693.7314009561989\n"
     ]
    },
    {
     "name": "stderr",
     "output_type": "stream",
     "text": [
      "100%|██████████| 42/42 [00:10<00:00,  4.08it/s]\n",
      "100%|██████████| 42/42 [00:10<00:00,  4.15it/s]\n",
      "100%|██████████| 42/42 [00:09<00:00,  4.30it/s]\n",
      "100%|██████████| 42/42 [00:09<00:00,  4.30it/s]\n",
      "100%|██████████| 42/42 [00:10<00:00,  4.02it/s]\n"
     ]
    },
    {
     "name": "stdout",
     "output_type": "stream",
     "text": [
      "scaling by 1.0\n",
      "798.452638600671\n",
      "798.452638600671\n"
     ]
    },
    {
     "name": "stderr",
     "output_type": "stream",
     "text": [
      "100%|██████████| 31/31 [00:07<00:00,  4.01it/s]\n",
      "100%|██████████| 31/31 [00:07<00:00,  3.96it/s]\n",
      "100%|██████████| 31/31 [00:07<00:00,  3.98it/s]\n",
      "100%|██████████| 31/31 [00:07<00:00,  4.04it/s]\n",
      "100%|██████████| 31/31 [00:07<00:00,  4.17it/s]\n"
     ]
    },
    {
     "name": "stdout",
     "output_type": "stream",
     "text": [
      "scaling by 0.103\n",
      "131.35021797124082\n",
      "1275.244834672241\n"
     ]
    },
    {
     "name": "stderr",
     "output_type": "stream",
     "text": [
      "100%|██████████| 17/17 [00:03<00:00,  4.55it/s]\n",
      "100%|██████████| 17/17 [00:03<00:00,  4.50it/s]\n",
      "100%|██████████| 17/17 [00:03<00:00,  4.44it/s]\n",
      "100%|██████████| 17/17 [00:03<00:00,  4.48it/s]\n",
      "100%|██████████| 17/17 [00:04<00:00,  4.19it/s]\n"
     ]
    },
    {
     "name": "stdout",
     "output_type": "stream",
     "text": [
      "scaling by 0.103\n",
      "165.78699733083386\n",
      "1609.5824983576103\n"
     ]
    },
    {
     "name": "stderr",
     "output_type": "stream",
     "text": [
      "100%|██████████| 41/41 [00:09<00:00,  4.14it/s]\n",
      "100%|██████████| 41/41 [00:09<00:00,  4.22it/s]\n",
      "100%|██████████| 41/41 [00:09<00:00,  4.45it/s]\n",
      "100%|██████████| 41/41 [00:09<00:00,  4.43it/s]\n",
      "100%|██████████| 41/41 [00:09<00:00,  4.51it/s]\n"
     ]
    },
    {
     "name": "stdout",
     "output_type": "stream",
     "text": [
      "scaling by 0.103\n",
      "107.17049726966415\n",
      "1040.490264754021\n"
     ]
    },
    {
     "name": "stderr",
     "output_type": "stream",
     "text": [
      "100%|██████████| 29/29 [00:06<00:00,  4.46it/s]\n",
      "100%|██████████| 29/29 [00:07<00:00,  4.00it/s]\n",
      "100%|██████████| 29/29 [00:07<00:00,  4.09it/s]\n",
      "100%|██████████| 29/29 [00:07<00:00,  4.07it/s]\n",
      "100%|██████████| 29/29 [00:07<00:00,  3.98it/s]\n"
     ]
    },
    {
     "name": "stdout",
     "output_type": "stream",
     "text": [
      "scaling by 1.0\n",
      "1647.0650363300715\n",
      "1647.0650363300715\n"
     ]
    },
    {
     "name": "stderr",
     "output_type": "stream",
     "text": [
      "100%|██████████| 49/49 [00:11<00:00,  4.13it/s]\n",
      "100%|██████████| 49/49 [00:12<00:00,  4.08it/s]\n",
      "100%|██████████| 49/49 [00:11<00:00,  4.13it/s]\n",
      "100%|██████████| 49/49 [00:12<00:00,  3.98it/s]\n",
      "100%|██████████| 49/49 [00:12<00:00,  3.77it/s]\n"
     ]
    },
    {
     "name": "stdout",
     "output_type": "stream",
     "text": [
      "scaling by 0.103\n",
      "110.61643625126248\n",
      "1073.945983021966\n"
     ]
    },
    {
     "name": "stderr",
     "output_type": "stream",
     "text": [
      "100%|██████████| 79/79 [00:29<00:00,  2.66it/s]\n",
      "100%|██████████| 79/79 [00:19<00:00,  4.10it/s]\n",
      "100%|██████████| 79/79 [00:18<00:00,  4.18it/s]\n",
      "100%|██████████| 79/79 [00:18<00:00,  4.35it/s]\n",
      "100%|██████████| 79/79 [00:18<00:00,  4.24it/s]\n"
     ]
    },
    {
     "name": "stdout",
     "output_type": "stream",
     "text": [
      "scaling by 0.103\n",
      "52.57821758789535\n",
      "510.4681319213142\n"
     ]
    },
    {
     "name": "stderr",
     "output_type": "stream",
     "text": [
      "100%|██████████| 95/95 [00:22<00:00,  4.30it/s]\n",
      "100%|██████████| 95/95 [00:21<00:00,  4.34it/s]\n",
      "100%|██████████| 95/95 [00:21<00:00,  4.36it/s]\n",
      "100%|██████████| 95/95 [00:21<00:00,  4.33it/s]\n",
      "100%|██████████| 95/95 [00:20<00:00,  4.60it/s]\n"
     ]
    },
    {
     "name": "stdout",
     "output_type": "stream",
     "text": [
      "scaling by 0.103\n",
      "35.16101984945009\n",
      "341.36912475194265\n"
     ]
    },
    {
     "name": "stderr",
     "output_type": "stream",
     "text": [
      "100%|██████████| 27/27 [00:06<00:00,  4.12it/s]\n",
      "100%|██████████| 27/27 [00:06<00:00,  4.46it/s]\n",
      "100%|██████████| 27/27 [00:05<00:00,  4.62it/s]\n",
      "100%|██████████| 27/27 [00:06<00:00,  4.05it/s]\n",
      "100%|██████████| 27/27 [00:05<00:00,  4.51it/s]\n"
     ]
    },
    {
     "name": "stdout",
     "output_type": "stream",
     "text": [
      "scaling by 0.103\n",
      "60.54719331110367\n",
      "587.8368282631425\n"
     ]
    },
    {
     "name": "stderr",
     "output_type": "stream",
     "text": [
      "100%|██████████| 50/50 [00:11<00:00,  4.29it/s]\n",
      "100%|██████████| 50/50 [00:11<00:00,  4.43it/s]\n",
      "100%|██████████| 50/50 [00:11<00:00,  4.50it/s]\n",
      "100%|██████████| 50/50 [00:11<00:00,  4.47it/s]\n",
      "100%|██████████| 50/50 [00:11<00:00,  4.22it/s]\n"
     ]
    }
   ],
   "source": [
    "for x in range(max_number):\n",
    "    csv=datacsv[x]\n",
    "    im=img[x]\n",
    "    ##\n",
    "    scale_value=float(pixel_size[x])\n",
    "    print('scaling by',scale_value)\n",
    "    print(csv['axis-1'][1])\n",
    "    csv['axis-1']=csv['axis-1']*(1/scale_value)\n",
    "    print(csv['axis-1'][1])\n",
    "    csv['axis-2']=csv['axis-2']*(1/scale_value)\n",
    "    ##\n",
    "    for i in range(2,7,1):\n",
    "        sigma=(i,i)\n",
    "        s=sigma[0]\n",
    "        in_name=f'{input_name[x]}_sigma{s}.tiff'\n",
    "        framenum=im.n_frames\n",
    "        poi(csv,in_name,sigma,size,framenum)"
   ]
  },
  {
   "cell_type": "markdown",
   "metadata": {},
   "source": [
    "## Cut Images and Gaussian POIs ##"
   ]
  },
  {
   "cell_type": "code",
   "execution_count": 45,
   "metadata": {},
   "outputs": [
    {
     "name": "stdout",
     "output_type": "stream",
     "text": [
      "file number: 1\n",
      "scaling by 1.0\n",
      "634.1531761796789\n",
      "634.1531761796789\n",
      "sigma: 2\n",
      "sigma: 3\n",
      "sigma: 4\n",
      "sigma: 5\n",
      "sigma: 6\n",
      "file number: 2\n",
      "scaling by 1.0\n",
      "1268.532745482331\n",
      "1268.532745482331\n",
      "sigma: 2\n",
      "sigma: 3\n",
      "sigma: 4\n",
      "sigma: 5\n",
      "sigma: 6\n",
      "file number: 3\n",
      "scaling by 0.103\n",
      "71.45433429848848\n",
      "693.7314009561989\n",
      "sigma: 2\n",
      "sigma: 3\n",
      "sigma: 4\n",
      "sigma: 5\n",
      "sigma: 6\n",
      "file number: 4\n",
      "scaling by 1.0\n",
      "798.452638600671\n",
      "798.452638600671\n",
      "sigma: 2\n",
      "sigma: 3\n",
      "sigma: 4\n",
      "sigma: 5\n",
      "sigma: 6\n",
      "file number: 5\n",
      "scaling by 0.103\n",
      "131.35021797124082\n",
      "1275.244834672241\n",
      "sigma: 2\n",
      "sigma: 3\n",
      "sigma: 4\n",
      "sigma: 5\n",
      "sigma: 6\n",
      "file number: 6\n",
      "scaling by 0.103\n",
      "165.78699733083386\n",
      "1609.5824983576103\n",
      "sigma: 2\n",
      "sigma: 3\n",
      "sigma: 4\n",
      "sigma: 5\n",
      "sigma: 6\n",
      "file number: 7\n",
      "scaling by 0.103\n",
      "107.17049726966415\n",
      "1040.490264754021\n",
      "sigma: 2\n",
      "sigma: 3\n",
      "sigma: 4\n",
      "sigma: 5\n",
      "sigma: 6\n",
      "file number: 8\n",
      "scaling by 1.0\n",
      "1647.0650363300715\n",
      "1647.0650363300715\n",
      "sigma: 2\n",
      "sigma: 3\n",
      "sigma: 4\n",
      "sigma: 5\n",
      "sigma: 6\n",
      "file number: 9\n",
      "scaling by 0.103\n",
      "110.61643625126248\n",
      "1073.945983021966\n",
      "sigma: 2\n",
      "sigma: 3\n",
      "sigma: 4\n",
      "sigma: 5\n",
      "sigma: 6\n",
      "file number: 10\n",
      "scaling by 0.103\n",
      "52.57821758789535\n",
      "510.4681319213142\n",
      "sigma: 2\n",
      "sigma: 3\n",
      "sigma: 4\n",
      "sigma: 5\n",
      "sigma: 6\n",
      "file number: 11\n",
      "scaling by 0.103\n",
      "35.16101984945009\n",
      "341.36912475194265\n",
      "sigma: 2\n",
      "sigma: 3\n",
      "sigma: 4\n",
      "sigma: 5\n",
      "sigma: 6\n",
      "file number: 12\n",
      "scaling by 0.103\n",
      "60.54719331110367\n",
      "587.8368282631425\n",
      "sigma: 2\n",
      "sigma: 3\n",
      "sigma: 4\n",
      "sigma: 5\n",
      "sigma: 6\n"
     ]
    }
   ],
   "source": [
    "base_dir= r'C:\\Users\\roumba\\Documents\\Software\\deep-events'\n",
    "training_dir= r'C:\\Users\\roumba\\Documents\\Software\\deep-events\\training_data'\n",
    "folder_name=images_dir+'_pos'\n",
    "filepath= os.path.join(training_dir , folder_name)\n",
    "\n",
    "for x in range(max_number):\n",
    "    csv=datacsv[x]\n",
    "    im=img[x]\n",
    "    print('file number:',x+1)\n",
    "    ##\n",
    "    # scale_value=float(pixel_size[x])\n",
    "    # print('scaling by',scale_value)\n",
    "    # print(csv['axis-1'][1])\n",
    "    # csv['axis-1']=csv['axis-1']*(1/scale_value)\n",
    "    # print(csv['axis-1'][1])\n",
    "    # csv['axis-2']=csv['axis-2']*(1/scale_value)\n",
    "    ##\n",
    "    list1=event_separation(csv)\n",
    "    l=len(list1)\n",
    "    out_name=f'{output_name[x]}'\n",
    "    image_crop(l,list1, csv, im,0, out_name,filepath)\n",
    "\n",
    "    for i in range(2,7,1):\n",
    "        sigma=(i,i)\n",
    "        s=sigma[0]\n",
    "        print('sigma:',s)\n",
    "        in_name=f'{input_name[x]}_sigma{s}.tiff'\n",
    "        out_name_g=f'{output_name[x]}_sigma{s}'\n",
    "        \n",
    "        gauss=base_dir+f'\\{in_name}'\n",
    "        gauss_image=Image.open(gauss)\n",
    "        image_crop(l,list1, csv, gauss_image,1, out_name_g,filepath)"
   ]
  },
  {
   "cell_type": "markdown",
   "metadata": {},
   "source": [
    "## Cut Negative Frames ##"
   ]
  },
  {
   "cell_type": "code",
   "execution_count": 49,
   "metadata": {},
   "outputs": [
    {
     "name": "stdout",
     "output_type": "stream",
     "text": [
      "file number: 0\n",
      "file number: 1\n",
      "file number: 2\n",
      "file number: 3\n",
      "file number: 4\n",
      "file number: 5\n",
      "file number: 6\n",
      "file number: 7\n",
      "file number: 8\n",
      "file number: 9\n",
      "file number: 10\n",
      "file number: 11\n"
     ]
    }
   ],
   "source": [
    "base_dir= r'C:\\Users\\roumba\\Documents\\Software\\deep-events'\n",
    "training_dir= r'C:\\Users\\roumba\\Documents\\Software\\deep-events\\training_data'\n",
    "folder_name=images_dir+'_neg'\n",
    "filepath= os.path.join(training_dir , folder_name)\n",
    "from myfunctions import image_crop_negative\n",
    "\n",
    "for x in range(max_number):\n",
    "    csv=datacsv[x]\n",
    "    im=img[x]\n",
    "    print('file number:',x)\n",
    "    out_name=f'{output_name[x]}'\n",
    "\n",
    "    list1=event_separation(csv)\n",
    "    l=len(list1)\n",
    "    image_crop_negative(l,list1, csv, im, out_name,filepath)"
   ]
  }
 ],
 "metadata": {
  "kernelspec": {
   "display_name": "Python 3.10.7 ('.env': venv)",
   "language": "python",
   "name": "python3"
  },
  "language_info": {
   "codemirror_mode": {
    "name": "ipython",
    "version": 3
   },
   "file_extension": ".py",
   "mimetype": "text/x-python",
   "name": "python",
   "nbconvert_exporter": "python",
   "pygments_lexer": "ipython3",
   "version": "3.10.7"
  },
  "orig_nbformat": 4,
  "vscode": {
   "interpreter": {
    "hash": "1eaf8819518d82bc7e7f729f546a337f692f85bf6d00cdfaf0712e2fc6595813"
   }
  }
 },
 "nbformat": 4,
 "nbformat_minor": 2
}
