{
 "cells": [
  {
   "cell_type": "code",
   "execution_count": 1,
   "metadata": {},
   "outputs": [],
   "source": [
    "from PIL import Image\n",
    "import pandas as pd\n",
    "import numpy as np\n",
    "import matplotlib.pyplot as plt\n",
    "import plotly.io\n",
    "import plotly.express as px\n",
    "from scipy import ndimage as ndi\n",
    "import imageio\n",
    "from scipy import signal\n",
    "from pathlib import Path\n",
    "import tensorflow_probability as tfp\n",
    "import tensorflow as tf\n",
    "from tqdm import tqdm  \n",
    "from os import path\n",
    "from myfunctions import event_separation , image_crop_save_gauss , image_crop_save , image_crop_negative, poi\n",
    "import tifffile\n"
   ]
  },
  {
   "cell_type": "markdown",
   "metadata": {},
   "source": [
    "## Input data from a folder ##"
   ]
  },
  {
   "cell_type": "code",
   "execution_count": 5,
   "metadata": {},
   "outputs": [
    {
     "name": "stdout",
     "output_type": "stream",
     "text": [
      "Loaded image:220923_cos7_mitotrackergreen_GFP_1.ome.tif\n",
      "Loaded image:220923_cos7_mitotrackergreen_GFP_2.ome.tif\n",
      "Loaded image:220923_cos7_mitotrackergreen_GFP_3.ome.tif\n",
      "Loaded image:220923_cos7_mitotrackergreen_GFP_4.ome.tif\n",
      "Loaded image:220923_cos7_mitotrackergreen_GFP_5.ome.tif\n",
      "Loaded image:220923_cos7_mitotrackergreen_GFP_6.ome.tif\n",
      "Loaded csv:labels_1_f.csv\n",
      "Loaded csv:labels_2_f.csv\n",
      "Loaded csv:labels_3_f.csv\n",
      "Loaded csv:labels_4_f.csv\n",
      "Loaded csv:labels_5_f.csv\n",
      "Loaded csv:labels_6_f.csv\n"
     ]
    }
   ],
   "source": [
    "files_dir = r'C:\\Users\\roumba\\Documents\\Software\\deep-events\\original_data'\n",
    "images_dir = '220927_mitotrackergreen_cos7_ZEISS_fl'\n",
    "joined_path = os.path.join(files_dir, images_dir)\n",
    "size=(2048,2048)\n",
    "img,input_name,output_name,datacsv={},{},{},{}\n",
    "\n",
    "for input_file in os.listdir(joined_path):\n",
    "        joined_file_path = os.path.join(files_dir, images_dir, input_file)\n",
    "        if '.tif' in input_file:\n",
    "            date, cell_type, dye, bf_fl, index  = input_file.split('_')\n",
    "            number, ome, tiff= index.split('.')\n",
    "            img[int(number)-1] = Image.open(joined_file_path)\n",
    "            input_name[int(number)-1]= f'points_{date}_{cell_type}_{bf_fl}_{number}'\n",
    "            output_name[int(number)-1]= f'image_{date}_{cell_type}_{bf_fl}_{number}'\n",
    "            print('Loaded image:'+input_file)\n",
    "        else:\n",
    "            labels, index, bf_fl  = input_file.split('_')\n",
    "            datacsv[int(index)-1] = pd.read_csv(joined_file_path)\n",
    "            print('Loaded csv:'+ input_file)\n",
    "max_number=int(number)        \n"
   ]
  },
  {
   "cell_type": "markdown",
   "metadata": {},
   "source": [
    "## Get all Gaussian Points of Interest ##"
   ]
  },
  {
   "cell_type": "code",
   "execution_count": 6,
   "metadata": {},
   "outputs": [
    {
     "name": "stderr",
     "output_type": "stream",
     "text": [
      "100%|██████████| 96/96 [00:27<00:00,  3.51it/s]\n",
      "100%|██████████| 96/96 [00:21<00:00,  4.48it/s]\n",
      "100%|██████████| 96/96 [00:21<00:00,  4.47it/s]\n",
      "100%|██████████| 96/96 [00:21<00:00,  4.49it/s]\n",
      "100%|██████████| 96/96 [00:21<00:00,  4.56it/s]\n",
      "100%|██████████| 96/96 [00:21<00:00,  4.53it/s]\n",
      "100%|██████████| 96/96 [00:21<00:00,  4.49it/s]\n",
      "100%|██████████| 96/96 [00:21<00:00,  4.50it/s]\n",
      "100%|██████████| 96/96 [00:21<00:00,  4.49it/s]\n",
      "100%|██████████| 238/238 [00:52<00:00,  4.54it/s]\n",
      "100%|██████████| 238/238 [00:52<00:00,  4.51it/s]\n",
      "100%|██████████| 238/238 [00:52<00:00,  4.53it/s]\n",
      "100%|██████████| 238/238 [00:52<00:00,  4.54it/s]\n",
      "100%|██████████| 238/238 [00:52<00:00,  4.55it/s]\n",
      "100%|██████████| 238/238 [01:47<00:00,  2.22it/s]\n",
      "100%|██████████| 238/238 [00:54<00:00,  4.38it/s]\n",
      "100%|██████████| 238/238 [00:54<00:00,  4.39it/s]\n",
      "100%|██████████| 238/238 [00:56<00:00,  4.18it/s]\n",
      "100%|██████████| 70/70 [00:17<00:00,  4.08it/s]\n",
      "100%|██████████| 70/70 [00:17<00:00,  4.11it/s]\n",
      "100%|██████████| 70/70 [00:17<00:00,  4.09it/s]\n",
      "100%|██████████| 70/70 [00:16<00:00,  4.12it/s]\n",
      "100%|██████████| 70/70 [00:17<00:00,  4.10it/s]\n",
      "100%|██████████| 70/70 [00:16<00:00,  4.36it/s]\n",
      "100%|██████████| 70/70 [00:17<00:00,  4.08it/s]\n",
      "100%|██████████| 70/70 [00:17<00:00,  4.06it/s]\n",
      "100%|██████████| 70/70 [00:17<00:00,  4.11it/s]\n",
      "100%|██████████| 10/10 [00:02<00:00,  3.94it/s]\n",
      "100%|██████████| 10/10 [00:02<00:00,  4.01it/s]\n",
      "100%|██████████| 10/10 [00:02<00:00,  3.98it/s]\n",
      "100%|██████████| 10/10 [00:02<00:00,  3.76it/s]\n",
      "100%|██████████| 10/10 [00:02<00:00,  4.05it/s]\n",
      "100%|██████████| 10/10 [00:02<00:00,  3.80it/s]\n",
      "100%|██████████| 10/10 [00:02<00:00,  3.99it/s]\n",
      "100%|██████████| 10/10 [00:02<00:00,  4.12it/s]\n",
      "100%|██████████| 10/10 [00:02<00:00,  4.07it/s]\n",
      "100%|██████████| 14/14 [00:03<00:00,  4.31it/s]\n",
      "100%|██████████| 14/14 [00:03<00:00,  4.43it/s]\n",
      "100%|██████████| 14/14 [00:03<00:00,  4.10it/s]\n",
      "100%|██████████| 14/14 [00:03<00:00,  3.88it/s]\n",
      "100%|██████████| 14/14 [00:03<00:00,  4.02it/s]\n",
      "100%|██████████| 14/14 [00:03<00:00,  3.92it/s]\n",
      "100%|██████████| 14/14 [00:03<00:00,  3.90it/s]\n",
      "100%|██████████| 14/14 [00:03<00:00,  4.00it/s]\n",
      "100%|██████████| 14/14 [00:03<00:00,  3.90it/s]\n",
      "100%|██████████| 51/51 [00:12<00:00,  4.12it/s]\n",
      "100%|██████████| 51/51 [00:12<00:00,  4.12it/s]\n",
      "100%|██████████| 51/51 [00:12<00:00,  4.10it/s]\n",
      "100%|██████████| 51/51 [00:11<00:00,  4.51it/s]\n",
      "100%|██████████| 51/51 [00:12<00:00,  4.05it/s]\n",
      "100%|██████████| 51/51 [00:12<00:00,  4.13it/s]\n",
      "100%|██████████| 51/51 [00:12<00:00,  4.14it/s]\n",
      "100%|██████████| 51/51 [00:12<00:00,  4.15it/s]\n",
      "100%|██████████| 51/51 [00:12<00:00,  4.11it/s]\n"
     ]
    }
   ],
   "source": [
    "for x in range(max_number):\n",
    "    csv=datacsv[x]\n",
    "    im=img[x]\n",
    "    for i in range(1,10,1):\n",
    "        sigma=(i,i)\n",
    "        s=sigma[0]\n",
    "        in_name=f'{input_name[x]}_sigma{s}.tiff'\n",
    "        framenum=im.n_frames\n",
    "        poi(csv,in_name,sigma,size,framenum)"
   ]
  },
  {
   "cell_type": "markdown",
   "metadata": {},
   "source": [
    "## Cut Images and Gaussian POIs ##"
   ]
  },
  {
   "cell_type": "code",
   "execution_count": 12,
   "metadata": {},
   "outputs": [],
   "source": [
    "base_dir= r'C:\\Users\\roumba\\Documents\\Software\\deep-events'\n",
    "training_dir= r'C:\\Users\\roumba\\Documents\\Software\\deep-events\\training_data'\n",
    "folder_name=images_dir+'_pos'\n",
    "filepath= os.path.join(training_dir , folder_name)\n",
    "\n",
    "for x in range(2,max_number):\n",
    "    csv=datacsv[x]\n",
    "    im=img[x]\n",
    "    for i in range(1,10,1):\n",
    "        sigma=(i,i)\n",
    "        s=sigma[0]\n",
    "        in_name=f'{input_name[x]}_sigma{s}.tiff'\n",
    "        out_name=f'{output_name[x]}'\n",
    "        out_name_g=f'{output_name[x]}_sigma{s}'\n",
    "    \n",
    "        list1=event_separation(csv)\n",
    "        l=len(list1)\n",
    "        image_crop_save(l,list1, csv, im, out_name,filepath)\n",
    "\n",
    "        gauss=base_dir+f'\\{in_name}'\n",
    "        gauss_image=Image.open(gauss)\n",
    "        image_crop_save_gauss(l,list1, csv, gauss_image, out_name_g,filepath)"
   ]
  },
  {
   "cell_type": "code",
   "execution_count": 21,
   "metadata": {},
   "outputs": [
    {
     "ename": "ValueError",
     "evalue": "cannot convert float NaN to integer",
     "output_type": "error",
     "traceback": [
      "\u001b[1;31m---------------------------------------------------------------------------\u001b[0m",
      "\u001b[1;31mValueError\u001b[0m                                Traceback (most recent call last)",
      "Cell \u001b[1;32mIn [21], line 12\u001b[0m\n\u001b[0;32m     10\u001b[0m gauss\u001b[39m=\u001b[39mbase_dir\u001b[39m+\u001b[39m\u001b[39mf\u001b[39m\u001b[39m'\u001b[39m\u001b[39m\\\u001b[39m\u001b[39m{\u001b[39;00min_name\u001b[39m}\u001b[39;00m\u001b[39m'\u001b[39m\n\u001b[0;32m     11\u001b[0m gauss_image\u001b[39m=\u001b[39mImage\u001b[39m.\u001b[39mopen(gauss)\n\u001b[1;32m---> 12\u001b[0m image_crop_save_gauss(l,list1, csv, gauss_image, out_name_g,filepath)\n\u001b[0;32m     14\u001b[0m list1\u001b[39m=\u001b[39mevent_separation(csv)\n\u001b[0;32m     15\u001b[0m l\u001b[39m=\u001b[39m\u001b[39mlen\u001b[39m(list1)\n",
      "File \u001b[1;32mc:\\Users\\roumba\\Documents\\Software\\deep-events\\myfunctions.py:102\u001b[0m, in \u001b[0;36mimage_crop_save_gauss\u001b[1;34m(l, list_of_divisions, data, img, outputname, foldname)\u001b[0m\n\u001b[0;32m     99\u001b[0m     maxlist\u001b[39m=\u001b[39mdivision_list[index_list1]\n\u001b[0;32m    101\u001b[0m data_croped\u001b[39m=\u001b[39m data\u001b[39m.\u001b[39miloc[minlist:maxlist,\u001b[39m1\u001b[39m:\u001b[39m4\u001b[39m]\n\u001b[1;32m--> 102\u001b[0m frame1\u001b[39m=\u001b[39m\u001b[39mint\u001b[39;49m(data_croped[\u001b[39m'\u001b[39;49m\u001b[39maxis-0\u001b[39;49m\u001b[39m'\u001b[39;49m]\u001b[39m.\u001b[39;49mmin())\n\u001b[0;32m    103\u001b[0m frame2\u001b[39m=\u001b[39m\u001b[39mint\u001b[39m(data_croped[\u001b[39m'\u001b[39m\u001b[39maxis-0\u001b[39m\u001b[39m'\u001b[39m]\u001b[39m.\u001b[39mmax())\n\u001b[0;32m    104\u001b[0m ymean \u001b[39m=\u001b[39m data_croped[\u001b[39m'\u001b[39m\u001b[39maxis-1\u001b[39m\u001b[39m'\u001b[39m]\u001b[39m.\u001b[39mmean()\n",
      "\u001b[1;31mValueError\u001b[0m: cannot convert float NaN to integer"
     ]
    }
   ],
   "source": [
    "csv=datacsv[1]\n",
    "im=img[1]\n",
    "for i in range(9,10,1):\n",
    "    sigma=(i,i)\n",
    "    s=sigma[0]\n",
    "    in_name=f'{input_name[x]}_sigma{s}.tiff'\n",
    "    out_name=f'{output_name[x]}'\n",
    "    out_name_g=f'{output_name[x]}_sigma{s}'\n",
    "\n",
    "    gauss=base_dir+f'\\{in_name}'\n",
    "    gauss_image=Image.open(gauss)\n",
    "    image_crop_save_gauss(l,list1, csv, gauss_image, out_name_g,filepath)\n",
    "    \n",
    "    list1=event_separation(csv)\n",
    "    l=len(list1)\n",
    "    image_crop_save(l,list1, csv, im, out_name,filepath)\n",
    "\n",
    "    "
   ]
  },
  {
   "cell_type": "markdown",
   "metadata": {},
   "source": [
    "## Cut Negative Frames ##"
   ]
  },
  {
   "cell_type": "code",
   "execution_count": null,
   "metadata": {},
   "outputs": [
    {
     "ename": "FileNotFoundError",
     "evalue": "[Errno 2] No such file or directory: 'C:\\\\Users\\\\roumba\\\\Documents\\\\Software\\\\deep-events\\\\training_data\\\\220922_mtstaygold_U2OS_iSIM_fl_neg\\\\image_220922_mtstaygold_fl_1_0_neg.tiff'",
     "output_type": "error",
     "traceback": [
      "\u001b[1;31m---------------------------------------------------------------------------\u001b[0m",
      "\u001b[1;31mFileNotFoundError\u001b[0m                         Traceback (most recent call last)",
      "Cell \u001b[1;32mIn [5], line 9\u001b[0m\n\u001b[0;32m      7\u001b[0m out_name\u001b[39m=\u001b[39moutput_name[x]\n\u001b[0;32m      8\u001b[0m in_name\u001b[39m=\u001b[39minput_name[x] \n\u001b[1;32m----> 9\u001b[0m image_crop_negative(l,list1, csv, im, out_name,filepath)\n",
      "File \u001b[1;32mc:\\Users\\roumba\\Documents\\Software\\deep-events\\myfunctions.py:193\u001b[0m, in \u001b[0;36mimage_crop_negative\u001b[1;34m(l, list_of_divisions, data, img, outputname, foldname)\u001b[0m\n\u001b[0;32m    191\u001b[0m currname_crop_a \u001b[39m=\u001b[39m \u001b[39mf\u001b[39m\u001b[39m'\u001b[39m\u001b[39m{\u001b[39;00moutputname\u001b[39m}\u001b[39;00m\u001b[39m_\u001b[39m\u001b[39m{\u001b[39;00mindex_list\u001b[39m}\u001b[39;00m\u001b[39m_neg.tiff\u001b[39m\u001b[39m'\u001b[39m \n\u001b[0;32m    192\u001b[0m savepath\u001b[39m=\u001b[39mos\u001b[39m.\u001b[39mpath\u001b[39m.\u001b[39mjoin(foldname,currname_crop_a)\n\u001b[1;32m--> 193\u001b[0m tifffile\u001b[39m.\u001b[39;49mimwrite(savepath, (dataar_a)\u001b[39m.\u001b[39;49mastype(np\u001b[39m.\u001b[39;49muint16), photometric\u001b[39m=\u001b[39;49m\u001b[39m'\u001b[39;49m\u001b[39mminisblack\u001b[39;49m\u001b[39m'\u001b[39;49m)\n",
      "File \u001b[1;32mc:\\Users\\roumba\\Documents\\Software\\deep-events\\.env\\lib\\site-packages\\tifffile\\tifffile.py:1146\u001b[0m, in \u001b[0;36mimwrite\u001b[1;34m(file, data, bigtiff, byteorder, imagej, ome, shaped, append, shape, dtype, photometric, planarconfig, extrasamples, volumetric, tile, rowsperstrip, bitspersample, compression, compressionargs, predictor, subsampling, jpegtables, colormap, description, datetime, resolution, resolutionunit, subfiletype, software, metadata, extratags, contiguous, truncate, align, maxworkers, returnoffset)\u001b[0m\n\u001b[0;32m   1138\u001b[0m \u001b[39mif\u001b[39;00m bigtiff \u001b[39mis\u001b[39;00m \u001b[39mNone\u001b[39;00m:\n\u001b[0;32m   1139\u001b[0m     bigtiff \u001b[39m=\u001b[39m (\n\u001b[0;32m   1140\u001b[0m         datasize \u001b[39m>\u001b[39m \u001b[39m2\u001b[39m\u001b[39m*\u001b[39m\u001b[39m*\u001b[39m\u001b[39m32\u001b[39m \u001b[39m-\u001b[39m \u001b[39m2\u001b[39m\u001b[39m*\u001b[39m\u001b[39m*\u001b[39m\u001b[39m25\u001b[39m\n\u001b[0;32m   1141\u001b[0m         \u001b[39mand\u001b[39;00m \u001b[39mnot\u001b[39;00m imagej\n\u001b[0;32m   1142\u001b[0m         \u001b[39mand\u001b[39;00m \u001b[39mnot\u001b[39;00m truncate\n\u001b[0;32m   1143\u001b[0m         \u001b[39mand\u001b[39;00m compression \u001b[39min\u001b[39;00m (\u001b[39mNone\u001b[39;00m, \u001b[39m0\u001b[39m, \u001b[39m1\u001b[39m, \u001b[39m'\u001b[39m\u001b[39mNONE\u001b[39m\u001b[39m'\u001b[39m, \u001b[39m'\u001b[39m\u001b[39mnone\u001b[39m\u001b[39m'\u001b[39m)\n\u001b[0;32m   1144\u001b[0m     )\n\u001b[1;32m-> 1146\u001b[0m \u001b[39mwith\u001b[39;00m TiffWriter(\n\u001b[0;32m   1147\u001b[0m     file,\n\u001b[0;32m   1148\u001b[0m     bigtiff\u001b[39m=\u001b[39;49mbigtiff,\n\u001b[0;32m   1149\u001b[0m     byteorder\u001b[39m=\u001b[39;49mbyteorder,\n\u001b[0;32m   1150\u001b[0m     append\u001b[39m=\u001b[39;49mappend,\n\u001b[0;32m   1151\u001b[0m     imagej\u001b[39m=\u001b[39;49mimagej,\n\u001b[0;32m   1152\u001b[0m     ome\u001b[39m=\u001b[39;49mome,\n\u001b[0;32m   1153\u001b[0m     shaped\u001b[39m=\u001b[39;49mshaped,\n\u001b[0;32m   1154\u001b[0m ) \u001b[39mas\u001b[39;00m tif:\n\u001b[0;32m   1155\u001b[0m     result \u001b[39m=\u001b[39m tif\u001b[39m.\u001b[39mwrite(\n\u001b[0;32m   1156\u001b[0m         data,\n\u001b[0;32m   1157\u001b[0m         shape\u001b[39m=\u001b[39mshape,\n\u001b[1;32m   (...)\u001b[0m\n\u001b[0;32m   1184\u001b[0m         returnoffset\u001b[39m=\u001b[39mreturnoffset,\n\u001b[0;32m   1185\u001b[0m     )\n\u001b[0;32m   1186\u001b[0m \u001b[39mreturn\u001b[39;00m result\n",
      "File \u001b[1;32mc:\\Users\\roumba\\Documents\\Software\\deep-events\\.env\\lib\\site-packages\\tifffile\\tifffile.py:1454\u001b[0m, in \u001b[0;36mTiffWriter.__init__\u001b[1;34m(self, file, bigtiff, byteorder, append, imagej, ome, shaped)\u001b[0m\n\u001b[0;32m   1452\u001b[0m     \u001b[39mself\u001b[39m\u001b[39m.\u001b[39m_fh\u001b[39m.\u001b[39mseek(\u001b[39m0\u001b[39m, os\u001b[39m.\u001b[39mSEEK_END)\n\u001b[0;32m   1453\u001b[0m \u001b[39melse\u001b[39;00m:\n\u001b[1;32m-> 1454\u001b[0m     \u001b[39mself\u001b[39m\u001b[39m.\u001b[39m_fh \u001b[39m=\u001b[39m FileHandle(file, mode\u001b[39m=\u001b[39;49m\u001b[39m'\u001b[39;49m\u001b[39mwb\u001b[39;49m\u001b[39m'\u001b[39;49m, size\u001b[39m=\u001b[39;49m\u001b[39m0\u001b[39;49m)\n\u001b[0;32m   1455\u001b[0m     \u001b[39mself\u001b[39m\u001b[39m.\u001b[39m_fh\u001b[39m.\u001b[39mwrite({\u001b[39m'\u001b[39m\u001b[39m<\u001b[39m\u001b[39m'\u001b[39m: \u001b[39mb\u001b[39m\u001b[39m'\u001b[39m\u001b[39mII\u001b[39m\u001b[39m'\u001b[39m, \u001b[39m'\u001b[39m\u001b[39m>\u001b[39m\u001b[39m'\u001b[39m: \u001b[39mb\u001b[39m\u001b[39m'\u001b[39m\u001b[39mMM\u001b[39m\u001b[39m'\u001b[39m}[byteorder])\n\u001b[0;32m   1456\u001b[0m     \u001b[39mif\u001b[39;00m bigtiff:\n",
      "File \u001b[1;32mc:\\Users\\roumba\\Documents\\Software\\deep-events\\.env\\lib\\site-packages\\tifffile\\tifffile.py:13023\u001b[0m, in \u001b[0;36mFileHandle.__init__\u001b[1;34m(self, file, mode, name, offset, size)\u001b[0m\n\u001b[0;32m  13021\u001b[0m \u001b[39mself\u001b[39m\u001b[39m.\u001b[39m_close \u001b[39m=\u001b[39m \u001b[39mTrue\u001b[39;00m\n\u001b[0;32m  13022\u001b[0m \u001b[39mself\u001b[39m\u001b[39m.\u001b[39m_lock \u001b[39m=\u001b[39m NullContext()\n\u001b[1;32m> 13023\u001b[0m \u001b[39mself\u001b[39;49m\u001b[39m.\u001b[39;49mopen()\n\u001b[0;32m  13024\u001b[0m \u001b[39massert\u001b[39;00m \u001b[39mself\u001b[39m\u001b[39m.\u001b[39m_fh \u001b[39mis\u001b[39;00m \u001b[39mnot\u001b[39;00m \u001b[39mNone\u001b[39;00m\n",
      "File \u001b[1;32mc:\\Users\\roumba\\Documents\\Software\\deep-events\\.env\\lib\\site-packages\\tifffile\\tifffile.py:13038\u001b[0m, in \u001b[0;36mFileHandle.open\u001b[1;34m(self)\u001b[0m\n\u001b[0;32m  13036\u001b[0m \u001b[39mself\u001b[39m\u001b[39m.\u001b[39m_file \u001b[39m=\u001b[39m os\u001b[39m.\u001b[39mpath\u001b[39m.\u001b[39mrealpath(\u001b[39mself\u001b[39m\u001b[39m.\u001b[39m_file)\n\u001b[0;32m  13037\u001b[0m \u001b[39mself\u001b[39m\u001b[39m.\u001b[39m_dir, \u001b[39mself\u001b[39m\u001b[39m.\u001b[39m_name \u001b[39m=\u001b[39m os\u001b[39m.\u001b[39mpath\u001b[39m.\u001b[39msplit(\u001b[39mself\u001b[39m\u001b[39m.\u001b[39m_file)\n\u001b[1;32m> 13038\u001b[0m \u001b[39mself\u001b[39m\u001b[39m.\u001b[39m_fh \u001b[39m=\u001b[39m \u001b[39mopen\u001b[39;49m(\u001b[39mself\u001b[39;49m\u001b[39m.\u001b[39;49m_file, \u001b[39mself\u001b[39;49m\u001b[39m.\u001b[39;49m_mode)  \u001b[39m# type: ignore\u001b[39;00m\n\u001b[0;32m  13039\u001b[0m \u001b[39mself\u001b[39m\u001b[39m.\u001b[39m_close \u001b[39m=\u001b[39m \u001b[39mTrue\u001b[39;00m\n\u001b[0;32m  13040\u001b[0m \u001b[39mif\u001b[39;00m \u001b[39mself\u001b[39m\u001b[39m.\u001b[39m_offset \u001b[39m<\u001b[39m \u001b[39m0\u001b[39m:\n",
      "\u001b[1;31mFileNotFoundError\u001b[0m: [Errno 2] No such file or directory: 'C:\\\\Users\\\\roumba\\\\Documents\\\\Software\\\\deep-events\\\\training_data\\\\220922_mtstaygold_U2OS_iSIM_fl_neg\\\\image_220922_mtstaygold_fl_1_0_neg.tiff'"
     ]
    }
   ],
   "source": [
    "folder_name=images_dir+'_neg'\n",
    "filepath= os.path.join(training_dir , folder_name)\n",
    "\n",
    "for x in range(max_number):\n",
    "    csv=datacsv[x]\n",
    "    im=img[x]\n",
    "    out_name=output_name[x]\n",
    "    in_name=input_name[x] \n",
    "    image_crop_negative(l,list1, csv, im, out_name,filepath)"
   ]
  }
 ],
 "metadata": {
  "kernelspec": {
   "display_name": "Python 3.10.7 ('.env': venv)",
   "language": "python",
   "name": "python3"
  },
  "language_info": {
   "codemirror_mode": {
    "name": "ipython",
    "version": 3
   },
   "file_extension": ".py",
   "mimetype": "text/x-python",
   "name": "python",
   "nbconvert_exporter": "python",
   "pygments_lexer": "ipython3",
   "version": "3.10.7"
  },
  "orig_nbformat": 4,
  "vscode": {
   "interpreter": {
    "hash": "1eaf8819518d82bc7e7f729f546a337f692f85bf6d00cdfaf0712e2fc6595813"
   }
  }
 },
 "nbformat": 4,
 "nbformat_minor": 2
}
