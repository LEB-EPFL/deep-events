{
 "cells": [
  {
   "cell_type": "code",
   "execution_count": 1,
   "metadata": {},
   "outputs": [],
   "source": [
    "from PIL import Image\n",
    "import pandas as pd\n",
    "import numpy as np\n",
    "import matplotlib.pyplot as plt\n",
    "import plotly.io\n",
    "import plotly.express as px\n",
    "from scipy import ndimage as ndi\n",
    "import imageio\n",
    "from scipy import signal\n",
    "from pathlib import Path\n",
    "import tensorflow_probability as tfp\n",
    "import tensorflow as tf\n",
    "from tqdm import tqdm  \n",
    "from os import path\n",
    "from myfunctions import event_separation , image_crop_save_gauss , image_crop_save , image_crop_negative, poi\n",
    "import tifffile\n"
   ]
  },
  {
   "cell_type": "markdown",
   "metadata": {},
   "source": [
    "## Input data from a folder ##"
   ]
  },
  {
   "cell_type": "code",
   "execution_count": 2,
   "metadata": {},
   "outputs": [
    {
     "name": "stdout",
     "output_type": "stream",
     "text": [
      "Loaded image:220915_cos7_mitostaygold_Brightfield_1.ome.tif\n",
      "Loaded image:220915_cos7_mitostaygold_Brightfield_2.ome.tif\n",
      "Loaded image:220915_cos7_mitostaygold_Brightfield_3.ome.tif\n",
      "Loaded csv:labels_1_bf.csv\n",
      "Loaded csv:labels_2_bf.csv\n",
      "Loaded csv:labels_3_bf.csv\n"
     ]
    }
   ],
   "source": [
    "files_dir = r'C:\\Users\\roumba\\Documents\\Software\\deep-events\\original_data'\n",
    "images_dir = '220915_mtstaygold_cos7_ZEISS_bf'\n",
    "joined_path = os.path.join(files_dir, images_dir)\n",
    "size=(2048,2048)\n",
    "img,input_name,output_name,datacsv={},{},{},{}\n",
    "\n",
    "for input_file in os.listdir(joined_path):\n",
    "        joined_file_path = os.path.join(files_dir, images_dir, input_file)\n",
    "        if '.tif' in input_file:\n",
    "            date, cell_type, dye, bf_fl, index  = input_file.split('_')\n",
    "            number, ome, tiff= index.split('.')\n",
    "            img[int(number)-1] = Image.open(joined_file_path)\n",
    "            input_name[int(number)-1]= f'points_{date}_{cell_type}_{bf_fl}_{number}'\n",
    "            output_name[int(number)-1]= f'image_{date}_{cell_type}_{bf_fl}_{number}'\n",
    "            print('Loaded image:'+input_file)\n",
    "        else:\n",
    "            labels, index, bf_fl  = input_file.split('_')\n",
    "            datacsv[int(index)-1] = pd.read_csv(joined_file_path)\n",
    "            print('Loaded csv:'+ input_file)\n",
    "max_number=int(number)        \n"
   ]
  },
  {
   "cell_type": "markdown",
   "metadata": {},
   "source": [
    "## Get all Gaussian Points of Interest ##"
   ]
  },
  {
   "cell_type": "code",
   "execution_count": 3,
   "metadata": {},
   "outputs": [
    {
     "name": "stderr",
     "output_type": "stream",
     "text": [
      "100%|██████████| 498/498 [02:04<00:00,  4.01it/s]\n",
      "100%|██████████| 498/498 [02:02<00:00,  4.06it/s]\n",
      "100%|██████████| 498/498 [01:59<00:00,  4.15it/s]\n",
      "100%|██████████| 498/498 [01:59<00:00,  4.16it/s]\n",
      "100%|██████████| 498/498 [02:03<00:00,  4.05it/s]\n",
      "100%|██████████| 498/498 [02:04<00:00,  4.01it/s]\n",
      "100%|██████████| 498/498 [01:58<00:00,  4.20it/s]\n",
      "100%|██████████| 498/498 [01:56<00:00,  4.28it/s]\n",
      "100%|██████████| 498/498 [02:00<00:00,  4.13it/s]\n",
      "100%|██████████| 130/130 [00:32<00:00,  4.00it/s]\n",
      "100%|██████████| 130/130 [00:32<00:00,  4.02it/s]\n",
      "100%|██████████| 130/130 [00:32<00:00,  3.96it/s]\n",
      "100%|██████████| 130/130 [00:32<00:00,  4.00it/s]\n",
      "100%|██████████| 130/130 [00:33<00:00,  3.85it/s]\n",
      "100%|██████████| 130/130 [00:33<00:00,  3.90it/s]\n",
      "100%|██████████| 130/130 [00:33<00:00,  3.87it/s]\n",
      "100%|██████████| 130/130 [00:33<00:00,  3.88it/s]\n",
      "100%|██████████| 130/130 [00:33<00:00,  3.87it/s]\n",
      "100%|██████████| 139/139 [00:36<00:00,  3.81it/s]\n",
      "100%|██████████| 139/139 [00:34<00:00,  4.03it/s]\n",
      "100%|██████████| 139/139 [00:34<00:00,  4.08it/s]\n",
      "100%|██████████| 139/139 [00:35<00:00,  3.87it/s]\n",
      "100%|██████████| 139/139 [00:35<00:00,  3.87it/s]\n",
      "100%|██████████| 139/139 [00:35<00:00,  3.97it/s]\n",
      "100%|██████████| 139/139 [00:35<00:00,  3.91it/s]\n",
      "100%|██████████| 139/139 [00:35<00:00,  3.92it/s]\n",
      "100%|██████████| 139/139 [00:36<00:00,  3.82it/s]\n"
     ]
    }
   ],
   "source": [
    "for x in range(max_number):\n",
    "    csv=datacsv[x]\n",
    "    im=img[x]\n",
    "    for i in range(1,10,1):\n",
    "        sigma=(i,i)\n",
    "        s=sigma[0]\n",
    "        in_name=f'{input_name[x]}_sigma{s}.tiff'\n",
    "        framenum=im.n_frames\n",
    "        poi(csv,in_name,sigma,size,framenum)"
   ]
  },
  {
   "cell_type": "markdown",
   "metadata": {},
   "source": [
    "## Cut Images and Gaussian POIs ##"
   ]
  },
  {
   "cell_type": "code",
   "execution_count": 5,
   "metadata": {},
   "outputs": [
    {
     "ename": "ValueError",
     "evalue": "cannot convert float NaN to integer",
     "output_type": "error",
     "traceback": [
      "\u001b[1;31m---------------------------------------------------------------------------\u001b[0m",
      "\u001b[1;31mValueError\u001b[0m                                Traceback (most recent call last)",
      "Cell \u001b[1;32mIn [5], line 18\u001b[0m\n\u001b[0;32m     16\u001b[0m list1\u001b[39m=\u001b[39mevent_separation(csv)\n\u001b[0;32m     17\u001b[0m l\u001b[39m=\u001b[39m\u001b[39mlen\u001b[39m(list1)\n\u001b[1;32m---> 18\u001b[0m image_crop_save(l,list1, csv, im, out_name,filepath)\n\u001b[0;32m     20\u001b[0m gauss\u001b[39m=\u001b[39mbase_dir\u001b[39m+\u001b[39m\u001b[39mf\u001b[39m\u001b[39m'\u001b[39m\u001b[39m\\\u001b[39m\u001b[39m{\u001b[39;00min_name\u001b[39m}\u001b[39;00m\u001b[39m'\u001b[39m\n\u001b[0;32m     21\u001b[0m gauss_image\u001b[39m=\u001b[39mImage\u001b[39m.\u001b[39mopen(gauss)\n",
      "File \u001b[1;32mc:\\Users\\roumba\\Documents\\Software\\deep-events\\myfunctions.py:60\u001b[0m, in \u001b[0;36mimage_crop_save\u001b[1;34m(l, list_of_divisions, data, img, outputname, foldname)\u001b[0m\n\u001b[0;32m     57\u001b[0m     maxlist\u001b[39m=\u001b[39mdivision_list[index_list1]\n\u001b[0;32m     59\u001b[0m data_croped\u001b[39m=\u001b[39m data\u001b[39m.\u001b[39miloc[minlist:maxlist,\u001b[39m1\u001b[39m:\u001b[39m4\u001b[39m]\n\u001b[1;32m---> 60\u001b[0m frame1\u001b[39m=\u001b[39m\u001b[39mint\u001b[39;49m(data_croped[\u001b[39m'\u001b[39;49m\u001b[39maxis-0\u001b[39;49m\u001b[39m'\u001b[39;49m]\u001b[39m.\u001b[39;49mmin())\n\u001b[0;32m     61\u001b[0m frame2\u001b[39m=\u001b[39m\u001b[39mint\u001b[39m(data_croped[\u001b[39m'\u001b[39m\u001b[39maxis-0\u001b[39m\u001b[39m'\u001b[39m]\u001b[39m.\u001b[39mmax())\n\u001b[0;32m     62\u001b[0m ymean \u001b[39m=\u001b[39m data_croped[\u001b[39m'\u001b[39m\u001b[39maxis-1\u001b[39m\u001b[39m'\u001b[39m]\u001b[39m.\u001b[39mmean()\n",
      "\u001b[1;31mValueError\u001b[0m: cannot convert float NaN to integer"
     ]
    }
   ],
   "source": [
    "base_dir= r'C:\\Users\\roumba\\Documents\\Software\\deep-events'\n",
    "training_dir= r'C:\\Users\\roumba\\Documents\\Software\\deep-events\\training_data'\n",
    "folder_name=images_dir+'_pos'\n",
    "filepath= os.path.join(training_dir , folder_name)\n",
    "\n",
    "for x in range(max_number):\n",
    "    csv=datacsv[x]\n",
    "    im=img[x]\n",
    "    for i in range(1,10,1):\n",
    "        sigma=(i,i)\n",
    "        s=sigma[0]\n",
    "        in_name=f'{input_name[x]}_sigma{s}.tiff'\n",
    "        out_name=f'{output_name[x]}'\n",
    "        out_name_g=f'{output_name[x]}_sigma{s}'\n",
    "    \n",
    "        list1=event_separation(csv)\n",
    "        l=len(list1)\n",
    "        image_crop_save(l,list1, csv, im, out_name,filepath)\n",
    "\n",
    "        gauss=base_dir+f'\\{in_name}'\n",
    "        gauss_image=Image.open(gauss)\n",
    "        image_crop_save_gauss(l,list1, csv, gauss_image, out_name_g,filepath)"
   ]
  },
  {
   "cell_type": "markdown",
   "metadata": {},
   "source": [
    "## Cut Negative Frames ##"
   ]
  },
  {
   "cell_type": "code",
   "execution_count": 8,
   "metadata": {},
   "outputs": [
    {
     "ename": "ValueError",
     "evalue": "cannot convert float NaN to integer",
     "output_type": "error",
     "traceback": [
      "\u001b[1;31m---------------------------------------------------------------------------\u001b[0m",
      "\u001b[1;31mValueError\u001b[0m                                Traceback (most recent call last)",
      "Cell \u001b[1;32mIn [8], line 10\u001b[0m\n\u001b[0;32m      8\u001b[0m out_name\u001b[39m=\u001b[39m\u001b[39mf\u001b[39m\u001b[39m'\u001b[39m\u001b[39m{\u001b[39;00moutput_name[x]\u001b[39m}\u001b[39;00m\u001b[39m'\u001b[39m\n\u001b[0;32m      9\u001b[0m in_name\u001b[39m=\u001b[39m\u001b[39mf\u001b[39m\u001b[39m'\u001b[39m\u001b[39m{\u001b[39;00minput_name[x]\u001b[39m}\u001b[39;00m\u001b[39m_sigma\u001b[39m\u001b[39m{\u001b[39;00ms\u001b[39m}\u001b[39;00m\u001b[39m.tiff\u001b[39m\u001b[39m'\u001b[39m\n\u001b[1;32m---> 10\u001b[0m image_crop_negative(l,list1, csv, im, out_name,filepath)\n",
      "File \u001b[1;32mc:\\Users\\roumba\\Documents\\Software\\deep-events\\myfunctions.py:154\u001b[0m, in \u001b[0;36mimage_crop_negative\u001b[1;34m(l, list_of_divisions, data, img, outputname, foldname)\u001b[0m\n\u001b[0;32m    150\u001b[0m     maxlist\u001b[39m=\u001b[39mdivision_list[index_list1]\n\u001b[0;32m    152\u001b[0m data_croped_after_event\u001b[39m=\u001b[39m data\u001b[39m.\u001b[39miloc[minlist:maxlist,\u001b[39m1\u001b[39m:\u001b[39m4\u001b[39m]\n\u001b[1;32m--> 154\u001b[0m frame_number_max\u001b[39m=\u001b[39m\u001b[39mint\u001b[39;49m(data_croped_after_event[\u001b[39m'\u001b[39;49m\u001b[39maxis-0\u001b[39;49m\u001b[39m'\u001b[39;49m]\u001b[39m.\u001b[39;49mmax())\n\u001b[0;32m    155\u001b[0m \u001b[39mif\u001b[39;00m frame_number_max\u001b[39m<\u001b[39m\u001b[39m90\u001b[39m:\n\u001b[0;32m    156\u001b[0m     frame1_after\u001b[39m=\u001b[39mframe_number_max\n",
      "\u001b[1;31mValueError\u001b[0m: cannot convert float NaN to integer"
     ]
    }
   ],
   "source": [
    "images_dir = '220915_mtstaygold_cos7_ZEISS_bf'\n",
    "folder_name=images_dir+'_neg'\n",
    "filepath= os.path.join(training_dir , folder_name)\n",
    "\n",
    "for x in range(1,max_number):\n",
    "    csv=datacsv[x]\n",
    "    im=img[x]\n",
    "    out_name=f'{output_name[x]}'\n",
    "    in_name=f'{input_name[x]}_sigma{s}.tiff'\n",
    "    image_crop_negative(l,list1, csv, im, out_name,filepath)"
   ]
  }
 ],
 "metadata": {
  "kernelspec": {
   "display_name": "Python 3.10.7 ('.env': venv)",
   "language": "python",
   "name": "python3"
  },
  "language_info": {
   "codemirror_mode": {
    "name": "ipython",
    "version": 3
   },
   "file_extension": ".py",
   "mimetype": "text/x-python",
   "name": "python",
   "nbconvert_exporter": "python",
   "pygments_lexer": "ipython3",
   "version": "3.10.7"
  },
  "orig_nbformat": 4,
  "vscode": {
   "interpreter": {
    "hash": "1eaf8819518d82bc7e7f729f546a337f692f85bf6d00cdfaf0712e2fc6595813"
   }
  }
 },
 "nbformat": 4,
 "nbformat_minor": 2
}
