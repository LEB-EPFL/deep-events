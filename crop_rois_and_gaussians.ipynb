{
 "cells": [
  {
   "cell_type": "code",
   "execution_count": 1,
   "metadata": {},
   "outputs": [],
   "source": [
    "from PIL import Image\n",
    "import pandas as pd\n",
    "import numpy as np\n",
    "import matplotlib.pyplot as plt\n",
    "import plotly.io\n",
    "import plotly.express as px\n",
    "from scipy import ndimage as ndi\n",
    "import tensorflow\n",
    "import imageio\n",
    "from scipy import signal\n",
    "from pathlib import Path\n",
    "import tensorflow_probability as tfp\n",
    "import tensorflow as tf\n",
    "from tqdm import tqdm  \n",
    "from os import path\n",
    "import myfunctions\n",
    "from myfunctions import event_separation , image_crop_save_gauss , image_crop_save , image_crop_negative, poi\n",
    "import tifffile\n"
   ]
  },
  {
   "cell_type": "markdown",
   "metadata": {},
   "source": [
    "## Input data from a folder ##"
   ]
  },
  {
   "cell_type": "code",
   "execution_count": 2,
   "metadata": {},
   "outputs": [
    {
     "name": "stdout",
     "output_type": "stream",
     "text": [
      "Loaded image:220921_mtstaygold_cos7_Fluorescent_1.ome.tif\n",
      "Loaded image:220921_mtstaygold_cos7_Fluorescent_2.ome.tif\n",
      "Loaded image:220921_mtstaygold_cos7_Fluorescent_3.ome.tif\n",
      "Loaded image:220921_mtstaygold_cos7_Fluorescent_4.ome.tif\n",
      "Loaded image:220921_mtstaygold_cos7_Fluorescent_5.ome.tif\n",
      "Loaded image:220921_mtstaygold_cos7_Fluorescent_6.ome.tif\n",
      "Loaded csv:mtStayGold_1_points.csv\n",
      "Loaded csv:mtStayGold_2_points.csv\n",
      "Loaded csv:mtStayGold_3_points.csv\n",
      "Loaded csv:mtStayGold_4_points.csv\n",
      "Loaded csv:mtStayGold_5_points.csv\n",
      "Loaded csv:mtStayGold_6_points.csv\n"
     ]
    }
   ],
   "source": [
    "files_dir = r'C:\\Users\\roumba\\Documents\\Software\\deep-events\\original_data'\n",
    "images_dir = '220921_mtstaygold_cos7_iSIM_fl'\n",
    "joined_path = os.path.join(files_dir, images_dir)\n",
    "sigma=(10,10)\n",
    "size=(2048,2048)\n",
    "img,input_name,output_name,datacsv={},{},{},{}\n",
    "\n",
    "for input_file in os.listdir(joined_path):\n",
    "        joined_file_path = os.path.join(files_dir, images_dir, input_file)\n",
    "        if '.tif' in input_file:\n",
    "            date, cell_type, dye, bf_fl, index  = input_file.split('_')\n",
    "            number, ome, tiff= index.split('.')\n",
    "            img[int(number)-1] = Image.open(joined_file_path)\n",
    "            input_name[int(number)-1]= f'points_{date}_{cell_type}_{bf_fl}_{number}.tiff'\n",
    "            output_name[int(number)-1]= f'image_{date}_{cell_type}_{bf_fl}_{number}'\n",
    "            print('Loaded image:'+input_file)\n",
    "        else:\n",
    "            labels, index, bf_fl  = input_file.split('_')\n",
    "            datacsv[int(index)-1] = pd.read_csv(joined_file_path)\n",
    "            print('Loaded csv:'+ input_file)\n",
    "max_number=int(number)        \n"
   ]
  },
  {
   "cell_type": "markdown",
   "metadata": {},
   "source": [
    "## Get all Gaussian Points of Interest ##"
   ]
  },
  {
   "cell_type": "code",
   "execution_count": 3,
   "metadata": {},
   "outputs": [
    {
     "name": "stderr",
     "output_type": "stream",
     "text": [
      "100%|██████████| 136/136 [00:37<00:00,  3.67it/s]\n",
      "100%|██████████| 126/126 [00:30<00:00,  4.13it/s]\n",
      "100%|██████████| 98/98 [00:25<00:00,  3.90it/s]\n",
      "100%|██████████| 56/56 [00:14<00:00,  3.84it/s]\n",
      "100%|██████████| 53/53 [00:13<00:00,  3.91it/s]\n",
      "100%|██████████| 82/82 [00:19<00:00,  4.15it/s]\n"
     ]
    }
   ],
   "source": [
    "for x in range(max_number):\n",
    "    csv=datacsv[x]\n",
    "    in_name=input_name[x]\n",
    "    poi(csv,in_name,sigma,size)"
   ]
  },
  {
   "cell_type": "markdown",
   "metadata": {},
   "source": [
    "## Cut Images and Gaussian POIs ##"
   ]
  },
  {
   "cell_type": "code",
   "execution_count": 4,
   "metadata": {},
   "outputs": [
    {
     "name": "stderr",
     "output_type": "stream",
     "text": [
      "c:\\Users\\roumba\\Documents\\Software\\deep-events\\.env\\lib\\site-packages\\tifffile\\tifffile.py:2001: UserWarning: <tifffile.TiffWriter 'image_220921_mts…escent_1_7.tiff'> writing zero-size array to nonconformant TIFF\n",
      "  warnings.warn(\n",
      "c:\\Users\\roumba\\Documents\\Software\\deep-events\\.env\\lib\\site-packages\\tifffile\\tifffile.py:2001: UserWarning: <tifffile.TiffWriter 'image_220921_mt…nt_1_7gauss.tiff'> writing zero-size array to nonconformant TIFF\n",
      "  warnings.warn(\n",
      "c:\\Users\\roumba\\Documents\\Software\\deep-events\\.env\\lib\\site-packages\\tifffile\\tifffile.py:2001: UserWarning: <tifffile.TiffWriter 'image_220921_mts…escent_2_0.tiff'> writing zero-size array to nonconformant TIFF\n",
      "  warnings.warn(\n",
      "c:\\Users\\roumba\\Documents\\Software\\deep-events\\.env\\lib\\site-packages\\tifffile\\tifffile.py:2001: UserWarning: <tifffile.TiffWriter 'image_220921_mt…escent_2_12.tiff'> writing zero-size array to nonconformant TIFF\n",
      "  warnings.warn(\n",
      "c:\\Users\\roumba\\Documents\\Software\\deep-events\\.env\\lib\\site-packages\\tifffile\\tifffile.py:2001: UserWarning: <tifffile.TiffWriter 'image_220921_mt…escent_2_20.tiff'> writing zero-size array to nonconformant TIFF\n",
      "  warnings.warn(\n",
      "c:\\Users\\roumba\\Documents\\Software\\deep-events\\.env\\lib\\site-packages\\tifffile\\tifffile.py:2001: UserWarning: <tifffile.TiffWriter 'image_220921_mt…nt_2_0gauss.tiff'> writing zero-size array to nonconformant TIFF\n",
      "  warnings.warn(\n",
      "c:\\Users\\roumba\\Documents\\Software\\deep-events\\.env\\lib\\site-packages\\tifffile\\tifffile.py:2001: UserWarning: <tifffile.TiffWriter 'image_220921_mts…_2_12gauss.tiff'> writing zero-size array to nonconformant TIFF\n",
      "  warnings.warn(\n",
      "c:\\Users\\roumba\\Documents\\Software\\deep-events\\.env\\lib\\site-packages\\tifffile\\tifffile.py:2001: UserWarning: <tifffile.TiffWriter 'image_220921_mts…_2_20gauss.tiff'> writing zero-size array to nonconformant TIFF\n",
      "  warnings.warn(\n",
      "c:\\Users\\roumba\\Documents\\Software\\deep-events\\.env\\lib\\site-packages\\tifffile\\tifffile.py:2001: UserWarning: <tifffile.TiffWriter 'image_220921_mts…escent_4_1.tiff'> writing zero-size array to nonconformant TIFF\n",
      "  warnings.warn(\n",
      "c:\\Users\\roumba\\Documents\\Software\\deep-events\\.env\\lib\\site-packages\\tifffile\\tifffile.py:2001: UserWarning: <tifffile.TiffWriter 'image_220921_mt…nt_4_1gauss.tiff'> writing zero-size array to nonconformant TIFF\n",
      "  warnings.warn(\n",
      "c:\\Users\\roumba\\Documents\\Software\\deep-events\\.env\\lib\\site-packages\\tifffile\\tifffile.py:2001: UserWarning: <tifffile.TiffWriter 'image_220921_mts…escent_6_7.tiff'> writing zero-size array to nonconformant TIFF\n",
      "  warnings.warn(\n",
      "c:\\Users\\roumba\\Documents\\Software\\deep-events\\.env\\lib\\site-packages\\tifffile\\tifffile.py:2001: UserWarning: <tifffile.TiffWriter 'image_220921_mt…nt_6_7gauss.tiff'> writing zero-size array to nonconformant TIFF\n",
      "  warnings.warn(\n"
     ]
    }
   ],
   "source": [
    "base_dir= r'C:\\Users\\roumba\\Documents\\Software\\deep-events'\n",
    "for x in range(max_number):\n",
    "    csv=datacsv[x]\n",
    "    im=img[x]\n",
    "    out_name=output_name[x]\n",
    "    in_name=input_name[x]\n",
    "\n",
    "    list1=event_separation(csv)\n",
    "    l=len(list1)\n",
    "    image_crop_save(l,list1, csv, im, out_name)\n",
    "\n",
    "    gauss=base_dir+f'\\{in_name}'\n",
    "    gauss_image=Image.open(gauss)\n",
    "    image_crop_save_gauss(l,list1, csv, gauss_image, out_name)"
   ]
  },
  {
   "cell_type": "markdown",
   "metadata": {},
   "source": [
    "## Cut Negative Frames ##"
   ]
  },
  {
   "cell_type": "code",
   "execution_count": 5,
   "metadata": {},
   "outputs": [],
   "source": [
    "# for x in range(max_number):\n",
    "#     csv=datacsv[x]\n",
    "#     im=img[x]\n",
    "#     out_name=output_name[x]\n",
    "#     in_name=input_name[x] \n",
    "#     image_crop_negative(l,list1, csv, im, out_name)"
   ]
  },
  {
   "cell_type": "markdown",
   "metadata": {},
   "source": [
    "## Save data in correct folders ##"
   ]
  },
  {
   "cell_type": "code",
   "execution_count": 6,
   "metadata": {},
   "outputs": [],
   "source": [
    "# training_dir=r'C:\\Users\\roumba\\Documents\\Software\\deep-events\\training_data'\n",
    "# for input_file in os.listdir(base_dir):\n",
    "#         if 'neg' and 'image' in input_file:\n",
    "#             title,date,cell,microscope,videonumber,index=input_file.split('_')\n",
    "#             old_dir=base_dir+ f'\\{input_file}'\n",
    "#             new_dir=\n",
    "#             os.replace('old_directory/test_file.txt', 'new_directory/test_file.txt')\n",
    "#         else:\n",
    "#             title,date,cell,microscope,videonumber,index=input_file.split('_')\n",
    "#             labels, index, bf_fl  = input_file.split('_')\n",
    "#             datacsv[int(index)-1] = pd.read_csv(joined_file_path)\n",
    "#             print('Loaded csv:'+ input_file)"
   ]
  }
 ],
 "metadata": {
  "kernelspec": {
   "display_name": "Python 3.10.7 ('.env': venv)",
   "language": "python",
   "name": "python3"
  },
  "language_info": {
   "codemirror_mode": {
    "name": "ipython",
    "version": 3
   },
   "file_extension": ".py",
   "mimetype": "text/x-python",
   "name": "python",
   "nbconvert_exporter": "python",
   "pygments_lexer": "ipython3",
   "version": "3.10.7"
  },
  "orig_nbformat": 4,
  "vscode": {
   "interpreter": {
    "hash": "1eaf8819518d82bc7e7f729f546a337f692f85bf6d00cdfaf0712e2fc6595813"
   }
  }
 },
 "nbformat": 4,
 "nbformat_minor": 2
}
