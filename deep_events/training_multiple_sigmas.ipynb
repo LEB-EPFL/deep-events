{
 "cells": [
  {
   "cell_type": "code",
   "execution_count": 1,
   "metadata": {},
   "outputs": [
    {
     "ename": "KeyboardInterrupt",
     "evalue": "",
     "output_type": "error",
     "traceback": [
      "\u001b[1;31m---------------------------------------------------------------------------\u001b[0m",
      "\u001b[1;31mKeyboardInterrupt\u001b[0m                         Traceback (most recent call last)",
      "Cell \u001b[1;32mIn [1], line 4\u001b[0m\n\u001b[0;32m      2\u001b[0m \u001b[39mimport\u001b[39;00m \u001b[39mos\u001b[39;00m\n\u001b[0;32m      3\u001b[0m \u001b[39mimport\u001b[39;00m \u001b[39mrandom\u001b[39;00m \u001b[39mas\u001b[39;00m \u001b[39mr\u001b[39;00m\n\u001b[1;32m----> 4\u001b[0m \u001b[39mimport\u001b[39;00m \u001b[39mtest_multiprocess\u001b[39;00m \u001b[39mas\u001b[39;00m \u001b[39mtm\u001b[39;00m\n\u001b[0;32m      5\u001b[0m files_dir \u001b[39m=\u001b[39m \u001b[39mr\u001b[39m\u001b[39m'\u001b[39m\u001b[39mC:\u001b[39m\u001b[39m\\\u001b[39m\u001b[39mUsers\u001b[39m\u001b[39m\\\u001b[39m\u001b[39mroumba\u001b[39m\u001b[39m\\\u001b[39m\u001b[39mDocuments\u001b[39m\u001b[39m\\\u001b[39m\u001b[39mSoftware\u001b[39m\u001b[39m\\\u001b[39m\u001b[39mdeep-events\u001b[39m\u001b[39m\\\u001b[39m\u001b[39mtraining_data\u001b[39m\u001b[39m'\u001b[39m\n\u001b[0;32m      6\u001b[0m images_dir \u001b[39m=\u001b[39m \u001b[39m'\u001b[39m\u001b[39m230201_mtStayGold_both_iSIMdestriped_fl_pos\u001b[39m\u001b[39m'\u001b[39m\n",
      "File \u001b[1;32mc:\\Users\\roumba\\Documents\\Software\\deep-events\\test_multiprocess.py:3\u001b[0m\n\u001b[0;32m      1\u001b[0m \u001b[39mimport\u001b[39;00m \u001b[39mnumpy\u001b[39;00m \u001b[39mas\u001b[39;00m \u001b[39mnp\u001b[39;00m\n\u001b[0;32m      2\u001b[0m \u001b[39mfrom\u001b[39;00m \u001b[39mglob\u001b[39;00m \u001b[39mimport\u001b[39;00m glob\n\u001b[1;32m----> 3\u001b[0m \u001b[39mfrom\u001b[39;00m \u001b[39msklearn\u001b[39;00m\u001b[39m.\u001b[39;00m\u001b[39mmodel_selection\u001b[39;00m \u001b[39mimport\u001b[39;00m train_test_split\n\u001b[0;32m      4\u001b[0m \u001b[39mfrom\u001b[39;00m \u001b[39mmitosplit_net\u001b[39;00m \u001b[39mimport\u001b[39;00m util\n\u001b[0;32m      5\u001b[0m \u001b[39mfrom\u001b[39;00m \u001b[39mtraining_functions\u001b[39;00m \u001b[39mimport\u001b[39;00m create_model,train_model\n",
      "File \u001b[1;32mc:\\Users\\roumba\\Documents\\Software\\deep-events\\.env\\lib\\site-packages\\sklearn\\__init__.py:82\u001b[0m\n\u001b[0;32m     80\u001b[0m \u001b[39mfrom\u001b[39;00m \u001b[39m.\u001b[39;00m \u001b[39mimport\u001b[39;00m _distributor_init  \u001b[39m# noqa: F401\u001b[39;00m\n\u001b[0;32m     81\u001b[0m \u001b[39mfrom\u001b[39;00m \u001b[39m.\u001b[39;00m \u001b[39mimport\u001b[39;00m __check_build  \u001b[39m# noqa: F401\u001b[39;00m\n\u001b[1;32m---> 82\u001b[0m \u001b[39mfrom\u001b[39;00m \u001b[39m.\u001b[39;00m\u001b[39mbase\u001b[39;00m \u001b[39mimport\u001b[39;00m clone\n\u001b[0;32m     83\u001b[0m \u001b[39mfrom\u001b[39;00m \u001b[39m.\u001b[39;00m\u001b[39mutils\u001b[39;00m\u001b[39m.\u001b[39;00m\u001b[39m_show_versions\u001b[39;00m \u001b[39mimport\u001b[39;00m show_versions\n\u001b[0;32m     85\u001b[0m __all__ \u001b[39m=\u001b[39m [\n\u001b[0;32m     86\u001b[0m     \u001b[39m\"\u001b[39m\u001b[39mcalibration\u001b[39m\u001b[39m\"\u001b[39m,\n\u001b[0;32m     87\u001b[0m     \u001b[39m\"\u001b[39m\u001b[39mcluster\u001b[39m\u001b[39m\"\u001b[39m,\n\u001b[1;32m   (...)\u001b[0m\n\u001b[0;32m    128\u001b[0m     \u001b[39m\"\u001b[39m\u001b[39mshow_versions\u001b[39m\u001b[39m\"\u001b[39m,\n\u001b[0;32m    129\u001b[0m ]\n",
      "File \u001b[1;32mc:\\Users\\roumba\\Documents\\Software\\deep-events\\.env\\lib\\site-packages\\sklearn\\base.py:17\u001b[0m\n\u001b[0;32m     15\u001b[0m \u001b[39mfrom\u001b[39;00m \u001b[39m.\u001b[39;00m \u001b[39mimport\u001b[39;00m __version__\n\u001b[0;32m     16\u001b[0m \u001b[39mfrom\u001b[39;00m \u001b[39m.\u001b[39;00m\u001b[39m_config\u001b[39;00m \u001b[39mimport\u001b[39;00m get_config\n\u001b[1;32m---> 17\u001b[0m \u001b[39mfrom\u001b[39;00m \u001b[39m.\u001b[39;00m\u001b[39mutils\u001b[39;00m \u001b[39mimport\u001b[39;00m _IS_32BIT\n\u001b[0;32m     18\u001b[0m \u001b[39mfrom\u001b[39;00m \u001b[39m.\u001b[39;00m\u001b[39mutils\u001b[39;00m\u001b[39m.\u001b[39;00m\u001b[39m_tags\u001b[39;00m \u001b[39mimport\u001b[39;00m (\n\u001b[0;32m     19\u001b[0m     _DEFAULT_TAGS,\n\u001b[0;32m     20\u001b[0m )\n\u001b[0;32m     21\u001b[0m \u001b[39mfrom\u001b[39;00m \u001b[39m.\u001b[39;00m\u001b[39mutils\u001b[39;00m\u001b[39m.\u001b[39;00m\u001b[39mvalidation\u001b[39;00m \u001b[39mimport\u001b[39;00m check_X_y\n",
      "File \u001b[1;32mc:\\Users\\roumba\\Documents\\Software\\deep-events\\.env\\lib\\site-packages\\sklearn\\utils\\__init__.py:22\u001b[0m\n\u001b[0;32m     20\u001b[0m \u001b[39mimport\u001b[39;00m \u001b[39mwarnings\u001b[39;00m\n\u001b[0;32m     21\u001b[0m \u001b[39mimport\u001b[39;00m \u001b[39mnumpy\u001b[39;00m \u001b[39mas\u001b[39;00m \u001b[39mnp\u001b[39;00m\n\u001b[1;32m---> 22\u001b[0m \u001b[39mfrom\u001b[39;00m \u001b[39mscipy\u001b[39;00m\u001b[39m.\u001b[39;00m\u001b[39msparse\u001b[39;00m \u001b[39mimport\u001b[39;00m issparse\n\u001b[0;32m     24\u001b[0m \u001b[39mfrom\u001b[39;00m \u001b[39m.\u001b[39;00m\u001b[39mmurmurhash\u001b[39;00m \u001b[39mimport\u001b[39;00m murmurhash3_32\n\u001b[0;32m     25\u001b[0m \u001b[39mfrom\u001b[39;00m \u001b[39m.\u001b[39;00m\u001b[39mclass_weight\u001b[39;00m \u001b[39mimport\u001b[39;00m compute_class_weight, compute_sample_weight\n",
      "File \u001b[1;32mc:\\Users\\roumba\\Documents\\Software\\deep-events\\.env\\lib\\site-packages\\scipy\\sparse\\__init__.py:283\u001b[0m\n\u001b[0;32m    278\u001b[0m \u001b[39mfrom\u001b[39;00m \u001b[39m.\u001b[39;00m\u001b[39m_arrays\u001b[39;00m \u001b[39mimport\u001b[39;00m (\n\u001b[0;32m    279\u001b[0m     csr_array, csc_array, lil_array, dok_array, coo_array, dia_array, bsr_array\n\u001b[0;32m    280\u001b[0m )\n\u001b[0;32m    282\u001b[0m \u001b[39m# For backward compatibility with v0.19.\u001b[39;00m\n\u001b[1;32m--> 283\u001b[0m \u001b[39mfrom\u001b[39;00m \u001b[39m.\u001b[39;00m \u001b[39mimport\u001b[39;00m csgraph\n\u001b[0;32m    285\u001b[0m \u001b[39m# Deprecated namespaces, to be removed in v2.0.0\u001b[39;00m\n\u001b[0;32m    286\u001b[0m \u001b[39mfrom\u001b[39;00m \u001b[39m.\u001b[39;00m \u001b[39mimport\u001b[39;00m (\n\u001b[0;32m    287\u001b[0m     base, bsr, compressed, construct, coo, csc, csr, data, dia, dok, extract,\n\u001b[0;32m    288\u001b[0m     lil, sparsetools, sputils\n\u001b[0;32m    289\u001b[0m )\n",
      "File \u001b[1;32mc:\\Users\\roumba\\Documents\\Software\\deep-events\\.env\\lib\\site-packages\\scipy\\sparse\\csgraph\\__init__.py:182\u001b[0m\n\u001b[0;32m    154\u001b[0m __docformat__ \u001b[39m=\u001b[39m \u001b[39m\"\u001b[39m\u001b[39mrestructuredtext en\u001b[39m\u001b[39m\"\u001b[39m\n\u001b[0;32m    156\u001b[0m __all__ \u001b[39m=\u001b[39m [\u001b[39m'\u001b[39m\u001b[39mconnected_components\u001b[39m\u001b[39m'\u001b[39m,\n\u001b[0;32m    157\u001b[0m            \u001b[39m'\u001b[39m\u001b[39mlaplacian\u001b[39m\u001b[39m'\u001b[39m,\n\u001b[0;32m    158\u001b[0m            \u001b[39m'\u001b[39m\u001b[39mshortest_path\u001b[39m\u001b[39m'\u001b[39m,\n\u001b[1;32m   (...)\u001b[0m\n\u001b[0;32m    179\u001b[0m            \u001b[39m'\u001b[39m\u001b[39mcsgraph_to_masked\u001b[39m\u001b[39m'\u001b[39m,\n\u001b[0;32m    180\u001b[0m            \u001b[39m'\u001b[39m\u001b[39mNegativeCycleError\u001b[39m\u001b[39m'\u001b[39m]\n\u001b[1;32m--> 182\u001b[0m \u001b[39mfrom\u001b[39;00m \u001b[39m.\u001b[39;00m\u001b[39m_laplacian\u001b[39;00m \u001b[39mimport\u001b[39;00m laplacian\n\u001b[0;32m    183\u001b[0m \u001b[39mfrom\u001b[39;00m \u001b[39m.\u001b[39;00m\u001b[39m_shortest_path\u001b[39;00m \u001b[39mimport\u001b[39;00m (\n\u001b[0;32m    184\u001b[0m     shortest_path, floyd_warshall, dijkstra, bellman_ford, johnson,\n\u001b[0;32m    185\u001b[0m     NegativeCycleError\n\u001b[0;32m    186\u001b[0m )\n\u001b[0;32m    187\u001b[0m \u001b[39mfrom\u001b[39;00m \u001b[39m.\u001b[39;00m\u001b[39m_traversal\u001b[39;00m \u001b[39mimport\u001b[39;00m (\n\u001b[0;32m    188\u001b[0m     breadth_first_order, depth_first_order, breadth_first_tree,\n\u001b[0;32m    189\u001b[0m     depth_first_tree, connected_components\n\u001b[0;32m    190\u001b[0m )\n",
      "File \u001b[1;32mc:\\Users\\roumba\\Documents\\Software\\deep-events\\.env\\lib\\site-packages\\scipy\\sparse\\csgraph\\_laplacian.py:7\u001b[0m\n\u001b[0;32m      5\u001b[0m \u001b[39mimport\u001b[39;00m \u001b[39mnumpy\u001b[39;00m \u001b[39mas\u001b[39;00m \u001b[39mnp\u001b[39;00m\n\u001b[0;32m      6\u001b[0m \u001b[39mfrom\u001b[39;00m \u001b[39mscipy\u001b[39;00m\u001b[39m.\u001b[39;00m\u001b[39msparse\u001b[39;00m \u001b[39mimport\u001b[39;00m isspmatrix\n\u001b[1;32m----> 7\u001b[0m \u001b[39mfrom\u001b[39;00m \u001b[39mscipy\u001b[39;00m\u001b[39m.\u001b[39;00m\u001b[39msparse\u001b[39;00m\u001b[39m.\u001b[39;00m\u001b[39mlinalg\u001b[39;00m \u001b[39mimport\u001b[39;00m LinearOperator\n\u001b[0;32m     10\u001b[0m \u001b[39m###############################################################################\u001b[39;00m\n\u001b[0;32m     11\u001b[0m \u001b[39m# Graph laplacian\u001b[39;00m\n\u001b[0;32m     12\u001b[0m \u001b[39mdef\u001b[39;00m \u001b[39mlaplacian\u001b[39m(\n\u001b[0;32m     13\u001b[0m     csgraph,\n\u001b[0;32m     14\u001b[0m     normed\u001b[39m=\u001b[39m\u001b[39mFalse\u001b[39;00m,\n\u001b[1;32m   (...)\u001b[0m\n\u001b[0;32m     21\u001b[0m     symmetrized\u001b[39m=\u001b[39m\u001b[39mFalse\u001b[39;00m,\n\u001b[0;32m     22\u001b[0m ):\n",
      "File \u001b[1;32mc:\\Users\\roumba\\Documents\\Software\\deep-events\\.env\\lib\\site-packages\\scipy\\sparse\\linalg\\__init__.py:121\u001b[0m\n\u001b[0;32m      1\u001b[0m \u001b[39m\"\"\"\u001b[39;00m\n\u001b[0;32m      2\u001b[0m \u001b[39mSparse linear algebra (:mod:`scipy.sparse.linalg`)\u001b[39;00m\n\u001b[0;32m      3\u001b[0m \u001b[39m==================================================\u001b[39;00m\n\u001b[1;32m   (...)\u001b[0m\n\u001b[0;32m    117\u001b[0m \n\u001b[0;32m    118\u001b[0m \u001b[39m\"\"\"\u001b[39;00m\n\u001b[0;32m    120\u001b[0m \u001b[39mfrom\u001b[39;00m \u001b[39m.\u001b[39;00m\u001b[39m_isolve\u001b[39;00m \u001b[39mimport\u001b[39;00m \u001b[39m*\u001b[39m\n\u001b[1;32m--> 121\u001b[0m \u001b[39mfrom\u001b[39;00m \u001b[39m.\u001b[39;00m\u001b[39m_dsolve\u001b[39;00m \u001b[39mimport\u001b[39;00m \u001b[39m*\u001b[39m\n\u001b[0;32m    122\u001b[0m \u001b[39mfrom\u001b[39;00m \u001b[39m.\u001b[39;00m\u001b[39m_interface\u001b[39;00m \u001b[39mimport\u001b[39;00m \u001b[39m*\u001b[39m\n\u001b[0;32m    123\u001b[0m \u001b[39mfrom\u001b[39;00m \u001b[39m.\u001b[39;00m\u001b[39m_eigen\u001b[39;00m \u001b[39mimport\u001b[39;00m \u001b[39m*\u001b[39m\n",
      "File \u001b[1;32m<frozen importlib._bootstrap>:1027\u001b[0m, in \u001b[0;36m_find_and_load\u001b[1;34m(name, import_)\u001b[0m\n",
      "File \u001b[1;32m<frozen importlib._bootstrap>:1006\u001b[0m, in \u001b[0;36m_find_and_load_unlocked\u001b[1;34m(name, import_)\u001b[0m\n",
      "File \u001b[1;32m<frozen importlib._bootstrap>:688\u001b[0m, in \u001b[0;36m_load_unlocked\u001b[1;34m(spec)\u001b[0m\n",
      "File \u001b[1;32m<frozen importlib._bootstrap_external>:879\u001b[0m, in \u001b[0;36mexec_module\u001b[1;34m(self, module)\u001b[0m\n",
      "File \u001b[1;32m<frozen importlib._bootstrap_external>:975\u001b[0m, in \u001b[0;36mget_code\u001b[1;34m(self, fullname)\u001b[0m\n",
      "File \u001b[1;32m<frozen importlib._bootstrap_external>:1074\u001b[0m, in \u001b[0;36mget_data\u001b[1;34m(self, path)\u001b[0m\n",
      "\u001b[1;31mKeyboardInterrupt\u001b[0m: "
     ]
    }
   ],
   "source": [
    "import numpy as np\n",
    "import os\n",
    "import random as r\n",
    "import test_multiprocess as tm\n",
    "files_dir = r'C:\\Users\\roumba\\Documents\\Software\\deep-events\\training_data'\n",
    "images_dir = '230201_mtStayGold_both_iSIMdestriped_fl_pos'\n",
    "images_neg_dir = '230201_mtStayGold_both_iSIMdestriped_fl_neg'\n",
    "import multiprocessing\n",
    "sigmas = [2,3,4,5,6]\n",
    "number_of_augmentations = 15\n",
    "box_size=15\n",
    "offset=3\n",
    "background=0.1 # for fluorescent set this to 0.1 and for brightfield 0.05\n",
    "\n",
    "for sigma in sigmas:\n",
    "    print('sigma =',sigma)\n",
    "    p = multiprocessing.Process(target=tm.load_aug_train, args=(files_dir, images_dir, images_neg_dir, sigma, number_of_augmentations, box_size, offset, background)) \n",
    "    p.start() \n",
    "    p.join()\n",
    "\n",
    "\n",
    "# C:/Users/roumba/Documents/Software/deep-events/Modelsref_f8_c9_b16/model_both_ZEISS_fl_new1/model_both_ZEISS_fl_3.h5\n",
    "# C:/Users/roumba/Documents/Software/deep-events/Modelsref_f8_c9_b16/model_cos7_ZEISS_bf_3.h5\n",
    "# C:\\Users\\roumba\\Documents\\Software\\deep-events\\Modelsref_f8_c9_b16\\model_cos7_ZEISS_bf_3.h5\n",
    "\n",
    "\n",
    "### HOW TO ACTIVATE .ENV ###\n",
    "# C:\\Users\\roumba\\Documents\\Software\\deep-events\\.env\\Scripts\\Activate.ps1\n"
   ]
  },
  {
   "cell_type": "code",
   "execution_count": 5,
   "metadata": {},
   "outputs": [],
   "source": [
    "import numpy as np\n",
    "from glob import glob\n",
    "from sklearn.model_selection import train_test_split\n",
    "from mitosplit_net import util\n",
    "from training_functions import create_model,train_model\n",
    "from albumentations import Compose, Rotate, RandomRotate90, HorizontalFlip, Flip, VerticalFlip\n",
    "import os\n",
    "from os import path\n",
    "import random as r\n",
    "import tifffile\n",
    "from import_augmentation_function import import_fun, aug_fun, import_fun_neg, normalization_fun_loc, normalization_fun_g, import_aug_fun\n",
    "import tensorflow as tf\n",
    "\n",
    "data_ratio= 0.1\n",
    "data_split_state = None\n",
    "BASE_DIR = r'C:\\Users\\roumba\\Documents\\Software\\deep-events'\n",
    "\n",
    "\n",
    "def load_aug_train(files_dir, images_dir,images_neg_dir, sigma, k,ofs,perc,savepath):\n",
    "    date, dye, cell_type, microscope, bf_fl, pos_neg = images_dir.split('_')\n",
    "    joined_path = os.path.join(files_dir, images_dir)\n",
    "    joined_path_neg = os.path.join(files_dir, images_neg_dir)\n",
    "    all_image_array, all_image_array_gauss= import_fun(joined_path, files_dir, images_dir,sigma)\n",
    "    all_image_array_gauss, all_image_array= zero_frames(all_image_array.shape[1], all_image_array_gauss, all_image_array)\n",
    "    all_image_array_neg, all_image_array_gauss_neg = import_fun_neg(joined_path_neg,files_dir, images_neg_dir)\n",
    "\n",
    "    all_image_array = np.concatenate((all_image_array,all_image_array_neg))\n",
    "    all_image_array_gauss = np.concatenate((all_image_array_gauss,all_image_array_gauss_neg))\n",
    "\n",
    " \n",
    "\n",
    "    tifffile.imwrite(savepath +'\\Pre_background_removal_fl.tiff', (all_image_array).astype(np.uint16), photometric='minisblack')\n",
    "    tifffile.imwrite(savepath + '\\Pre_background_removal_gauss_fl.tiff', (all_image_array_gauss).astype(np.uint8), photometric='minisblack')\n",
    "\n",
    "    # imageio.mimwrite('Pre_background_removal.tiff', (all_image_array).astype(np.float64))\n",
    "    # imageio.mimwrite('Pre_background_removal_gauss.tiff', (all_image_array_gauss).astype(np.float64))\n",
    "\n",
    "                            ## NORMALIZATION ##\n",
    "\n",
    "    norm_image_array= normalization_fun_loc(all_image_array, k, ofs, perc, bf_fl)\n",
    "    norm_image_array_gauss = normalization_fun_g(all_image_array_gauss)\n",
    "\n",
    "    tifffile.imwrite(savepath + '\\Post_background_removal_fl.tiff', (norm_image_array).astype(np.float64), photometric='minisblack')\n",
    "    tifffile.imwrite(savepath + '\\Post_background_removal_gauss_fl.tiff', (norm_image_array_gauss).astype(np.float64), photometric='minisblack')\n",
    "\n",
    "    # imageio.mimwrite('Post_background_removal.tiff', (norm_image_array).astype(np.float64))\n",
    "    # imageio.mimwrite('Post_background_removal_gauss.tiff', (norm_image_array_gauss).astype(np.float64))\n",
    "\n",
    "def zero_frames(size,datag,dataim):\n",
    "    frame_check=np.zeros((size,size))\n",
    "    z_list=[]\n",
    "\n",
    "    for x in range(np.size(datag,0)):\n",
    "        frame_check = datag[x]\n",
    "        if not np.any(frame_check)==True:\n",
    "            z_list.append(x)\n",
    "\n",
    "    datag= np.delete(datag, z_list, axis=0)\n",
    "    dataim= np.delete(dataim, z_list, axis=0)\n",
    "    return datag,dataim\n"
   ]
  },
  {
   "cell_type": "code",
   "execution_count": 7,
   "metadata": {},
   "outputs": [
    {
     "name": "stdout",
     "output_type": "stream",
     "text": [
      "fluorescent removal\n"
     ]
    }
   ],
   "source": [
    "files_dir = r'C:\\Users\\roumba\\Documents\\Software\\deep-events\\training_data'\n",
    "images_dir = '221123_mtStayGold_U2OS_ZEISS_fl_pos'\n",
    "images_neg_dir = '221123_mtStayGold_U2OS_ZEISS_fl_neg'\n",
    "sigma = 4\n",
    "box_size=15\n",
    "offset=3\n",
    "background=0.1\n",
    "load_aug_train(files_dir, images_dir, images_neg_dir, sigma, box_size, offset, background, BASE_DIR)"
   ]
  }
 ],
 "metadata": {
  "kernelspec": {
   "display_name": "Python 3.10.7 ('.env': venv)",
   "language": "python",
   "name": "python3"
  },
  "language_info": {
   "codemirror_mode": {
    "name": "ipython",
    "version": 3
   },
   "file_extension": ".py",
   "mimetype": "text/x-python",
   "name": "python",
   "nbconvert_exporter": "python",
   "pygments_lexer": "ipython3",
   "version": "3.10.7"
  },
  "orig_nbformat": 4,
  "vscode": {
   "interpreter": {
    "hash": "1eaf8819518d82bc7e7f729f546a337f692f85bf6d00cdfaf0712e2fc6595813"
   }
  }
 },
 "nbformat": 4,
 "nbformat_minor": 2
}
