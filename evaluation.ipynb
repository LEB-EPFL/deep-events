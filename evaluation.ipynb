{
 "cells": [
  {
   "cell_type": "code",
   "execution_count": 29,
   "metadata": {},
   "outputs": [],
   "source": [
    "from mitosplit_net import util, plotting, evaluation, preprocessing\n",
    "\n",
    "import numpy as np\n",
    "import pandas as pd\n",
    "from skimage.color import label2rgb\n",
    "from skimage import filters, measure, segmentation\n",
    "import tifffile\n",
    "\n",
    "import matplotlib.pyplot as plt\n",
    "from matplotlib.colors import Normalize\n",
    "plt.rc('xtick', labelsize=18)\n",
    "plt.rc('ytick', labelsize=18)\n",
    "plt.rc('axes', labelsize=20)\n",
    "plt.rc('legend', fontsize=18)\n",
    "\n",
    "from tqdm import tqdm\n",
    "import tensorflow as tf"
   ]
  },
  {
   "cell_type": "code",
   "execution_count": 30,
   "metadata": {},
   "outputs": [
    {
     "name": "stdout",
     "output_type": "stream",
     "text": [
      "PhysicalDevice(name='/physical_device:GPU:0', device_type='GPU')\n"
     ]
    }
   ],
   "source": [
    "#Define GPU device where the code will run on\n",
    "gpu = tf.config.list_physical_devices('GPU')[0]\n",
    "print(gpu)\n",
    "tf.config.experimental.set_memory_growth(gpu, True)\n",
    "gpu = tf.device('GPU:0/')"
   ]
  },
  {
   "cell_type": "code",
   "execution_count": 31,
   "metadata": {},
   "outputs": [],
   "source": [
    "base_dir = r'C:\\Users\\roumba\\Documents\\Software\\deep-events'\n",
    "data_path = base_dir+ r'\\testing_data'  \n",
    "folder_name = r'\\Modelsref_f8_c9_b16'\n",
    "\n",
    "model_name= r'\\MODELS_both_iSIM_fl'\n",
    "MODELS, cell, microscope, fl_bf= model_name.split('_')\n",
    "\n",
    "model_path = base_dir + folder_name + model_name"
   ]
  },
  {
   "cell_type": "code",
   "execution_count": 32,
   "metadata": {},
   "outputs": [],
   "source": [
    "## INPUT DATA ##\n",
    "\n",
    "# input_data = util.load_h5(data_path, '\\data_aug')\n",
    "# output_data = util.load_h5(data_path, '\\data_gauss_aug')\n",
    "data=data_path+r'\\both_iSIM_fl_data_val.tiff'\n",
    "data_test = tifffile.imread(data)\n",
    "gauss=data_path+r'\\both_iSIM_fl_data_gauss_val.tiff'\n",
    "gauss_test = tifffile.imread(gauss)\n"
   ]
  },
  {
   "cell_type": "code",
   "execution_count": 33,
   "metadata": {},
   "outputs": [
    {
     "name": "stdout",
     "output_type": "stream",
     "text": [
      "\n",
      "Loading C:\\Users\\roumba\\Documents\\Software\\deep-events\\Modelsref_f8_c9_b16\\MODELS_both_iSIM_fl\\model_both_iSIM_fl_3.h5\n",
      "Done.\n",
      "\n",
      "Loading C:\\Users\\roumba\\Documents\\Software\\deep-events\\Modelsref_f8_c9_b16\\MODELS_both_iSIM_fl\\history_both_iSIM_fl_3\n",
      "Done.\n"
     ]
    },
    {
     "ename": "InternalError",
     "evalue": "Failed copying input tensor from /job:localhost/replica:0/task:0/device:CPU:0 to /job:localhost/replica:0/task:0/device:GPU:0 in order to run _EagerConst: Dst tensor is not initialized.",
     "output_type": "error",
     "traceback": [
      "\u001b[1;31m---------------------------------------------------------------------------\u001b[0m",
      "\u001b[1;31mInternalError\u001b[0m                             Traceback (most recent call last)",
      "Cell \u001b[1;32mIn [33], line 5\u001b[0m\n\u001b[0;32m      2\u001b[0m history \u001b[39m=\u001b[39m util\u001b[39m.\u001b[39mload_pkl(model_path, [\u001b[39mf\u001b[39m\u001b[39m'\u001b[39m\u001b[39m\\\u001b[39m\u001b[39mhistory_\u001b[39m\u001b[39m{\u001b[39;00mcell\u001b[39m}\u001b[39;00m\u001b[39m_\u001b[39m\u001b[39m{\u001b[39;00mmicroscope\u001b[39m}\u001b[39;00m\u001b[39m_\u001b[39m\u001b[39m{\u001b[39;00mfl_bf\u001b[39m}\u001b[39;00m\u001b[39m_3\u001b[39m\u001b[39m'\u001b[39m], as_type\u001b[39m=\u001b[39m\u001b[39mdict\u001b[39m)\n\u001b[0;32m      3\u001b[0m pred_output_test \u001b[39m=\u001b[39m {}\n\u001b[1;32m----> 5\u001b[0m pred_output_test[model_name] \u001b[39m=\u001b[39m evaluation\u001b[39m.\u001b[39mpredict(data_test, model)\n\u001b[0;32m      6\u001b[0m pred_threshold \u001b[39m=\u001b[39m np\u001b[39m.\u001b[39marray([\u001b[39m0.1\u001b[39m, \u001b[39m0.2\u001b[39m, \u001b[39m0.3\u001b[39m, \u001b[39m0.5\u001b[39m])\n",
      "File \u001b[1;32mc:\\users\\roumba\\documents\\software\\mitosplit-net\\mitosplit_net\\evaluation.py:16\u001b[0m, in \u001b[0;36mpredict\u001b[1;34m(input_test, model)\u001b[0m\n\u001b[0;32m     14\u001b[0m pred_output_test \u001b[39m=\u001b[39m np\u001b[39m.\u001b[39mzeros((nb_models, \u001b[39m*\u001b[39minput_test\u001b[39m.\u001b[39mshape), dtype\u001b[39m=\u001b[39mnp\u001b[39m.\u001b[39mfloat32)\n\u001b[0;32m     15\u001b[0m \u001b[39mfor\u001b[39;00m model_id, model_name \u001b[39min\u001b[39;00m \u001b[39menumerate\u001b[39m(model):\n\u001b[1;32m---> 16\u001b[0m     pred_output_test[model_id] \u001b[39m=\u001b[39m model[model_name]\u001b[39m.\u001b[39;49mpredict(input_test)[:, :, :, \u001b[39m0\u001b[39m]\n\u001b[0;32m     17\u001b[0m \u001b[39mreturn\u001b[39;00m pred_output_test\n",
      "File \u001b[1;32mc:\\Users\\roumba\\Documents\\Software\\deep-events\\.env\\lib\\site-packages\\keras\\utils\\traceback_utils.py:70\u001b[0m, in \u001b[0;36mfilter_traceback.<locals>.error_handler\u001b[1;34m(*args, **kwargs)\u001b[0m\n\u001b[0;32m     67\u001b[0m     filtered_tb \u001b[39m=\u001b[39m _process_traceback_frames(e\u001b[39m.\u001b[39m__traceback__)\n\u001b[0;32m     68\u001b[0m     \u001b[39m# To get the full stack trace, call:\u001b[39;00m\n\u001b[0;32m     69\u001b[0m     \u001b[39m# `tf.debugging.disable_traceback_filtering()`\u001b[39;00m\n\u001b[1;32m---> 70\u001b[0m     \u001b[39mraise\u001b[39;00m e\u001b[39m.\u001b[39mwith_traceback(filtered_tb) \u001b[39mfrom\u001b[39;00m \u001b[39mNone\u001b[39m\n\u001b[0;32m     71\u001b[0m \u001b[39mfinally\u001b[39;00m:\n\u001b[0;32m     72\u001b[0m     \u001b[39mdel\u001b[39;00m filtered_tb\n",
      "File \u001b[1;32mc:\\Users\\roumba\\Documents\\Software\\deep-events\\.env\\lib\\site-packages\\tensorflow\\python\\framework\\constant_op.py:102\u001b[0m, in \u001b[0;36mconvert_to_eager_tensor\u001b[1;34m(value, ctx, dtype)\u001b[0m\n\u001b[0;32m    100\u001b[0m     dtype \u001b[39m=\u001b[39m dtypes\u001b[39m.\u001b[39mas_dtype(dtype)\u001b[39m.\u001b[39mas_datatype_enum\n\u001b[0;32m    101\u001b[0m ctx\u001b[39m.\u001b[39mensure_initialized()\n\u001b[1;32m--> 102\u001b[0m \u001b[39mreturn\u001b[39;00m ops\u001b[39m.\u001b[39;49mEagerTensor(value, ctx\u001b[39m.\u001b[39;49mdevice_name, dtype)\n",
      "\u001b[1;31mInternalError\u001b[0m: Failed copying input tensor from /job:localhost/replica:0/task:0/device:CPU:0 to /job:localhost/replica:0/task:0/device:GPU:0 in order to run _EagerConst: Dst tensor is not initialized."
     ]
    }
   ],
   "source": [
    "\n",
    "model = util.load_model(model_path, [f'\\model_{cell}_{microscope}_{fl_bf}_3'], as_type=dict)\n",
    "history = util.load_pkl(model_path, [f'\\history_{cell}_{microscope}_{fl_bf}_3'], as_type=dict)\n",
    "pred_output_test = {}\n",
    "\n",
    "pred_output_test[model_name] = evaluation.predict(data_test, model)\n",
    "pred_threshold = np.array([0.1, 0.2, 0.3, 0.5])\n",
    "\n",
    "\n",
    "\n",
    "# f1_score = {}\n",
    "# optimal_pred_threshold = {}\n",
    "# pred_labels_test = {}\n",
    "\n",
    "# for model_name in model:\n",
    "#     print(\"Processing %s\" %model_name)\n",
    "#     #f1_score[model_name] = evaluation.get_f1_curve(labels_test[model_name], pred_output_test[model_name], pred_threshold)\n",
    "\n",
    "#     optimal_pred_threshold[model_name] = evaluation.get_optimal_threshold(pred_threshold, f1_score[model_name])\n",
    "\n",
    "#     #pred_labels_test[model_name] = evaluation.label(pred_output_test[model_name], threshold=optimal_pred_threshold[model_name])\n",
    "#     print('\\n')\n",
    "\n",
    "# util.save_pkl(pred_threshold, model_path, 'ref_pred_threshold')\n",
    "# util.save_pkl(f1_score, model_path, 'ref_f1_score')\n",
    "# util.save_pkl(optimal_pred_threshold, model_path, 'ref_optimal_pred_threshold')\n",
    "    \n",
    "    "
   ]
  },
  {
   "cell_type": "code",
   "execution_count": 8,
   "metadata": {},
   "outputs": [
    {
     "name": "stdout",
     "output_type": "stream",
     "text": [
      "Done.\n",
      "Done.\n"
     ]
    }
   ],
   "source": [
    "\n",
    "for i in range(1,10,1):\n",
    "    model = util.load_model(model_path, [f'model_{cell}_{microscope}_{fl_bf}_{i}'], as_type=dict)\n",
    "    history = util.load_pkl(model_path, [f'history_{cell}_{microscope}_{fl_bf}_{i}'], as_type=dict)\n",
    "    pred_output_test = {}\n",
    "\n",
    "    model_pbar = tqdm(model.keys())\n",
    "    \n",
    "    for model_name in model_pbar:\n",
    "        model_pbar.set_description(\"Processing %s\" %model_name)\n",
    "        pred_output_test[model_name] = evaluation.predict(data_test[model_name], model[model_name])\n",
    "        pred_threshold = np.array([0.1, 0.2, 0.3, 0.5])\n",
    "    f1_score = {}\n",
    "    optimal_pred_threshold = {}\n",
    "    pred_labels_test = {}\n",
    "\n",
    "    for model_name in model:\n",
    "        print(\"Processing %s\" %model_name)\n",
    "        #f1_score[model_name] = evaluation.get_f1_curve(labels_test[model_name], pred_output_test[model_name], pred_threshold)\n",
    "\n",
    "        optimal_pred_threshold[model_name] = evaluation.get_optimal_threshold(pred_threshold, f1_score[model_name])\n",
    "\n",
    "        #pred_labels_test[model_name] = evaluation.label(pred_output_test[model_name], threshold=optimal_pred_threshold[model_name])\n",
    "        print('\\n')\n",
    "\n",
    "    util.save_pkl(pred_threshold, model_path, 'ref_pred_threshold')\n",
    "    util.save_pkl(f1_score, model_path, 'ref_f1_score')\n",
    "    util.save_pkl(optimal_pred_threshold, model_path, 'ref_optimal_pred_threshold')\n",
    "    \n",
    "    batch_size = [int(model_name.split('_b')[-1]) for model_name in folder_name]\n",
    "\n",
    "    num_models = len(batch_size)\n",
    "    cbar_ticks = np.arange(num_models)\n",
    "\n",
    "    norm_bounds = -1, num_models-1\n",
    "    norm = Normalize(*norm_bounds)\n",
    "    cmap = plt.cm.ScalarMappable(cmap='Oranges', norm=norm)\n",
    "    colors = cmap.get_cmap()(norm(cbar_ticks))\n",
    "\n",
    "    fig, ax = plt.subplots(figsize=(7, 7))\n",
    "    for model_name, b, c in zip(model, batch_size, colors):\n",
    "    ax.plot(pred_threshold, f1_score[model_name], 'o-', color=c, label=b)\n",
    "\n",
    "    ax.set(xlabel='Normalized event score threshold', ylabel='F1-score', ylim=(0, 1))\n",
    "    ax.legend(title='Batch size', title_fontsize=20)\n",
    "    plt.show()\n"
   ]
  },
  {
   "cell_type": "code",
   "execution_count": null,
   "metadata": {},
   "outputs": [],
   "source": [
    "title = 'ref_examples'\n",
    "filename = base_dir+'Figures/'+title+'.pdf'\n",
    "print(filename)\n",
    "\n",
    "title_size = 36\n",
    "\n",
    "fig, axes = plt.subplots(2, nb_models, figsize=(4*nb_models, 8))\n",
    "fig.suptitle('Batch size', size=title_size)\n",
    "for model_name, b, i in zip(folder_name, [8, 16, 32, 256], range(nb_models)):\n",
    "  frame = np.random.choice(np.where(np.any(np.any(output_test[model_name]>0, axis=-1), axis=-1))[0])\n",
    "  mask = pred_output_test[model_name][frame]>optimal_pred_threshold[model_name]\n",
    "  plotting.plot_merge(input_test[model_name][frame], output_test[model_name][frame], title='', ax=axes[0, i])\n",
    "  plotting.plot_merge(input_test[model_name][frame], pred_output_test[model_name][frame]*mask, title='', ax=axes[1, i])\n",
    "  axes[0, i].set_title(b, size=title_size)\n",
    "  \n",
    "fig.tight_layout(pad=0)\n",
    "fig.subplots_adjust(wspace=0, hspace=0.02, top=0.85)\n",
    "#plt.show()\n",
    "fig.savefig(filename)"
   ]
  },
  {
   "cell_type": "code",
   "execution_count": null,
   "metadata": {},
   "outputs": [],
   "source": [
    "for model_name in folder_name:\n",
    "  mask = pred_output_test[model_name]>optimal_pred_threshold[model_name]\n",
    "  plotting.plot_outputs(input_test[model_name], output_test[model_name], \n",
    "                        pred_output_test[model_name]*mask, frames_test[model_name], \n",
    "                        nb_examples=5, title=model_name, cmap=['gray', 'inferno'])\n",
    "  plt.show()\n",
    "  print('\\n')"
   ]
  }
 ],
 "metadata": {
  "kernelspec": {
   "display_name": "Python 3.10.7 ('.env': venv)",
   "language": "python",
   "name": "python3"
  },
  "language_info": {
   "codemirror_mode": {
    "name": "ipython",
    "version": 3
   },
   "file_extension": ".py",
   "mimetype": "text/x-python",
   "name": "python",
   "nbconvert_exporter": "python",
   "pygments_lexer": "ipython3",
   "version": "3.10.7"
  },
  "orig_nbformat": 4,
  "vscode": {
   "interpreter": {
    "hash": "1eaf8819518d82bc7e7f729f546a337f692f85bf6d00cdfaf0712e2fc6595813"
   }
  }
 },
 "nbformat": 4,
 "nbformat_minor": 2
}
