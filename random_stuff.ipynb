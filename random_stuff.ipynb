{
 "cells": [
  {
   "cell_type": "code",
   "execution_count": 1,
   "metadata": {},
   "outputs": [],
   "source": [
    "from pathlib import Path"
   ]
  },
  {
   "cell_type": "code",
   "execution_count": null,
   "metadata": {},
   "outputs": [],
   "source": [
    "Path.cwd()\n",
    "dir1= Path('folder_test1')\n",
    "dir2= Path('folder_test2')"
   ]
  },
  {
   "cell_type": "code",
   "execution_count": 4,
   "metadata": {},
   "outputs": [],
   "source": [
    "dir1.mkdir(exist_ok=True)\n",
    "dir2.mkdir()"
   ]
  },
  {
   "cell_type": "code",
   "execution_count": 15,
   "metadata": {},
   "outputs": [
    {
     "ename": "SyntaxError",
     "evalue": "unexpected character after line continuation character (3181518727.py, line 1)",
     "output_type": "error",
     "traceback": [
      "\u001b[1;36m  Cell \u001b[1;32mIn [15], line 1\u001b[1;36m\u001b[0m\n\u001b[1;33m    file1=dir1\\'file1.txt'\u001b[0m\n\u001b[1;37m               ^\u001b[0m\n\u001b[1;31mSyntaxError\u001b[0m\u001b[1;31m:\u001b[0m unexpected character after line continuation character\n"
     ]
    }
   ],
   "source": [
    "file1=dir1/'file1.txt'"
   ]
  },
  {
   "cell_type": "code",
   "execution_count": 6,
   "metadata": {},
   "outputs": [],
   "source": [
    "file1.touch()"
   ]
  },
  {
   "cell_type": "code",
   "execution_count": 7,
   "metadata": {},
   "outputs": [
    {
     "data": {
      "text/plain": [
       "True"
      ]
     },
     "execution_count": 7,
     "metadata": {},
     "output_type": "execute_result"
    }
   ],
   "source": [
    "file1.exists()"
   ]
  },
  {
   "cell_type": "code",
   "execution_count": 13,
   "metadata": {},
   "outputs": [
    {
     "ename": "FileNotFoundError",
     "evalue": "[WinError 2] The system cannot find the file specified: 'folder_test1\\\\file1.txt' -> 'folder_test2\\\\file1.txt'",
     "output_type": "error",
     "traceback": [
      "\u001b[1;31m---------------------------------------------------------------------------\u001b[0m",
      "\u001b[1;31mFileNotFoundError\u001b[0m                         Traceback (most recent call last)",
      "Cell \u001b[1;32mIn [13], line 1\u001b[0m\n\u001b[1;32m----> 1\u001b[0m file1\u001b[39m=\u001b[39mfile1\u001b[39m.\u001b[39mrename(dir2\u001b[39m/\u001b[39mfile1\u001b[39m.\u001b[39mname)\n",
      "File \u001b[1;32mC:\\Program Files\\Python310\\lib\\pathlib.py:1234\u001b[0m, in \u001b[0;36mPath.rename\u001b[1;34m(self, target)\u001b[0m\n\u001b[0;32m   1224\u001b[0m \u001b[39mdef\u001b[39;00m \u001b[39mrename\u001b[39m(\u001b[39mself\u001b[39m, target):\n\u001b[0;32m   1225\u001b[0m     \u001b[39m\"\"\"\u001b[39;00m\n\u001b[0;32m   1226\u001b[0m \u001b[39m    Rename this path to the target path.\u001b[39;00m\n\u001b[0;32m   1227\u001b[0m \n\u001b[1;32m   (...)\u001b[0m\n\u001b[0;32m   1232\u001b[0m \u001b[39m    Returns the new Path instance pointing to the target path.\u001b[39;00m\n\u001b[0;32m   1233\u001b[0m \u001b[39m    \"\"\"\u001b[39;00m\n\u001b[1;32m-> 1234\u001b[0m     \u001b[39mself\u001b[39;49m\u001b[39m.\u001b[39;49m_accessor\u001b[39m.\u001b[39;49mrename(\u001b[39mself\u001b[39;49m, target)\n\u001b[0;32m   1235\u001b[0m     \u001b[39mreturn\u001b[39;00m \u001b[39mself\u001b[39m\u001b[39m.\u001b[39m\u001b[39m__class__\u001b[39m(target)\n",
      "\u001b[1;31mFileNotFoundError\u001b[0m: [WinError 2] The system cannot find the file specified: 'folder_test1\\\\file1.txt' -> 'folder_test2\\\\file1.txt'"
     ]
    }
   ],
   "source": [
    "file1.rename(dir2/file1.name)"
   ]
  },
  {
   "cell_type": "code",
   "execution_count": 14,
   "metadata": {},
   "outputs": [
    {
     "data": {
      "text/plain": [
       "'folder_test1\\\\file1.txt'"
      ]
     },
     "execution_count": 14,
     "metadata": {},
     "output_type": "execute_result"
    }
   ],
   "source": [
    "str(file1)"
   ]
  },
  {
   "cell_type": "code",
   "execution_count": 28,
   "metadata": {},
   "outputs": [],
   "source": [
    "import tifffile\n",
    "from PIL import Image\n",
    "import numpy as np\n",
    "img = Image.open(r'C:\\Users\\roumba\\Documents\\Software\\deep-events\\original_data\\220921_mtstaygold_cos7_iSIM_fl\\220921_mtstaygold_cos7_Fluorescent_4.ome.tif')\n",
    "dataar=np.zeros((100, 1268,1268))\n",
    "\n",
    "for frame_index in range(100):\n",
    "    img.seek(frame_index) #starts from 0 I think?\n",
    "    yl=2048-2000\n",
    "    yu=1268+yl\n",
    "    box_a = (512,yl,1780,yu) #choose dimensions of box\n",
    "    imcrop= img.crop(box_a)\n",
    "    dataar[frame_index, :, :] = np.array(imcrop)\n",
    "        \n",
    "\n",
    "tifffile.imwrite('original_crop.tiff' , (dataar).astype(np.uint16), photometric='minisblack')\n"
   ]
  },
  {
   "cell_type": "code",
   "execution_count": 49,
   "metadata": {},
   "outputs": [],
   "source": [
    "img = Image.open(r'C:\\Users\\roumba\\Documents\\Software\\deep-events\\original_data\\220921_mtstaygold_cos7_iSIM_fl\\220921_mtstaygold_cos7_Fluorescent_4.ome.tif')\n",
    "data_norm=np.zeros((img.n_frames,2048,2048))\n",
    "k=0.3\n",
    "kk=1/(1-k)\n",
    "data_first=np.zeros((img.n_frames,2048,2048))\n",
    "\n",
    "for framenumber in range(img.n_frames):\n",
    "    img.seek(framenumber)\n",
    "    arrayim=np.array(img)\n",
    "    data_first[framenumber,:,:]=arrayim\n",
    "    data = (data_first[framenumber])/255                                            \n",
    "    data = data-k\n",
    "    data [data < 0] = 0   \n",
    "    data_norm[framenumber] = data*kk\n",
    "\n",
    "import imageio\n",
    "imageio.mimwrite('original_norm.tiff', (data_norm).astype(np.float64))\n"
   ]
  },
  {
   "cell_type": "code",
   "execution_count": 48,
   "metadata": {},
   "outputs": [
    {
     "name": "stdout",
     "output_type": "stream",
     "text": [
      "[[[0.30882353 0.28921569 0.32843137 ... 0.32352941 0.28921569 0.26960784]\n",
      "  [0.35294118 0.24509804 0.30882353 ... 0.30392157 0.26470588 0.28431373]\n",
      "  [0.34803922 0.29411765 0.31862745 ... 0.28921569 0.29901961 0.26960784]\n",
      "  ...\n",
      "  [0.26960784 0.25       0.24509804 ... 0.29411765 0.30392157 0.29901961]\n",
      "  [0.25490196 0.25490196 0.28431373 ... 0.28921569 0.25980392 0.25980392]\n",
      "  [0.31862745 0.24509804 0.28921569 ... 0.26470588 0.25490196 0.28431373]]\n",
      "\n",
      " [[0.28921569 0.30392157 0.35294118 ... 0.28921569 0.25980392 0.28921569]\n",
      "  [0.28431373 0.37254902 0.32352941 ... 0.29901961 0.28921569 0.25      ]\n",
      "  [0.33333333 0.31372549 0.33333333 ... 0.26470588 0.28921569 0.24019608]\n",
      "  ...\n",
      "  [0.26470588 0.25490196 0.30882353 ... 0.26470588 0.26960784 0.29411765]\n",
      "  [0.26960784 0.2745098  0.30392157 ... 0.29411765 0.26470588 0.26960784]\n",
      "  [0.29411765 0.27941176 0.24509804 ... 0.25980392 0.26470588 0.24019608]]\n",
      "\n",
      " [[0.28921569 0.33823529 0.29411765 ... 0.24019608 0.29901961 0.28431373]\n",
      "  [0.28921569 0.35784314 0.34313725 ... 0.33823529 0.25490196 0.28921569]\n",
      "  [0.28921569 0.28431373 0.33333333 ... 0.30882353 0.26470588 0.24019608]\n",
      "  ...\n",
      "  [0.24019608 0.27941176 0.32352941 ... 0.30392157 0.25980392 0.29901961]\n",
      "  [0.25       0.25       0.25490196 ... 0.25       0.2745098  0.23039216]\n",
      "  [0.26470588 0.2745098  0.25490196 ... 0.24019608 0.26960784 0.27941176]]\n",
      "\n",
      " ...\n",
      "\n",
      " [[0.28921569 0.33823529 0.29901961 ... 0.32352941 0.34313725 0.29901961]\n",
      "  [0.28431373 0.32352941 0.25       ... 0.31372549 0.28921569 0.25980392]\n",
      "  [0.29901961 0.26470588 0.26470588 ... 0.25490196 0.25       0.26470588]\n",
      "  ...\n",
      "  [0.24509804 0.25       0.30882353 ... 0.2745098  0.25980392 0.28921569]\n",
      "  [0.28431373 0.25490196 0.2745098  ... 0.28431373 0.28921569 0.26960784]\n",
      "  [0.25980392 0.24509804 0.31372549 ... 0.25980392 0.25980392 0.2745098 ]]\n",
      "\n",
      " [[0.23529412 0.33333333 0.28431373 ... 0.35784314 0.27941176 0.29901961]\n",
      "  [0.28921569 0.30392157 0.31372549 ... 0.31372549 0.32352941 0.31372549]\n",
      "  [0.32352941 0.27941176 0.30392157 ... 0.2745098  0.28431373 0.26960784]\n",
      "  ...\n",
      "  [0.31372549 0.26960784 0.29411765 ... 0.29411765 0.27941176 0.25980392]\n",
      "  [0.25       0.27941176 0.29901961 ... 0.28921569 0.25490196 0.29411765]\n",
      "  [0.30392157 0.26960784 0.29411765 ... 0.23529412 0.27941176 0.25980392]]\n",
      "\n",
      " [[0.27941176 0.34803922 0.29901961 ... 0.34313725 0.30882353 0.29411765]\n",
      "  [0.36764706 0.34803922 0.2745098  ... 0.31372549 0.30882353 0.33823529]\n",
      "  [0.35294118 0.29901961 0.28921569 ... 0.2745098  0.29411765 0.28431373]\n",
      "  ...\n",
      "  [0.27941176 0.27941176 0.25490196 ... 0.28921569 0.25980392 0.29901961]\n",
      "  [0.28431373 0.29411765 0.25980392 ... 0.27941176 0.26470588 0.27941176]\n",
      "  [0.2745098  0.30882353 0.26960784 ... 0.25490196 0.28431373 0.25980392]]]\n"
     ]
    }
   ],
   "source": [
    "print(data_norm)"
   ]
  }
 ],
 "metadata": {
  "kernelspec": {
   "display_name": "Python 3.10.7 ('.env': venv)",
   "language": "python",
   "name": "python3"
  },
  "language_info": {
   "codemirror_mode": {
    "name": "ipython",
    "version": 3
   },
   "file_extension": ".py",
   "mimetype": "text/x-python",
   "name": "python",
   "nbconvert_exporter": "python",
   "pygments_lexer": "ipython3",
   "version": "3.10.7"
  },
  "orig_nbformat": 4,
  "vscode": {
   "interpreter": {
    "hash": "1eaf8819518d82bc7e7f729f546a337f692f85bf6d00cdfaf0712e2fc6595813"
   }
  }
 },
 "nbformat": 4,
 "nbformat_minor": 2
}
