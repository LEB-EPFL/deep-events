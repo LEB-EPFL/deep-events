{
 "cells": [
  {
   "cell_type": "code",
   "execution_count": null,
   "metadata": {},
   "outputs": [],
   "source": [
    "import numpy as np\n",
    "import os\n",
    "import random as r\n",
    "import test_multiprocess as tm\n",
    "files_dir = r'C:\\Users\\roumba\\Documents\\Software\\deep-events\\training_data'\n",
    "images_dir = '221214_allbrightfield_cos7_ZEISS_bf_pos'\n",
    "images_neg_dir = '221214_allbrightfield_cos7_ZEISS_bf_neg'\n",
    "import multiprocessing\n",
    "sigmas = [2,3,4,5,6]\n",
    "number_of_augmentations = 35\n",
    "box_size=15\n",
    "offset=3\n",
    "background=0.1\n",
    "\n",
    "for sigma in sigmas:\n",
    "    print('sigma =',sigma)\n",
    "    p = multiprocessing.Process(target=tm.load_aug_train, args=(files_dir, images_dir, images_neg_dir, sigma, number_of_augmentations, box_size, offset, background)) \n",
    "    p.start() \n",
    "    p.join()\n",
    "\n",
    "\n",
    "# C:/Users/roumba/Documents/Software/deep-events/Modelsref_f8_c9_b16/model_both_ZEISS_fl_new1/model_both_ZEISS_fl_3.h5\n",
    "# C:/Users/roumba/Documents/Software/deep-events/Modelsref_f8_c9_b16/model_cos7_ZEISS_bf_3.h5"
   ]
  }
 ],
 "metadata": {
  "kernelspec": {
   "display_name": "Python 3.10.7 ('.env': venv)",
   "language": "python",
   "name": "python3"
  },
  "language_info": {
   "codemirror_mode": {
    "name": "ipython",
    "version": 3
   },
   "file_extension": ".py",
   "mimetype": "text/x-python",
   "name": "python",
   "nbconvert_exporter": "python",
   "pygments_lexer": "ipython3",
   "version": "3.10.7"
  },
  "orig_nbformat": 4,
  "vscode": {
   "interpreter": {
    "hash": "1eaf8819518d82bc7e7f729f546a337f692f85bf6d00cdfaf0712e2fc6595813"
   }
  }
 },
 "nbformat": 4,
 "nbformat_minor": 2
}
