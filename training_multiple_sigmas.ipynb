{
 "cells": [
  {
   "cell_type": "code",
   "execution_count": null,
   "metadata": {},
   "outputs": [],
   "source": [
    "import numpy as np\n",
    "import os\n",
    "import random as r\n",
    "import test_multiprocess as tm\n",
    "files_dir = r'C:\\Users\\roumba\\Documents\\Software\\deep-events\\training_data'\n",
    "images_dir = '220922_mtstaygold_both_iSIM_fl_pos'\n",
    "images_neg_dir = '220922_mtstaygold_both_iSIM_fl_neg'\n",
    "import multiprocessing\n",
    "sigmas = [2,3,4,5,6]\n",
    "number_of_augmentations = 25\n",
    "box_size=15\n",
    "offset=3\n",
    "background=0.1 # for fluorescent set this to 0.1 and for brightfield 0.05\n",
    "\n",
    "for sigma in sigmas:\n",
    "    print('sigma =',sigma)\n",
    "    p = multiprocessing.Process(target=tm.load_aug_train, args=(files_dir, images_dir, images_neg_dir, sigma, number_of_augmentations, box_size, offset, background)) \n",
    "    p.start() \n",
    "    p.join()\n",
    "\n",
    "\n",
    "# C:/Users/roumba/Documents/Software/deep-events/Modelsref_f8_c9_b16/model_both_ZEISS_fl_new1/model_both_ZEISS_fl_3.h5\n",
    "# C:/Users/roumba/Documents/Software/deep-events/Modelsref_f8_c9_b16/model_cos7_ZEISS_bf_3.h5\n",
    "# C:\\Users\\roumba\\Documents\\Software\\deep-events\\Modelsref_f8_c9_b16\\model_cos7_ZEISS_bf_3.h5\n",
    "\n",
    "\n",
    "### HOW TO ACTIVATE .ENV ###\n",
    "# C:\\Users\\roumba\\Documents\\Software\\deep-events\\.env\\Scripts\\Activate.ps1\n"
   ]
  },
  {
   "cell_type": "code",
   "execution_count": 5,
   "metadata": {},
   "outputs": [],
   "source": [
    "import numpy as np\n",
    "from glob import glob\n",
    "from sklearn.model_selection import train_test_split\n",
    "from mitosplit_net import util\n",
    "from training_functions import create_model,train_model\n",
    "from albumentations import Compose, Rotate, RandomRotate90, HorizontalFlip, Flip, VerticalFlip\n",
    "import os\n",
    "from os import path\n",
    "import random as r\n",
    "import tifffile\n",
    "from import_augmentation_function import import_fun, aug_fun, import_fun_neg, normalization_fun_loc, normalization_fun_g, import_aug_fun\n",
    "import tensorflow as tf\n",
    "\n",
    "data_ratio= 0.1\n",
    "data_split_state = None\n",
    "BASE_DIR = r'C:\\Users\\roumba\\Documents\\Software\\deep-events'\n",
    "\n",
    "\n",
    "def load_aug_train(files_dir, images_dir,images_neg_dir, sigma, k,ofs,perc,savepath):\n",
    "    date, dye, cell_type, microscope, bf_fl, pos_neg = images_dir.split('_')\n",
    "    joined_path = os.path.join(files_dir, images_dir)\n",
    "    joined_path_neg = os.path.join(files_dir, images_neg_dir)\n",
    "    all_image_array, all_image_array_gauss= import_fun(joined_path, files_dir, images_dir,sigma)\n",
    "    all_image_array_gauss, all_image_array= zero_frames(all_image_array.shape[1], all_image_array_gauss, all_image_array)\n",
    "    all_image_array_neg, all_image_array_gauss_neg = import_fun_neg(joined_path_neg,files_dir, images_neg_dir)\n",
    "\n",
    "    all_image_array = np.concatenate((all_image_array,all_image_array_neg))\n",
    "    all_image_array_gauss = np.concatenate((all_image_array_gauss,all_image_array_gauss_neg))\n",
    "\n",
    " \n",
    "\n",
    "    tifffile.imwrite(savepath +'\\Pre_background_removal_fl.tiff', (all_image_array).astype(np.uint16), photometric='minisblack')\n",
    "    tifffile.imwrite(savepath + '\\Pre_background_removal_gauss_fl.tiff', (all_image_array_gauss).astype(np.uint8), photometric='minisblack')\n",
    "\n",
    "    # imageio.mimwrite('Pre_background_removal.tiff', (all_image_array).astype(np.float64))\n",
    "    # imageio.mimwrite('Pre_background_removal_gauss.tiff', (all_image_array_gauss).astype(np.float64))\n",
    "\n",
    "                            ## NORMALIZATION ##\n",
    "\n",
    "    norm_image_array= normalization_fun_loc(all_image_array, k, ofs, perc, bf_fl)\n",
    "    norm_image_array_gauss = normalization_fun_g(all_image_array_gauss)\n",
    "\n",
    "    tifffile.imwrite(savepath + '\\Post_background_removal_fl.tiff', (norm_image_array).astype(np.float64), photometric='minisblack')\n",
    "    tifffile.imwrite(savepath + '\\Post_background_removal_gauss_fl.tiff', (norm_image_array_gauss).astype(np.float64), photometric='minisblack')\n",
    "\n",
    "    # imageio.mimwrite('Post_background_removal.tiff', (norm_image_array).astype(np.float64))\n",
    "    # imageio.mimwrite('Post_background_removal_gauss.tiff', (norm_image_array_gauss).astype(np.float64))\n",
    "\n",
    "def zero_frames(size,datag,dataim):\n",
    "    frame_check=np.zeros((size,size))\n",
    "    z_list=[]\n",
    "\n",
    "    for x in range(np.size(datag,0)):\n",
    "        frame_check = datag[x]\n",
    "        if not np.any(frame_check)==True:\n",
    "            z_list.append(x)\n",
    "\n",
    "    datag= np.delete(datag, z_list, axis=0)\n",
    "    dataim= np.delete(dataim, z_list, axis=0)\n",
    "    return datag,dataim\n"
   ]
  },
  {
   "cell_type": "code",
   "execution_count": 7,
   "metadata": {},
   "outputs": [
    {
     "name": "stdout",
     "output_type": "stream",
     "text": [
      "fluorescent removal\n"
     ]
    }
   ],
   "source": [
    "files_dir = r'C:\\Users\\roumba\\Documents\\Software\\deep-events\\training_data'\n",
    "images_dir = '221123_mtStayGold_U2OS_ZEISS_fl_pos'\n",
    "images_neg_dir = '221123_mtStayGold_U2OS_ZEISS_fl_neg'\n",
    "sigma = 4\n",
    "box_size=15\n",
    "offset=3\n",
    "background=0.1\n",
    "load_aug_train(files_dir, images_dir, images_neg_dir, sigma, box_size, offset, background, BASE_DIR)"
   ]
  }
 ],
 "metadata": {
  "kernelspec": {
   "display_name": "Python 3.10.7 ('.env': venv)",
   "language": "python",
   "name": "python3"
  },
  "language_info": {
   "codemirror_mode": {
    "name": "ipython",
    "version": 3
   },
   "file_extension": ".py",
   "mimetype": "text/x-python",
   "name": "python",
   "nbconvert_exporter": "python",
   "pygments_lexer": "ipython3",
   "version": "3.10.7"
  },
  "orig_nbformat": 4,
  "vscode": {
   "interpreter": {
    "hash": "1eaf8819518d82bc7e7f729f546a337f692f85bf6d00cdfaf0712e2fc6595813"
   }
  }
 },
 "nbformat": 4,
 "nbformat_minor": 2
}
