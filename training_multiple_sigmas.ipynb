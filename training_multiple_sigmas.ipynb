{
 "cells": [
  {
   "cell_type": "code",
   "execution_count": 1,
   "metadata": {},
   "outputs": [],
   "source": [
    "from PIL import Image\n",
    "import pandas as pd\n",
    "import numpy as np\n",
    "import cv2 as cv\n",
    "from glob import glob\n",
    "from sklearn.model_selection import train_test_split\n",
    "from mitosplit_net import util\n",
    "from training_functions import create_model,train_model\n",
    "from albumentations import Compose, Rotate, RandomRotate90, HorizontalFlip, Flip, VerticalFlip\n",
    "from tqdm import tqdm\n",
    "import os\n",
    "from os import path\n",
    "import random as r\n",
    "from import_augmentation_function import import_fun, aug_fun, import_aug_fun, normalization_fun, normalization_fun_one\n",
    "import matplotlib.pyplot as plt\n",
    "import tensorflow as tf \n",
    "import imageio\n"
   ]
  },
  {
   "cell_type": "code",
   "execution_count": 8,
   "metadata": {},
   "outputs": [],
   "source": [
    "files_dir = r'C:\\Users\\roumba\\Documents\\Software\\deep-events\\training_data'\n",
    "images_dir = '220922_mtstaygold_U2OS_iSIM_fl_pos'"
   ]
  },
  {
   "cell_type": "code",
   "execution_count": 7,
   "metadata": {},
   "outputs": [
    {
     "name": "stdout",
     "output_type": "stream",
     "text": [
      "3\n",
      "4\n",
      "5\n"
     ]
    }
   ],
   "source": [
    "import multiprocessing\n",
    "import test_multiprocess as tm\n",
    "sigmas = [1,2,7,8,9]\n",
    "number_of_augmentations = 40\n",
    "for sigma in sigmas:\n",
    "    print(sigma)\n",
    "    p = multiprocessing.Process(target=tm.load_aug_train, args=(files_dir, images_dir, sigma, number_of_augmentations)) \n",
    "    p.start() \n",
    "    p.join()\n"
   ]
  }
 ],
 "metadata": {
  "kernelspec": {
   "display_name": "Python 3.10.7 ('.env': venv)",
   "language": "python",
   "name": "python3"
  },
  "language_info": {
   "codemirror_mode": {
    "name": "ipython",
    "version": 3
   },
   "file_extension": ".py",
   "mimetype": "text/x-python",
   "name": "python",
   "nbconvert_exporter": "python",
   "pygments_lexer": "ipython3",
   "version": "3.10.7"
  },
  "orig_nbformat": 4,
  "vscode": {
   "interpreter": {
    "hash": "1eaf8819518d82bc7e7f729f546a337f692f85bf6d00cdfaf0712e2fc6595813"
   }
  }
 },
 "nbformat": 4,
 "nbformat_minor": 2
}
