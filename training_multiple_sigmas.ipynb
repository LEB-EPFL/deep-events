{
 "cells": [
  {
   "cell_type": "code",
   "execution_count": 1,
   "metadata": {},
   "outputs": [],
   "source": [
    "import numpy as np\n",
    "import os\n",
    "import random as r\n",
    "import matplotlib.pyplot as plt\n",
    "import tensorflow as tf \n",
    "import test_multiprocess as tm"
   ]
  },
  {
   "cell_type": "code",
   "execution_count": 2,
   "metadata": {},
   "outputs": [],
   "source": [
    "files_dir = r'C:\\Users\\roumba\\Documents\\Software\\deep-events\\training_data'\n",
    "images_dir = '221123_mtStayGold_both_ZEISS_fl_pos'\n",
    "images_neg_dir = '221123_mtStayGold_both_ZEISS_fl_neg'\n",
    "import multiprocessing\n",
    "sigmas = [2,3,4,5,6]\n",
    "number_of_augmentations = 40\n",
    "box_size=15\n",
    "offset=3\n",
    "background=0.1\n",
    "\n",
    "for sigma in sigmas:\n",
    "    print('sigma =',sigma)\n",
    "    p = multiprocessing.Process(target=tm.load_aug_train, args=(files_dir, images_dir, images_neg_dir, sigma, number_of_augmentations,box_size, offset, background)) \n",
    "    p.start() \n",
    "    p.join()\n"
   ]
  },
  {
   "cell_type": "code",
   "execution_count": 23,
   "metadata": {},
   "outputs": [
    {
     "name": "stdout",
     "output_type": "stream",
     "text": [
      "0 AA\n",
      "1 BB\n",
      "2 CC\n"
     ]
    }
   ],
   "source": [
    "import multiprocessing\n",
    "\n",
    "\n",
    "sigmas = [1,2,3,4,5,6,7]\n",
    "number_of_augmentations = 30\n",
    "\n",
    "for sigma in sigmas:\n",
    "    print('sigma =',sigma)\n",
    "    p = multiprocessing.Process(target=tm.load_aug_train, args=(files_dir, images_dir, images_neg_dir, sigma, number_of_augmentations)) \n",
    "    p.start() \n",
    "    p.join()\n"
   ]
  },
  {
   "cell_type": "code",
   "execution_count": 33,
   "metadata": {},
   "outputs": [
    {
     "name": "stdout",
     "output_type": "stream",
     "text": [
      "(15, 256, 256)\n",
      "(15, 256, 256)\n"
     ]
    }
   ],
   "source": [
    "import numpy as np\n",
    "from PIL import Image\n",
    "from sklearn.model_selection import train_test_split\n",
    "from mitosplit_net import util\n",
    "from training_functions import create_model,train_model\n",
    "from albumentations import Compose, Rotate, RandomRotate90, HorizontalFlip, Flip, VerticalFlip\n",
    "import os\n",
    "from os import path\n",
    "import random as r\n",
    "import imageio\n",
    "from import_augmentation_function import import_fun, aug_fun, import_fun_neg, normalization_fun, normalization_fun_g, import_aug_fun\n",
    "import tensorflow as tf \n",
    "from test_multiprocess import zero_frames\n",
    "\n",
    "files_dir = r'C:\\Users\\roumba\\Documents\\Software\\deep-events\\training_data\\220915_mtstaygold_cos7_ZEISS_fl_pos\\image_220915_cos7_GFP_1_4.tiff'\n",
    "files_dir_g= r'C:\\Users\\roumba\\Documents\\Software\\deep-events\\training_data\\220915_mtstaygold_cos7_ZEISS_fl_pos\\image_220915_cos7_GFP_1_sigma5_4gauss.tiff'\n",
    "\n",
    "data_ratio= 0.1\n",
    "data_split_state = None\n",
    "\n",
    "img_gauss = Image.open(files_dir_g)\n",
    "image_array_gauss = np.zeros((img_gauss.n_frames,256,256))\n",
    "for i in range(0, img_gauss.n_frames):\n",
    "    img_gauss.seek(i)\n",
    "    image_array_gauss[i,:,:] = np.array(img_gauss)\n",
    "all_image_array_gauss = image_array_gauss\n",
    "\n",
    "img = Image.open(files_dir)\n",
    "image_array = np.zeros((img.n_frames,256,256))\n",
    "for i in range(0,img.n_frames):\n",
    "    img.seek(i)\n",
    "    image_array[i,:,:] = np.array(img)\n",
    "all_image_array = image_array\n",
    "print(all_image_array.shape)\n",
    "print(all_image_array_gauss.shape)"
   ]
  },
  {
   "cell_type": "code",
   "execution_count": 34,
   "metadata": {},
   "outputs": [
    {
     "name": "stdout",
     "output_type": "stream",
     "text": [
      "(13, 256, 256)\n",
      "(13, 256, 256)\n",
      "(13, 128, 128)\n",
      "(13, 128, 128)\n",
      "(13, 128, 128)\n",
      "(13, 128, 128)\n",
      "[[[1.43689123e-02 1.25547841e-02 1.53861804e-02 ... 4.89077083e-01\n",
      "   6.34682061e-01 7.28050321e-01]\n",
      "  [1.92348448e-02 2.03707942e-02 2.00317049e-02 ... 6.20457262e-01\n",
      "   7.72521892e-01 8.23520935e-01]\n",
      "  [2.21171045e-02 2.63557217e-02 3.04926121e-02 ... 7.67215144e-01\n",
      "   8.71552945e-01 8.61448081e-01]\n",
      "  ...\n",
      "  [1.00751931e-01 8.51368649e-02 7.59475429e-02 ... 0.00000000e+00\n",
      "   0.00000000e+00 0.00000000e+00]\n",
      "  [1.31100430e-01 1.07245492e-01 8.70188110e-02 ... 0.00000000e+00\n",
      "   0.00000000e+00 0.00000000e+00]\n",
      "  [1.79081576e-01 1.41730882e-01 1.04159779e-01 ... 0.00000000e+00\n",
      "   0.00000000e+00 0.00000000e+00]]\n",
      "\n",
      " [[1.50470910e-02 1.67086290e-02 1.95061163e-02 ... 9.15583700e-01\n",
      "   9.95286658e-01 9.61106449e-01]\n",
      "  [1.99130236e-02 2.24392394e-02 2.76273069e-02 ... 9.28486051e-01\n",
      "   9.39286047e-01 8.86269423e-01]\n",
      "  [2.90175733e-02 2.90853912e-02 3.60028144e-02 ... 8.34795656e-01\n",
      "   7.82270712e-01 6.84239974e-01]\n",
      "  ...\n",
      "  [1.17299492e-01 1.12603104e-01 1.07788035e-01 ... 3.00941821e-03\n",
      "   2.41601180e-03 0.00000000e+00]\n",
      "  [1.42832922e-01 1.19656163e-01 1.18859303e-01 ... 0.00000000e+00\n",
      "   0.00000000e+00 0.00000000e+00]\n",
      "  [1.80471843e-01 1.52073108e-01 1.32422878e-01 ... 2.56860202e-03\n",
      "   0.00000000e+00 0.00000000e+00]]\n",
      "\n",
      " [[2.33547807e-02 2.22527403e-02 2.70678094e-02 ... 6.62843434e-01\n",
      "   7.33272297e-01 7.21912803e-01]\n",
      "  [3.03061129e-02 3.21032866e-02 3.38326424e-02 ... 7.30525673e-01\n",
      "   8.37152327e-01 8.11110263e-01]\n",
      "  [4.07331112e-02 4.06652934e-02 4.83626222e-02 ... 8.14111204e-01\n",
      "   8.89558590e-01 8.35931606e-01]\n",
      "  ...\n",
      "  [1.48343125e-01 1.37322720e-01 1.30625705e-01 ... 1.63610624e-03\n",
      "   2.41601180e-03 2.62794266e-04]\n",
      "  [1.68332443e-01 1.55497910e-01 1.39628528e-01 ... 7.20564923e-04\n",
      "   1.19529005e-03 0.00000000e+00]\n",
      "  [2.17856447e-01 1.78284716e-01 1.50360706e-01 ... 0.00000000e+00\n",
      "   0.00000000e+00 0.00000000e+00]]\n",
      "\n",
      " ...\n",
      "\n",
      " [[6.73940134e-03 1.39450506e-02 1.74546256e-02 ... 3.47592042e-01\n",
      "   4.31974433e-01 5.03183202e-01]\n",
      "  [1.50810000e-02 1.83023490e-02 2.00317049e-02 ... 4.22496885e-01\n",
      "   5.54317879e-01 6.38734179e-01]\n",
      "  [1.59117689e-02 2.49993642e-02 3.18659241e-02 ... 5.38991040e-01\n",
      "   6.91581259e-01 7.44224884e-01]\n",
      "  ...\n",
      "  [3.91724524e-01 2.80876207e-01 1.94306689e-01 ... 9.40973017e-04\n",
      "   0.00000000e+00 0.00000000e+00]\n",
      "  [4.57236591e-01 3.30637573e-01 2.39303850e-01 ... 0.00000000e+00\n",
      "   0.00000000e+00 0.00000000e+00]\n",
      "  [4.98876766e-01 4.14087468e-01 2.93761603e-01 ... 0.00000000e+00\n",
      "   0.00000000e+00 0.00000000e+00]]\n",
      "\n",
      " [[2.26596475e-02 2.43381399e-02 2.91193001e-02 ... 6.51856938e-01\n",
      "   7.89815451e-01 7.49853768e-01]\n",
      "  [3.30696913e-02 3.21032866e-02 4.14112900e-02 ... 7.11146715e-01\n",
      "   8.03090800e-01 7.49056908e-01]\n",
      "  [3.45277757e-02 4.33949628e-02 4.56159982e-02 ... 7.88594729e-01\n",
      "   8.52869120e-01 7.22167120e-01]\n",
      "  ...\n",
      "  [2.88302264e-01 2.42406517e-01 2.04004646e-01 ... 3.70455143e-03\n",
      "   5.17959021e-03 2.62794266e-04]\n",
      "  [3.74498784e-01 2.86505091e-01 2.41372295e-01 ... 0.00000000e+00\n",
      "   3.97582293e-03 0.00000000e+00]\n",
      "  [4.78107542e-01 3.72718564e-01 2.97220315e-01 ... 4.63704721e-03\n",
      "   0.00000000e+00 0.00000000e+00]]\n",
      "\n",
      " [[1.85227571e-02 2.15576070e-02 2.84411214e-02 ... 6.58723498e-01\n",
      "   8.04989700e-01 8.09821724e-01]\n",
      "  [2.26935565e-02 2.45076846e-02 3.45108212e-02 ... 7.70673855e-01\n",
      "   8.85794698e-01 8.71790307e-01]\n",
      "  [3.10860185e-02 3.65792664e-02 4.35475530e-02 ... 8.69264091e-01\n",
      "   9.32470351e-01 8.44900520e-01]\n",
      "  ...\n",
      "  [1.08347533e-01 9.74966727e-02 8.90872562e-02 ... 2.31428499e-03\n",
      "   7.24803540e-03 0.00000000e+00]\n",
      "  [1.42137789e-01 1.20334342e-01 1.05007502e-01 ... 0.00000000e+00\n",
      "   1.19529005e-03 0.00000000e+00]\n",
      "  [1.79081576e-01 1.50699796e-01 1.26912676e-01 ... 0.00000000e+00\n",
      "   0.00000000e+00 0.00000000e+00]]]\n"
     ]
    }
   ],
   "source": [
    "                        ## NORMALIZATION ##\n",
    "\n",
    "norm_image_array= normalization_fun(all_image_array, 0.1)\n",
    "norm_image_array_gauss = normalization_fun_g(all_image_array_gauss, 0.1)\n",
    "augmentation_data, data_val, augmentation_data_gauss, data_gauss_val =  train_test_split(norm_image_array, norm_image_array_gauss,\n",
    "                                                                                                       test_size=data_ratio, random_state=data_split_state)\n",
    "print(augmentation_data.shape)\n",
    "print(augmentation_data_gauss.shape)\n",
    "\n",
    "data_aug = np.zeros((np.size(augmentation_data , 0),128,128))\n",
    "data_gauss_aug = np.zeros((np.size(augmentation_data , 0),128,128))\n",
    "\n",
    "print(data_aug.shape)\n",
    "print(data_gauss_aug.shape)\n",
    "\n",
    "for frame_index in range(np.size(data_aug , 0)):\n",
    "        data_aug[frame_index] = augmentation_data[frame_index, 64:192 , 64:192]\n",
    "        data_gauss_aug[frame_index] = augmentation_data_gauss[frame_index, 64:192 , 64:192]\n",
    "print(data_aug.shape)\n",
    "print(data_gauss_aug.shape) \n",
    "print(data_aug)     "
   ]
  },
  {
   "cell_type": "code",
   "execution_count": 35,
   "metadata": {},
   "outputs": [
    {
     "name": "stdout",
     "output_type": "stream",
     "text": [
      "augmentation 0\n"
     ]
    },
    {
     "name": "stderr",
     "output_type": "stream",
     "text": [
      "100%|██████████| 13/13 [00:00<00:00, 406.11it/s]\n"
     ]
    },
    {
     "name": "stdout",
     "output_type": "stream",
     "text": [
      "(26, 128, 128)\n",
      "augmentation 1\n"
     ]
    },
    {
     "name": "stderr",
     "output_type": "stream",
     "text": [
      "100%|██████████| 13/13 [00:00<00:00, 566.36it/s]\n"
     ]
    },
    {
     "name": "stdout",
     "output_type": "stream",
     "text": [
      "(39, 128, 128)\n",
      "augmentation 2\n"
     ]
    },
    {
     "name": "stderr",
     "output_type": "stream",
     "text": [
      "100%|██████████| 13/13 [00:00<00:00, 520.37it/s]\n"
     ]
    },
    {
     "name": "stdout",
     "output_type": "stream",
     "text": [
      "(52, 128, 128)\n",
      "augmentation 3\n"
     ]
    },
    {
     "name": "stderr",
     "output_type": "stream",
     "text": [
      "100%|██████████| 13/13 [00:00<00:00, 649.62it/s]\n"
     ]
    },
    {
     "name": "stdout",
     "output_type": "stream",
     "text": [
      "(65, 128, 128)\n",
      "augmentation 4\n"
     ]
    },
    {
     "name": "stderr",
     "output_type": "stream",
     "text": [
      "100%|██████████| 13/13 [00:00<00:00, 721.55it/s]"
     ]
    },
    {
     "name": "stdout",
     "output_type": "stream",
     "text": [
      "(78, 128, 128)\n"
     ]
    },
    {
     "name": "stderr",
     "output_type": "stream",
     "text": [
      "\n"
     ]
    }
   ],
   "source": [
    "number_of_augmentations=5\n",
    "\n",
    "for j in range(number_of_augmentations):\n",
    "    transform = Compose([Rotate(limit=45, p=0.5), RandomRotate90(p=0.5), HorizontalFlip(p=0.5), Flip(p=0.5), VerticalFlip(p=0.5)])\n",
    "    print('augmentation', j)\n",
    "    augment_data, augment_data_gauss = aug_fun(augmentation_data, augmentation_data_gauss,transform)\n",
    "    # for frame_index in range(np.size(augment_data , 0)):\n",
    "    #     augment_data= augment_data[frame_index, 64:192 , 64:192]\n",
    "    #     augment_data_gauss= augment_data_gauss[frame_index, 64:192 , 64:192]\n",
    "    data_aug = np.concatenate((data_aug, augment_data[:, 64:192 , 64:192]))\n",
    "    print(data_aug.shape)\n",
    "    data_gauss_aug = np.concatenate((data_gauss_aug,augment_data_gauss[:, 64:192 , 64:192]))"
   ]
  }
 ],
 "metadata": {
  "kernelspec": {
   "display_name": "Python 3.10.7 ('.env': venv)",
   "language": "python",
   "name": "python3"
  },
  "language_info": {
   "codemirror_mode": {
    "name": "ipython",
    "version": 3
   },
   "file_extension": ".py",
   "mimetype": "text/x-python",
   "name": "python",
   "nbconvert_exporter": "python",
   "pygments_lexer": "ipython3",
   "version": "3.10.7"
  },
  "orig_nbformat": 4,
  "vscode": {
   "interpreter": {
    "hash": "1eaf8819518d82bc7e7f729f546a337f692f85bf6d00cdfaf0712e2fc6595813"
   }
  }
 },
 "nbformat": 4,
 "nbformat_minor": 2
}
