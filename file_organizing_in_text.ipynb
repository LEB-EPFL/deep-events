{
 "cells": [
  {
   "cell_type": "code",
   "execution_count": 4,
   "metadata": {},
   "outputs": [],
   "source": [
    "from tabulate import tabulate\n",
    "import os\n",
    "from pathlib import Path\n",
    "from datetime import datetime\n",
    "import uuid\n",
    "import pandas as pd\n",
    "from os import listdir"
   ]
  },
  {
   "cell_type": "code",
   "execution_count": 14,
   "metadata": {},
   "outputs": [],
   "source": [
    "training_data_file = Path(\"C:/Users/roumba/Documents/Software/deep-events/training_data\") #this imports data from this directory\n",
    "#training_data_info = open(\"training_data_info\", 'a+')\n",
    "training_data_info =[]\n",
    "column_names=['uuid','pos/neg','bf/fl','cell type','microscope','dye','date']\n",
    "\n",
    "for file in training_data_file.iterdir():\n",
    "    old_name = file.stem\n",
    "    date, dye, cell_type, microscope, bf_fl, pos_neg = old_name.split('_')\n",
    "    id= uuid.uuid4().hex\n",
    "    new_name= f'{id}_{old_name}'\n",
    "    new_data_line = [id,pos_neg,bf_fl,cell_type,microscope,dye,date]\n",
    "    training_data_info.append(new_data_line)\n",
    "    #file.rename(Path(directory, new_name))\n"
   ]
  },
  {
   "cell_type": "code",
   "execution_count": 19,
   "metadata": {},
   "outputs": [
    {
     "name": "stdout",
     "output_type": "stream",
     "text": [
      "  \tuuid                            \tpos/neg  \tbf/fl  \tcell type  \tmicroscope  \tdye             \t  date\n",
      " 0\tb2d33e205a8c40098120b2f5cb6fb37b\tpos      \tbf     \tcos7       \tZEISS       \tmtstaygold      \t220915\n",
      " 1\t8077fceb7cb44d59b9beb00c0645e45e\tpos      \tfl     \tcos7       \tZEISS       \tmtstaygold      \t220915\n",
      " 2\t988159750d06426f910ea55c4e8f94c4\tneg      \tfl     \tcos7       \tiSIM        \tmtstaygold      \t220921\n",
      " 3\tadbbfe33e7e542f290f467be7453b350\tpos      \tfl     \tcos7       \tiSIM        \tmtstaygold      \t220921\n",
      " 4\t6579d75fd0f8434785b9985eddd1d174\tpos      \tfl     \tU2OS       \tiSIM        \tmtstaygold      \t220922\n",
      " 5\t3634244ec72b484a944ea4712a0f2a6b\tpos      \tbf     \tcos7       \tZEISS       \tmitotrackergreen\t220927\n",
      " 6\taad0de6fca1f4e26ac0d5f948f5d4e7f\tpos      \tfl     \tcos7       \tZEISS       \tmitotrackergreen\t220927\n",
      " 7\t1cae7724fb5849cd8dcac25fffdea616\tpos      \tfl     \tU2OS       \tiSIM        \tmtstaygold      \t220928\n"
     ]
    }
   ],
   "source": [
    "print(tabulate(training_data_info, headers=column_names, tablefmt=\"tsv\", showindex=\"always\"))\n",
    "content2=tabulate(training_data_info, headers=column_names, showindex=\"always\")\n",
    "text_file=open(\"training_data_info.csv\",\"a\")\n",
    "text_file.write(content2)\n",
    "text_file.close()"
   ]
  }
 ],
 "metadata": {
  "kernelspec": {
   "display_name": "Python 3.10.7 ('.env': venv)",
   "language": "python",
   "name": "python3"
  },
  "language_info": {
   "codemirror_mode": {
    "name": "ipython",
    "version": 3
   },
   "file_extension": ".py",
   "mimetype": "text/x-python",
   "name": "python",
   "nbconvert_exporter": "python",
   "pygments_lexer": "ipython3",
   "version": "3.10.7"
  },
  "orig_nbformat": 4,
  "vscode": {
   "interpreter": {
    "hash": "1eaf8819518d82bc7e7f729f546a337f692f85bf6d00cdfaf0712e2fc6595813"
   }
  }
 },
 "nbformat": 4,
 "nbformat_minor": 2
}
