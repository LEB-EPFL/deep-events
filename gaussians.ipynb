{
 "cells": [
  {
   "cell_type": "code",
   "execution_count": 25,
   "metadata": {},
   "outputs": [],
   "source": [
    "csvfile = r'C:\\Users\\roumba\\Documents\\Software\\deep-events\\Videos\\Video_1\\Brightfield\\labels1b.csv'\n",
    "\n",
    "from PIL import Image\n",
    "import pandas as pd\n",
    "import numpy as np\n",
    "import matplotlib.pyplot as plt\n",
    "import plotly.io\n",
    "import plotly.express as px\n",
    "from scipy import ndimage as ndi\n",
    "import tensorflow\n",
    "import imageio\n",
    "from skimage.segmentation import flood, flood_fill\n",
    "from scipy import signal\n",
    "import tensorflow_probability as tfp\n",
    "import tensorflow as tf\n",
    "\n",
    "datacsv = pd.read_csv(csvfile)\n",
    "#data.columns\n"
   ]
  },
  {
   "cell_type": "code",
   "execution_count": 2,
   "metadata": {},
   "outputs": [],
   "source": [
    "def get_gaussian(mu, sigma, size):\n",
    "    mu = ((mu[1]+0.5-0.5*size[1])/(size[1]*0.5), (mu[0]+0.5-0.5*size[0])/(size[0]*0.5))\n",
    "    sigma = (sigma[0]/size[0], sigma[1]/size[1])\n",
    "    mvn = tfp.distributions.MultivariateNormalDiag(loc=mu, scale_diag=sigma)\n",
    "    x,y = tf.cast(tf.linspace(-1,1,size[0]),tf.float32), tf.cast(tf.linspace(-1,1,size[1]), tf.float32)\n",
    "    # meshgrid as a list of [x,y] coordinates\n",
    "    coords = tf.reshape(tf.stack(tf.meshgrid(x,y),axis=-1),(-1,2)).numpy()\n",
    "    gauss = mvn.prob(coords)\n",
    "    return tf.reshape(gauss, size)\n"
   ]
  },
  {
   "cell_type": "code",
   "execution_count": 17,
   "metadata": {},
   "outputs": [],
   "source": [
    "sigma_trial=(20,20)\n",
    "size_trial=(2048,2048)"
   ]
  },
  {
   "cell_type": "code",
   "execution_count": 54,
   "metadata": {},
   "outputs": [],
   "source": [
    "points_of_interest= np.zeros((100,img.height,img.width))\n",
    "\n",
    "for row_number in range (0, len(datacsv)):\n",
    "    framenumber_in_row= int(datacsv.loc[row_number, 'axis-0'])\n",
    "    fission_ycoord = int(datacsv.loc[row_number, 'axis-1'])\n",
    "    fission_xcoord = int(datacsv.loc[row_number, 'axis-2'])\n",
    "    fission_coords=(fission_ycoord,fission_xcoord)\n",
    "    gaussian_points=get_gaussian(fission_coords,sigma_trial,size_trial)\n",
    "    for areay_replacement in range (0,20):\n",
    "        for areax_replacement in range (0,20):\n",
    "            pointy_replacement=fission_ycoord+areay_replacement\n",
    "            pointx_replacement=fission_xcoord+areax_replacement\n",
    "            pointyy_replacement=fission_ycoord-areay_replacement\n",
    "            pointxx_replacement=fission_xcoord-areax_replacement\n",
    "            points_of_interest[framenumber_in_row,pointy_replacement,pointx_replacement]=gaussian_points[pointy_replacement,pointx_replacement]\n",
    "            points_of_interest[framenumber_in_row,pointyy_replacement,pointxx_replacement]=gaussian_points[pointyy_replacement,pointxx_replacement]\n",
    "            points_of_interest[framenumber_in_row,pointy_replacement,pointxx_replacement]=gaussian_points[pointy_replacement,pointxx_replacement]\n",
    "            points_of_interest[framenumber_in_row,pointyy_replacement,pointx_replacement]=gaussian_points[pointyy_replacement,pointx_replacement]\n",
    "            \n",
    "\n",
    "imageio.mimwrite('points.tiff', points_of_interest)"
   ]
  },
  {
   "cell_type": "code",
   "execution_count": 20,
   "metadata": {},
   "outputs": [],
   "source": [
    "def event_separation(data):\n",
    "    #this function takes in the data from the excel file and splits them into a nested list: each list within the nested list corresponds to the excel lines of a single division \n",
    "    #it differentiates the lines based on conditions on both frame number and x,y-distance that could potentially be changed if they don't work\n",
    "    length_of_file=len(data)-1\n",
    "    all_event_lines=[]\n",
    "    single_divison_events=[]\n",
    "    for excelindex in range(0,length_of_file):\n",
    "        framedataline1= data.iloc[excelindex,1] \n",
    "        framedataline2= data.iloc[excelindex+1,1] \n",
    "        framediff= abs(framedataline2-framedataline1)\n",
    "\n",
    "        ydistancedataline1= data.iloc[excelindex,2]\n",
    "        ydistancedataline2= data.iloc[excelindex+1,2]\n",
    "        ydistancediff= abs(ydistancedataline2-ydistancedataline1)\n",
    "\n",
    "        xdistancedataline1= data.iloc[excelindex,2]\n",
    "        xdistancedataline2= data.iloc[excelindex+1,2]\n",
    "        xdistancediff= abs(xdistancedataline2-xdistancedataline1)\n",
    "\n",
    "        if framediff < 3 and ydistancediff <  10 and xdistancediff < 10 :\n",
    "            single_divison_events.append(excelindex)\n",
    "            if excelindex == length_of_file-1:\n",
    "                single_divison_events.append(excelindex+1)\n",
    "                all_event_lines.append(single_divison_events)\n",
    "        else:\n",
    "            single_divison_events.append(excelindex)\n",
    "            all_event_lines.append(single_divison_events)\n",
    "            single_divison_events=[]\n",
    "    return all_event_lines"
   ]
  },
  {
   "cell_type": "code",
   "execution_count": 21,
   "metadata": {},
   "outputs": [],
   "source": [
    "def image_crop_save(l,list, data, img):   \n",
    "    division_list=[]\n",
    "    for index_list in range(0, l):\n",
    "        l1=len(list[index_list])\n",
    "        division_list=[]\n",
    "\n",
    "        for index_list1 in range(0,l1):\n",
    "            division_list.append(list[index_list][index_list1])\n",
    "            minlist=division_list[0]\n",
    "            maxlist=division_list[index_list1]\n",
    "\n",
    "        data_croped= data.iloc[minlist:maxlist,1:4]\n",
    "        frame1=int(data_croped['axis-0'].min())\n",
    "        frame2=int(data_croped['axis-0'].max())\n",
    "        ymean = data_croped['axis-1'].mean()\n",
    "        xmean = data_croped['axis-2'].mean()\n",
    "        ycrop1=ymean+128\n",
    "        ycrop2=ymean-128\n",
    "        xcrop1=xmean+128\n",
    "        xcrop2=xmean-128\n",
    "        dataar=np.zeros((frame2-frame1, 256, 256))\n",
    "\n",
    "        for frame_index, frame_number in enumerate(range (frame1, frame2)):\n",
    "            img.seek(frame_number-1) #starts from 0 I think?\n",
    "            box = (xcrop2, ycrop2, xcrop1, ycrop1) #choose dimensions of box\n",
    "            imcrop= img.crop(box)\n",
    "        \n",
    "            dataar[frame_index, :, :] = np.array(imcrop)\n",
    "            \n",
    "        currname = f'image_{index_list}.tiff'\n",
    "        imageio.mimwrite(currname, dataar)\n",
    "    return(dataar) #what does it actually return"
   ]
  },
  {
   "cell_type": "code",
   "execution_count": 55,
   "metadata": {},
   "outputs": [],
   "source": [
    "list1=event_separation(datacsv)\n",
    "l=len(list1)\n",
    "#gauss=r'C:\\Users\\roumba\\Documents\\Software\\deep-events\\points.tiff'\n",
    "#gauss_image=Image.open(gauss)\n",
    "#image_crop_save(l,list1, datacsv, gauss_image)"
   ]
  }
 ],
 "metadata": {
  "kernelspec": {
   "display_name": "Python 3.10.7 ('.env': venv)",
   "language": "python",
   "name": "python3"
  },
  "language_info": {
   "codemirror_mode": {
    "name": "ipython",
    "version": 3
   },
   "file_extension": ".py",
   "mimetype": "text/x-python",
   "name": "python",
   "nbconvert_exporter": "python",
   "pygments_lexer": "ipython3",
   "version": "3.10.7"
  },
  "orig_nbformat": 4,
  "vscode": {
   "interpreter": {
    "hash": "1eaf8819518d82bc7e7f729f546a337f692f85bf6d00cdfaf0712e2fc6595813"
   }
  }
 },
 "nbformat": 4,
 "nbformat_minor": 2
}
