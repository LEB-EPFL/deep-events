{
 "cells": [
  {
   "cell_type": "code",
   "execution_count": null,
   "metadata": {},
   "outputs": [],
   "source": [
    "csvfile = r'C:\\Users\\roumba\\Documents\\Software\\deep-events\\Videos\\done\\220915_mtstaygold_cos7_ZEIS_1\\Fluorescent\\labels1f.csv'\n",
    "\n",
    "from PIL import Image\n",
    "import pandas as pd\n",
    "import numpy as np\n",
    "import matplotlib.pyplot as plt\n",
    "import plotly.io\n",
    "import plotly.express as px\n",
    "from scipy import ndimage as ndi\n",
    "import tensorflow\n",
    "import imageio\n",
    "from skimage.segmentation import flood, flood_fill\n",
    "from scipy import signal\n",
    "import tensorflow_probability as tfp\n",
    "import tensorflow as tf\n",
    "from tqdm import tqdm  \n",
    "import myfunctions\n",
    "from myfunctions import event_separation , image_crop_save_gauss , get_gaussian\n",
    "\n",
    "\n",
    "\n",
    "datacsv = pd.read_csv(csvfile)\n",
    "sigma_trial=(8,8)\n",
    "size_trial=(2048,2048)\n"
   ]
  },
  {
   "cell_type": "code",
   "execution_count": 2,
   "metadata": {},
   "outputs": [],
   "source": [
    "def get_gaussian(mu, sigma, size):\n",
    "    mu = ((mu[1]+0.5-0.5*size[1])/(size[1]*0.5), (mu[0]+0.5-0.5*size[0])/(size[0]*0.5))\n",
    "    sigma = (sigma[0]/size[0], sigma[1]/size[1])\n",
    "    mvn = tfp.distributions.MultivariateNormalDiag(loc=mu, scale_diag=sigma)\n",
    "    x,y = tf.cast(tf.linspace(-1,1,size[0]),tf.float32), tf.cast(tf.linspace(-1,1,size[1]), tf.float32)\n",
    "    # meshgrid as a list of [x,y] coordinates\n",
    "    coords = tf.reshape(tf.stack(tf.meshgrid(x,y),axis=-1),(-1,2)).numpy()\n",
    "    gauss = mvn.prob(coords)\n",
    "    return tf.reshape(gauss, size)"
   ]
  },
  {
   "cell_type": "code",
   "execution_count": 4,
   "metadata": {},
   "outputs": [
    {
     "name": "stderr",
     "output_type": "stream",
     "text": [
      "100%|██████████| 498/498 [01:45<00:00,  4.73it/s]\n"
     ]
    }
   ],
   "source": [
    "points_of_interest= np.zeros((100, 2048, 2048))\n",
    "\n",
    "for row_number in tqdm(range(0, len(datacsv))):\n",
    "    framenumber_in_row= int(datacsv.loc[row_number, 'axis-0'])\n",
    "    fission_ycoord = int(datacsv.loc[row_number, 'axis-1'])\n",
    "    fission_xcoord = int(datacsv.loc[row_number, 'axis-2'])\n",
    "    fission_coords=(fission_ycoord,fission_xcoord)\n",
    "    gaussian_points=get_gaussian(fission_coords,sigma_trial,size_trial)                                     #gets gaussian points at a single frame\n",
    "    gaussian_points = gaussian_points.numpy()                                                               #convers tensor into numpy array\n",
    "    gaussian_points = gaussian_points/np.max(gaussian_points)                                               #divides by the max \n",
    "    gaussian_points[gaussian_points < 0.1] = 0                                                              #sets background to zero\n",
    "    gaussian_points = gaussian_points/np.max(gaussian_points)                                               #divides by max again\n",
    "    points_of_interest[framenumber_in_row] = points_of_interest[framenumber_in_row] + gaussian_points       #adds the gaussian intensity in the empty file \n",
    "\n",
    "\n",
    "   \n",
    "imageio.mimwrite('points1b.tiff', (points_of_interest*254).astype(np.uint8))"
   ]
  },
  {
   "cell_type": "code",
   "execution_count": 5,
   "metadata": {},
   "outputs": [
    {
     "data": {
      "text/plain": [
       "array([[[0., 0., 0., ..., 0., 0., 0.],\n",
       "        [0., 0., 0., ..., 0., 0., 0.],\n",
       "        [0., 0., 0., ..., 0., 0., 0.],\n",
       "        ...,\n",
       "        [0., 0., 0., ..., 0., 0., 0.],\n",
       "        [0., 0., 0., ..., 0., 0., 0.],\n",
       "        [0., 0., 0., ..., 0., 0., 0.]],\n",
       "\n",
       "       [[0., 0., 0., ..., 0., 0., 0.],\n",
       "        [0., 0., 0., ..., 0., 0., 0.],\n",
       "        [0., 0., 0., ..., 0., 0., 0.],\n",
       "        ...,\n",
       "        [0., 0., 0., ..., 0., 0., 0.],\n",
       "        [0., 0., 0., ..., 0., 0., 0.],\n",
       "        [0., 0., 0., ..., 0., 0., 0.]],\n",
       "\n",
       "       [[0., 0., 0., ..., 0., 0., 0.],\n",
       "        [0., 0., 0., ..., 0., 0., 0.],\n",
       "        [0., 0., 0., ..., 0., 0., 0.],\n",
       "        ...,\n",
       "        [0., 0., 0., ..., 0., 0., 0.],\n",
       "        [0., 0., 0., ..., 0., 0., 0.],\n",
       "        [0., 0., 0., ..., 0., 0., 0.]],\n",
       "\n",
       "       ...,\n",
       "\n",
       "       [[0., 0., 0., ..., 0., 0., 0.],\n",
       "        [0., 0., 0., ..., 0., 0., 0.],\n",
       "        [0., 0., 0., ..., 0., 0., 0.],\n",
       "        ...,\n",
       "        [0., 0., 0., ..., 0., 0., 0.],\n",
       "        [0., 0., 0., ..., 0., 0., 0.],\n",
       "        [0., 0., 0., ..., 0., 0., 0.]],\n",
       "\n",
       "       [[0., 0., 0., ..., 0., 0., 0.],\n",
       "        [0., 0., 0., ..., 0., 0., 0.],\n",
       "        [0., 0., 0., ..., 0., 0., 0.],\n",
       "        ...,\n",
       "        [0., 0., 0., ..., 0., 0., 0.],\n",
       "        [0., 0., 0., ..., 0., 0., 0.],\n",
       "        [0., 0., 0., ..., 0., 0., 0.]],\n",
       "\n",
       "       [[0., 0., 0., ..., 0., 0., 0.],\n",
       "        [0., 0., 0., ..., 0., 0., 0.],\n",
       "        [0., 0., 0., ..., 0., 0., 0.],\n",
       "        ...,\n",
       "        [0., 0., 0., ..., 0., 0., 0.],\n",
       "        [0., 0., 0., ..., 0., 0., 0.],\n",
       "        [0., 0., 0., ..., 0., 0., 0.]]])"
      ]
     },
     "execution_count": 5,
     "metadata": {},
     "output_type": "execute_result"
    }
   ],
   "source": [
    "list1=event_separation(datacsv)\n",
    "l=len(list1)\n",
    "gauss=r'C:\\Users\\roumba\\Documents\\Software\\deep-events\\points1b.tiff'\n",
    "gauss_image=Image.open(gauss)\n",
    "image_crop_save_gauss(l,list1, datacsv, gauss_image)"
   ]
  }
 ],
 "metadata": {
  "kernelspec": {
   "display_name": "Python 3.10.7 ('.env': venv)",
   "language": "python",
   "name": "python3"
  },
  "language_info": {
   "codemirror_mode": {
    "name": "ipython",
    "version": 3
   },
   "file_extension": ".py",
   "mimetype": "text/x-python",
   "name": "python",
   "nbconvert_exporter": "python",
   "pygments_lexer": "ipython3",
   "version": "3.10.7"
  },
  "orig_nbformat": 4,
  "vscode": {
   "interpreter": {
    "hash": "1eaf8819518d82bc7e7f729f546a337f692f85bf6d00cdfaf0712e2fc6595813"
   }
  }
 },
 "nbformat": 4,
 "nbformat_minor": 2
}
