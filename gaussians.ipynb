{
 "cells": [
  {
   "cell_type": "code",
   "execution_count": 17,
   "metadata": {},
   "outputs": [],
   "source": [
    "imagefile= r'C:\\Users\\roumba\\Documents\\Software\\deep-events\\Videos\\Video_1\\Brightfield\\220915_cos7_mitostaygold1_w1Brightfield.ome.tif'\n",
    "csvfile = r'C:\\Users\\roumba\\Documents\\Software\\deep-events\\Videos\\Video_1\\Brightfield\\labels1b.csv'\n",
    "\n",
    "from PIL import Image\n",
    "import pandas as pd\n",
    "import numpy as np\n",
    "import matplotlib.pyplot as plt\n",
    "import plotly.io\n",
    "import plotly.express as px\n",
    "from scipy import ndimage as ndi\n",
    "import tensorflow\n",
    "import imageio\n",
    "from skimage.segmentation import flood, flood_fill\n",
    "from scipy import signal\n",
    "import tensorflow_probability as tfp\n",
    "import tensorflow as tf\n",
    "\n",
    "img = Image.open(imagefile)\n",
    "#tiffarray = np.array(img)\n",
    "\n",
    "datacsv = pd.read_csv(csvfile)\n",
    "#data.columns\n"
   ]
  },
  {
   "cell_type": "code",
   "execution_count": 6,
   "metadata": {},
   "outputs": [],
   "source": [
    "def get_gaussian(mu, sigma, size):\n",
    "    mu = ((mu[1]+0.5-0.5*size[1])/(size[1]*0.5), (mu[0]+0.5-0.5*size[0])/(size[0]*0.5))\n",
    "    sigma = (sigma[0]/size[0], sigma[1]/size[1])\n",
    "    mvn = tfp.distributions.MultivariateNormalDiag(loc=mu, scale_diag=sigma)\n",
    "    x,y = tf.cast(tf.linspace(-1,1,size[0]),tf.float32), tf.cast(tf.linspace(-1,1,size[1]), tf.float32)\n",
    "    # meshgrid as a list of [x,y] coordinates\n",
    "    coords = tf.reshape(tf.stack(tf.meshgrid(x,y),axis=-1),(-1,2)).numpy()\n",
    "    gauss = mvn.prob(coords)\n",
    "    return tf.reshape(gauss, size)\n"
   ]
  },
  {
   "cell_type": "code",
   "execution_count": 15,
   "metadata": {},
   "outputs": [
    {
     "data": {
      "text/plain": [
       "(100, 2048, 2048)"
      ]
     },
     "execution_count": 15,
     "metadata": {},
     "output_type": "execute_result"
    }
   ],
   "source": [
    "empty_frames= np.zeros((100,img.height,img.width))\n",
    "empty_frames.shape"
   ]
  },
  {
   "cell_type": "code",
   "execution_count": 22,
   "metadata": {},
   "outputs": [
    {
     "ename": "TypeError",
     "evalue": "'int' object is not subscriptable",
     "output_type": "error",
     "traceback": [
      "\u001b[1;31m---------------------------------------------------------------------------\u001b[0m",
      "\u001b[1;31mTypeError\u001b[0m                                 Traceback (most recent call last)",
      "Cell \u001b[1;32mIn [22], line 9\u001b[0m\n\u001b[0;32m      7\u001b[0m     empty_frames[framenumber_in_row,fission_ycoord,fission_xcoord]\u001b[38;5;241m=\u001b[39m\u001b[38;5;241m1\u001b[39m\n\u001b[0;32m      8\u001b[0m \u001b[38;5;66;03m#imageio.mimwrite('points.tiff', empty_frames)\u001b[39;00m\n\u001b[1;32m----> 9\u001b[0m get_gaussian(empty_frames,\u001b[38;5;241m0.5\u001b[39m,\u001b[38;5;241m2048\u001b[39m)\n",
      "Cell \u001b[1;32mIn [6], line 2\u001b[0m, in \u001b[0;36mget_gaussian\u001b[1;34m(mu, sigma, size)\u001b[0m\n\u001b[0;32m      1\u001b[0m \u001b[38;5;28;01mdef\u001b[39;00m \u001b[38;5;21mget_gaussian\u001b[39m(mu, sigma, size):\n\u001b[1;32m----> 2\u001b[0m     mu \u001b[38;5;241m=\u001b[39m ((mu[\u001b[38;5;241m1\u001b[39m]\u001b[38;5;241m+\u001b[39m\u001b[38;5;241m0.5\u001b[39m\u001b[38;5;241m-\u001b[39m\u001b[38;5;241m0.5\u001b[39m\u001b[38;5;241m*\u001b[39m\u001b[43msize\u001b[49m\u001b[43m[\u001b[49m\u001b[38;5;241;43m1\u001b[39;49m\u001b[43m]\u001b[49m)\u001b[38;5;241m/\u001b[39m(size[\u001b[38;5;241m1\u001b[39m]\u001b[38;5;241m*\u001b[39m\u001b[38;5;241m0.5\u001b[39m), (mu[\u001b[38;5;241m0\u001b[39m]\u001b[38;5;241m+\u001b[39m\u001b[38;5;241m0.5\u001b[39m\u001b[38;5;241m-\u001b[39m\u001b[38;5;241m0.5\u001b[39m\u001b[38;5;241m*\u001b[39msize[\u001b[38;5;241m0\u001b[39m])\u001b[38;5;241m/\u001b[39m(size[\u001b[38;5;241m0\u001b[39m]\u001b[38;5;241m*\u001b[39m\u001b[38;5;241m0.5\u001b[39m))\n\u001b[0;32m      3\u001b[0m     sigma \u001b[38;5;241m=\u001b[39m (sigma[\u001b[38;5;241m0\u001b[39m]\u001b[38;5;241m/\u001b[39msize[\u001b[38;5;241m0\u001b[39m], sigma[\u001b[38;5;241m1\u001b[39m]\u001b[38;5;241m/\u001b[39msize[\u001b[38;5;241m1\u001b[39m])\n\u001b[0;32m      4\u001b[0m     mvn \u001b[38;5;241m=\u001b[39m tfp\u001b[38;5;241m.\u001b[39mdistributions\u001b[38;5;241m.\u001b[39mMultivariateNormalDiag(loc\u001b[38;5;241m=\u001b[39mmu, scale_diag\u001b[38;5;241m=\u001b[39msigma)\n",
      "\u001b[1;31mTypeError\u001b[0m: 'int' object is not subscriptable"
     ]
    }
   ],
   "source": [
    "empty_frames= np.zeros((100,img.height,img.width))\n",
    "\n",
    "for row_number in range (0, len(datacsv)):\n",
    "    framenumber_in_row= int(datacsv.loc[row_number, 'axis-0'])\n",
    "    fission_ycoord = int(datacsv.loc[row_number, 'axis-1'])\n",
    "    fission_xcoord = int(datacsv.loc[row_number, 'axis-2'])\n",
    "    empty_frames[framenumber_in_row,fission_ycoord,fission_xcoord]=1\n",
    "#imageio.mimwrite('points.tiff', empty_frames)\n",
    "get_gaussian(empty_frames,0.5,2048)\n",
    "    "
   ]
  }
 ],
 "metadata": {
  "kernelspec": {
   "display_name": "Python 3.10.7 ('.env': venv)",
   "language": "python",
   "name": "python3"
  },
  "language_info": {
   "codemirror_mode": {
    "name": "ipython",
    "version": 3
   },
   "file_extension": ".py",
   "mimetype": "text/x-python",
   "name": "python",
   "nbconvert_exporter": "python",
   "pygments_lexer": "ipython3",
   "version": "3.10.7"
  },
  "orig_nbformat": 4,
  "vscode": {
   "interpreter": {
    "hash": "1eaf8819518d82bc7e7f729f546a337f692f85bf6d00cdfaf0712e2fc6595813"
   }
  }
 },
 "nbformat": 4,
 "nbformat_minor": 2
}
