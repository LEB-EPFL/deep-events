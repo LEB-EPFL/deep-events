{
 "cells": [
  {
   "cell_type": "code",
   "execution_count": 28,
   "metadata": {},
   "outputs": [],
   "source": [
    "import tifffile\n",
    "from PIL import Image\n",
    "import numpy as np\n",
    "img = Image.open(r'C:\\Users\\roumba\\Documents\\Software\\deep-events\\original_data\\220921_mtstaygold_cos7_iSIM_fl\\220921_mtstaygold_cos7_Fluorescent_4.ome.tif')\n",
    "dataar=np.zeros((100, 1268,1268))\n",
    "\n",
    "for frame_index in range(100):\n",
    "    img.seek(frame_index) #starts from 0 I think?\n",
    "    yl=2048-2000\n",
    "    yu=1268+yl\n",
    "    box_a = (512,yl,1780,yu) #choose dimensions of box\n",
    "    imcrop= img.crop(box_a)\n",
    "    dataar[frame_index, :, :] = np.array(imcrop)\n",
    "        \n",
    "\n",
    "tifffile.imwrite('original_crop.tiff' , (dataar).astype(np.uint16), photometric='minisblack')\n"
   ]
  },
  {
   "cell_type": "code",
   "execution_count": 9,
   "metadata": {},
   "outputs": [],
   "source": [
    "from PIL import Image\n",
    "import numpy as np\n",
    "\n",
    "img = Image.open(r'C:\\Users\\roumba\\Documents\\Software\\deep-events\\original_data\\220921_mtstaygold_cos7_iSIM_fl\\220921_mtstaygold_cos7_Fluorescent_4.ome.tif')\n",
    "data_norm=np.zeros((img.n_frames,2048,2048))\n",
    "k=0.085\n",
    "kk=1/(1-k)\n",
    "data_first=np.zeros((img.n_frames,2048,2048))\n",
    "\n",
    "for framenumber in range(img.n_frames):\n",
    "    img.seek(framenumber)\n",
    "    arrayim=np.array(img)\n",
    "    data_first[framenumber,:,:]=arrayim\n",
    "    data = (data_first[framenumber])/(np.max(data_first[framenumber]))\n",
    "    data = data-k\n",
    "    data [data < 0] = 0   \n",
    "    data_norm[framenumber] = data*kk\n",
    "\n",
    "import imageio\n",
    "imageio.mimwrite('original_norm.tiff', (data_norm).astype(np.float64))\n"
   ]
  },
  {
   "cell_type": "code",
   "execution_count": null,
   "metadata": {},
   "outputs": [],
   "source": [
    "import cv2 as cv\n",
    "import numpy as np\n",
    "from PIL import Image\n",
    "from matplotlib import pyplot as plt\n",
    "\n",
    "img = Image.open(r'C:\\Users\\roumba\\Documents\\Software\\deep-events\\original_data\\220921_mtstaygold_cos7_iSIM_fl\\220921_mtstaygold_cos7_Fluorescent_4.ome.tif')\n",
    "\n",
    "#ret2,th2 = cv.threshold(img,0,255,cv.THRESH_BINARY+cv.THRESH_OTSU)\n",
    "blur = cv.GaussianBlur(img,(5,5),0)\n",
    "ret3,th3 = cv.threshold(blur,0,255,cv.THRESH_BINARY+cv.THRESH_OTSU)"
   ]
  }
 ],
 "metadata": {
  "kernelspec": {
   "display_name": "Python 3.10.7 ('.env': venv)",
   "language": "python",
   "name": "python3"
  },
  "language_info": {
   "codemirror_mode": {
    "name": "ipython",
    "version": 3
   },
   "file_extension": ".py",
   "mimetype": "text/x-python",
   "name": "python",
   "nbconvert_exporter": "python",
   "pygments_lexer": "ipython3",
   "version": "3.10.7"
  },
  "orig_nbformat": 4,
  "vscode": {
   "interpreter": {
    "hash": "1eaf8819518d82bc7e7f729f546a337f692f85bf6d00cdfaf0712e2fc6595813"
   }
  }
 },
 "nbformat": 4,
 "nbformat_minor": 2
}
