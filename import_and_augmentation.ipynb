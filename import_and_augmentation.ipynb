{
 "cells": [
  {
   "cell_type": "code",
   "execution_count": 1,
   "metadata": {},
   "outputs": [],
   "source": [
    "from PIL import Image\n",
    "import pandas as pd\n",
    "import numpy as np\n",
    "import cv2 as cv\n",
    "from glob import glob\n",
    "from sklearn.model_selection import train_test_split\n",
    "from mitosplit_net import preprocessing, augmentation, evaluation, training, plotting, util\n",
    "from albumentations import Compose, Rotate, RandomRotate90, HorizontalFlip, Flip, ElasticTransform, GaussNoise, RandomCrop, Resize\n",
    "from tqdm import tqdm\n",
    "import os, sys\n",
    "from os import path\n",
    "import random as r\n",
    "from import_augmentation_function import import_fun, aug_fun, import_aug_fun, normalization_fun\n",
    "import matplotlib.pyplot as plt\n",
    "import tensorflow as tf \n",
    "import imageio"
   ]
  },
  {
   "cell_type": "markdown",
   "metadata": {},
   "source": [
    "## Choice of folder and number of augmentations ##"
   ]
  },
  {
   "cell_type": "code",
   "execution_count": 2,
   "metadata": {},
   "outputs": [],
   "source": [
    "files_dir = r'C:\\Users\\roumba\\Documents\\Software\\deep-events\\training_data'\n",
    "images_dir = '220915_mtstaygold_cos7_ZEISS_fl_pos'\n",
    "date, dye, cell_type, microscope, bf_fl, pos_neg = images_dir.split('_')\n",
    "joined_path = os.path.join(files_dir, images_dir)\n",
    "img_size = 256\n",
    "data_ratio=0.1\n",
    "data_split_state = None \n",
    "number_of_augmentations = 5 "
   ]
  },
  {
   "cell_type": "markdown",
   "metadata": {},
   "source": [
    "## Import and Split ##\n",
    "                            "
   ]
  },
  {
   "cell_type": "code",
   "execution_count": 3,
   "metadata": {},
   "outputs": [
    {
     "name": "stdout",
     "output_type": "stream",
     "text": [
      "C:\\Users\\roumba\\Documents\\Software\\deep-events\\training_data\\220915_mtstaygold_cos7_ZEISS_fl_pos\\image_220915_cos7_GFP_1.ome_0.tiff\n",
      "6\n",
      "0\n",
      "1\n",
      "2\n",
      "3\n",
      "4\n",
      "C:\\Users\\roumba\\Documents\\Software\\deep-events\\training_data\\220915_mtstaygold_cos7_ZEISS_fl_pos\\image_220915_cos7_GFP_1.ome_0gauss.tiff\n",
      "6\n",
      "C:\\Users\\roumba\\Documents\\Software\\deep-events\\training_data\\220915_mtstaygold_cos7_ZEISS_fl_pos\\image_220915_cos7_GFP_1.ome_1.tiff\n",
      "1\n",
      "C:\\Users\\roumba\\Documents\\Software\\deep-events\\training_data\\220915_mtstaygold_cos7_ZEISS_fl_pos\\image_220915_cos7_GFP_1.ome_10.tiff\n",
      "15\n",
      "0\n",
      "1\n",
      "2\n",
      "3\n",
      "4\n",
      "5\n",
      "6\n",
      "7\n",
      "8\n",
      "9\n",
      "10\n",
      "11\n",
      "12\n",
      "13\n",
      "C:\\Users\\roumba\\Documents\\Software\\deep-events\\training_data\\220915_mtstaygold_cos7_ZEISS_fl_pos\\image_220915_cos7_GFP_1.ome_10gauss.tiff\n",
      "15\n",
      "C:\\Users\\roumba\\Documents\\Software\\deep-events\\training_data\\220915_mtstaygold_cos7_ZEISS_fl_pos\\image_220915_cos7_GFP_1.ome_11.tiff\n",
      "1\n",
      "C:\\Users\\roumba\\Documents\\Software\\deep-events\\training_data\\220915_mtstaygold_cos7_ZEISS_fl_pos\\image_220915_cos7_GFP_1.ome_11gauss.tiff\n",
      "1\n",
      "C:\\Users\\roumba\\Documents\\Software\\deep-events\\training_data\\220915_mtstaygold_cos7_ZEISS_fl_pos\\image_220915_cos7_GFP_1.ome_12.tiff\n",
      "18\n",
      "0\n",
      "1\n",
      "2\n",
      "3\n",
      "4\n",
      "5\n",
      "6\n",
      "7\n",
      "8\n",
      "9\n",
      "10\n",
      "11\n",
      "12\n",
      "13\n",
      "14\n",
      "15\n",
      "16\n",
      "C:\\Users\\roumba\\Documents\\Software\\deep-events\\training_data\\220915_mtstaygold_cos7_ZEISS_fl_pos\\image_220915_cos7_GFP_1.ome_12gauss.tiff\n",
      "18\n",
      "C:\\Users\\roumba\\Documents\\Software\\deep-events\\training_data\\220915_mtstaygold_cos7_ZEISS_fl_pos\\image_220915_cos7_GFP_1.ome_13.tiff\n",
      "2\n",
      "0\n",
      "C:\\Users\\roumba\\Documents\\Software\\deep-events\\training_data\\220915_mtstaygold_cos7_ZEISS_fl_pos\\image_220915_cos7_GFP_1.ome_13gauss.tiff\n",
      "2\n",
      "C:\\Users\\roumba\\Documents\\Software\\deep-events\\training_data\\220915_mtstaygold_cos7_ZEISS_fl_pos\\image_220915_cos7_GFP_1.ome_1gauss.tiff\n",
      "1\n",
      "C:\\Users\\roumba\\Documents\\Software\\deep-events\\training_data\\220915_mtstaygold_cos7_ZEISS_fl_pos\\image_220915_cos7_GFP_1.ome_2.tiff\n",
      "7\n",
      "0\n",
      "1\n",
      "2\n",
      "3\n",
      "4\n",
      "5\n",
      "C:\\Users\\roumba\\Documents\\Software\\deep-events\\training_data\\220915_mtstaygold_cos7_ZEISS_fl_pos\\image_220915_cos7_GFP_1.ome_2gauss.tiff\n",
      "7\n",
      "C:\\Users\\roumba\\Documents\\Software\\deep-events\\training_data\\220915_mtstaygold_cos7_ZEISS_fl_pos\\image_220915_cos7_GFP_1.ome_3.tiff\n",
      "1\n",
      "C:\\Users\\roumba\\Documents\\Software\\deep-events\\training_data\\220915_mtstaygold_cos7_ZEISS_fl_pos\\image_220915_cos7_GFP_1.ome_3gauss.tiff\n",
      "1\n",
      "C:\\Users\\roumba\\Documents\\Software\\deep-events\\training_data\\220915_mtstaygold_cos7_ZEISS_fl_pos\\image_220915_cos7_GFP_1.ome_4.tiff\n",
      "15\n",
      "0\n",
      "1\n",
      "2\n",
      "3\n",
      "4\n",
      "5\n",
      "6\n",
      "7\n",
      "8\n",
      "9\n",
      "10\n",
      "11\n",
      "12\n",
      "13\n",
      "C:\\Users\\roumba\\Documents\\Software\\deep-events\\training_data\\220915_mtstaygold_cos7_ZEISS_fl_pos\\image_220915_cos7_GFP_1.ome_4gauss.tiff\n",
      "15\n",
      "C:\\Users\\roumba\\Documents\\Software\\deep-events\\training_data\\220915_mtstaygold_cos7_ZEISS_fl_pos\\image_220915_cos7_GFP_1.ome_5.tiff\n",
      "8\n",
      "0\n",
      "1\n",
      "2\n",
      "3\n",
      "4\n",
      "5\n",
      "6\n",
      "C:\\Users\\roumba\\Documents\\Software\\deep-events\\training_data\\220915_mtstaygold_cos7_ZEISS_fl_pos\\image_220915_cos7_GFP_1.ome_5gauss.tiff\n",
      "8\n",
      "C:\\Users\\roumba\\Documents\\Software\\deep-events\\training_data\\220915_mtstaygold_cos7_ZEISS_fl_pos\\image_220915_cos7_GFP_1.ome_6.tiff\n",
      "7\n",
      "0\n",
      "1\n",
      "2\n",
      "3\n",
      "4\n",
      "5\n",
      "C:\\Users\\roumba\\Documents\\Software\\deep-events\\training_data\\220915_mtstaygold_cos7_ZEISS_fl_pos\\image_220915_cos7_GFP_1.ome_6gauss.tiff\n",
      "7\n",
      "C:\\Users\\roumba\\Documents\\Software\\deep-events\\training_data\\220915_mtstaygold_cos7_ZEISS_fl_pos\\image_220915_cos7_GFP_1.ome_7.tiff\n",
      "18\n",
      "0\n",
      "1\n",
      "2\n",
      "3\n",
      "4\n",
      "5\n",
      "6\n",
      "7\n",
      "8\n",
      "9\n",
      "10\n",
      "11\n",
      "12\n",
      "13\n",
      "14\n",
      "15\n",
      "16\n",
      "C:\\Users\\roumba\\Documents\\Software\\deep-events\\training_data\\220915_mtstaygold_cos7_ZEISS_fl_pos\\image_220915_cos7_GFP_1.ome_7gauss.tiff\n",
      "18\n",
      "C:\\Users\\roumba\\Documents\\Software\\deep-events\\training_data\\220915_mtstaygold_cos7_ZEISS_fl_pos\\image_220915_cos7_GFP_1.ome_8.tiff\n",
      "9\n",
      "0\n",
      "1\n",
      "2\n",
      "3\n",
      "4\n",
      "5\n",
      "6\n",
      "7\n",
      "C:\\Users\\roumba\\Documents\\Software\\deep-events\\training_data\\220915_mtstaygold_cos7_ZEISS_fl_pos\\image_220915_cos7_GFP_1.ome_8gauss.tiff\n",
      "9\n",
      "C:\\Users\\roumba\\Documents\\Software\\deep-events\\training_data\\220915_mtstaygold_cos7_ZEISS_fl_pos\\image_220915_cos7_GFP_1.ome_9.tiff\n",
      "15\n",
      "0\n",
      "1\n",
      "2\n",
      "3\n",
      "4\n",
      "5\n",
      "6\n",
      "7\n",
      "8\n",
      "9\n",
      "10\n",
      "11\n",
      "12\n",
      "13\n",
      "C:\\Users\\roumba\\Documents\\Software\\deep-events\\training_data\\220915_mtstaygold_cos7_ZEISS_fl_pos\\image_220915_cos7_GFP_1.ome_9gauss.tiff\n",
      "15\n",
      "C:\\Users\\roumba\\Documents\\Software\\deep-events\\training_data\\220915_mtstaygold_cos7_ZEISS_fl_pos\\image_220915_cos7_GFP_2.ome_0.tiff\n",
      "14\n",
      "0\n",
      "1\n",
      "2\n",
      "3\n",
      "4\n",
      "5\n",
      "6\n",
      "7\n",
      "8\n",
      "9\n",
      "10\n",
      "11\n",
      "12\n",
      "C:\\Users\\roumba\\Documents\\Software\\deep-events\\training_data\\220915_mtstaygold_cos7_ZEISS_fl_pos\\image_220915_cos7_GFP_2.ome_0gauss.tiff\n",
      "14\n",
      "C:\\Users\\roumba\\Documents\\Software\\deep-events\\training_data\\220915_mtstaygold_cos7_ZEISS_fl_pos\\image_220915_cos7_GFP_2.ome_1.tiff\n",
      "11\n",
      "0\n",
      "1\n",
      "2\n",
      "3\n",
      "4\n",
      "5\n",
      "6\n",
      "7\n",
      "8\n",
      "9\n",
      "C:\\Users\\roumba\\Documents\\Software\\deep-events\\training_data\\220915_mtstaygold_cos7_ZEISS_fl_pos\\image_220915_cos7_GFP_2.ome_1gauss.tiff\n",
      "11\n",
      "C:\\Users\\roumba\\Documents\\Software\\deep-events\\training_data\\220915_mtstaygold_cos7_ZEISS_fl_pos\\image_220915_cos7_GFP_2.ome_2.tiff\n",
      "10\n",
      "0\n",
      "1\n",
      "2\n",
      "3\n",
      "4\n",
      "5\n",
      "6\n",
      "7\n",
      "8\n",
      "C:\\Users\\roumba\\Documents\\Software\\deep-events\\training_data\\220915_mtstaygold_cos7_ZEISS_fl_pos\\image_220915_cos7_GFP_2.ome_2gauss.tiff\n",
      "10\n",
      "C:\\Users\\roumba\\Documents\\Software\\deep-events\\training_data\\220915_mtstaygold_cos7_ZEISS_fl_pos\\image_220915_cos7_GFP_3.ome_0.tiff\n",
      "16\n",
      "0\n",
      "1\n",
      "2\n",
      "3\n",
      "4\n",
      "5\n",
      "6\n",
      "7\n",
      "8\n",
      "9\n",
      "10\n",
      "11\n",
      "12\n",
      "13\n",
      "14\n",
      "C:\\Users\\roumba\\Documents\\Software\\deep-events\\training_data\\220915_mtstaygold_cos7_ZEISS_fl_pos\\image_220915_cos7_GFP_3.ome_0gauss.tiff\n",
      "16\n",
      "C:\\Users\\roumba\\Documents\\Software\\deep-events\\training_data\\220915_mtstaygold_cos7_ZEISS_fl_pos\\image_220915_cos7_GFP_3.ome_1.tiff\n",
      "9\n",
      "0\n",
      "1\n",
      "2\n",
      "3\n",
      "4\n",
      "5\n",
      "6\n",
      "7\n",
      "C:\\Users\\roumba\\Documents\\Software\\deep-events\\training_data\\220915_mtstaygold_cos7_ZEISS_fl_pos\\image_220915_cos7_GFP_3.ome_1gauss.tiff\n",
      "9\n",
      "C:\\Users\\roumba\\Documents\\Software\\deep-events\\training_data\\220915_mtstaygold_cos7_ZEISS_fl_pos\\image_220915_cos7_GFP_3.ome_2.tiff\n",
      "2\n",
      "0\n",
      "C:\\Users\\roumba\\Documents\\Software\\deep-events\\training_data\\220915_mtstaygold_cos7_ZEISS_fl_pos\\image_220915_cos7_GFP_3.ome_2gauss.tiff\n",
      "2\n"
     ]
    },
    {
     "name": "stderr",
     "output_type": "stream",
     "text": [
      "100%|██████████| 166/166 [00:00<00:00, 1339.15it/s]\n",
      "100%|██████████| 166/166 [00:00<00:00, 1523.35it/s]\n",
      "100%|██████████| 166/166 [00:00<00:00, 1509.53it/s]\n",
      "100%|██████████| 166/166 [00:00<00:00, 1482.58it/s]\n",
      "100%|██████████| 166/166 [00:00<00:00, 1431.47it/s]\n"
     ]
    }
   ],
   "source": [
    "all_image_array, all_image_array_gauss = import_fun(joined_path, files_dir, images_dir)\n",
    "augmentation_data, data_val, augmentation_data_gauss, data_gauss_val =  train_test_split(all_image_array, all_image_array_gauss, \n",
    "                                                                                                       test_size=data_ratio, random_state=data_split_state)\n",
    "data_aug = augmentation_data\n",
    "data_gauss_aug = augmentation_data_gauss\n",
    "for j in range(number_of_augmentations):\n",
    "    augment_data, augment_data_gauss = aug_fun(augmentation_data, augmentation_data_gauss)\n",
    "    data_aug = np.concatenate((data_aug, augment_data))\n",
    "    data_gauss_aug = np.concatenate((data_gauss_aug,augment_data_gauss))\n"
   ]
  },
  {
   "cell_type": "markdown",
   "metadata": {},
   "source": [
    "## Normalization and Shuffle ##"
   ]
  },
  {
   "cell_type": "code",
   "execution_count": 35,
   "metadata": {},
   "outputs": [],
   "source": [
    "data_val_norm, data_aug_norm, data_gauss_val_norm, data_gauss_aug_norm = normalization_fun(data_val, data_aug, data_gauss_val, data_gauss_aug, 0.01)\n"
   ]
  },
  {
   "cell_type": "code",
   "execution_count": 37,
   "metadata": {},
   "outputs": [],
   "source": [
    "\n",
    "r.shuffle(data_val_norm)\n"
   ]
  },
  {
   "cell_type": "code",
   "execution_count": null,
   "metadata": {},
   "outputs": [],
   "source": [
    "r.shuffle(data_gauss_val_norm)\n",
    "r.shuffle(data_aug_norm)\n",
    "r.shuffle(data_gauss_aug_norm)"
   ]
  },
  {
   "cell_type": "markdown",
   "metadata": {},
   "source": [
    "## Define GPU device ##"
   ]
  },
  {
   "cell_type": "code",
   "execution_count": 5,
   "metadata": {},
   "outputs": [
    {
     "name": "stdout",
     "output_type": "stream",
     "text": [
      "PhysicalDevice(name='/physical_device:GPU:0', device_type='GPU')\n"
     ]
    }
   ],
   "source": [
    "gpu = tf.config.list_physical_devices('GPU')[0]\n",
    "print(gpu)\n",
    "tf.config.experimental.set_memory_growth(gpu, True)\n",
    "gpu = tf.device('GPU:0/') \n",
    "\n",
    "base_dir = r'C:\\Users\\roumba\\Documents\\Software\\deep-events'\n",
    "data_path = base_dir+ r'\\Norm_data'\n",
    "model_path = base_dir+ '\\Models'"
   ]
  },
  {
   "cell_type": "code",
   "execution_count": 6,
   "metadata": {},
   "outputs": [
    {
     "name": "stdout",
     "output_type": "stream",
     "text": [
      "Model: ref_f8_c9_b16\n",
      "* Start Encoder Section *\n",
      "* Start Center Section *\n",
      "* Start Decoder Section *\n"
     ]
    },
    {
     "ename": "NameError",
     "evalue": "name 'data_aug_norm' is not defined",
     "output_type": "error",
     "traceback": [
      "\u001b[1;31m---------------------------------------------------------------------------\u001b[0m",
      "\u001b[1;31mNameError\u001b[0m                                 Traceback (most recent call last)",
      "Cell \u001b[1;32mIn [6], line 11\u001b[0m\n\u001b[0;32m      9\u001b[0m \u001b[39mprint\u001b[39m(\u001b[39m'\u001b[39m\u001b[39mModel:\u001b[39m\u001b[39m'\u001b[39m, model_name)\n\u001b[0;32m     10\u001b[0m model[model_name] \u001b[39m=\u001b[39m training\u001b[39m.\u001b[39mcreate_model(nb_filters, firstConvSize)\n\u001b[1;32m---> 11\u001b[0m history[model_name] \u001b[39m=\u001b[39m training\u001b[39m.\u001b[39mtrain_model(model[model_name], data_aug_norm, data_gauss_aug_norm, b, data_ratio)\n",
      "\u001b[1;31mNameError\u001b[0m: name 'data_aug_norm' is not defined"
     ]
    }
   ],
   "source": [
    "with gpu:\n",
    "  nb_filters = 8\n",
    "  firstConvSize = 9\n",
    "  batch_size = [8, 16, 32, 256]\n",
    "  model, history= {}, {}\n",
    "  \n",
    "  b=batch_size[1]\n",
    "  model_name = 'ref_f%i_c%i_b%i'%(nb_filters, firstConvSize, b)\n",
    "  print('Model:', model_name)\n",
    "  model[model_name] = training.create_model(nb_filters, firstConvSize)\n",
    "  history[model_name] = training.train_model(model[model_name], data_aug_norm, data_gauss_aug_norm, b, data_ratio)"
   ]
  },
  {
   "cell_type": "markdown",
   "metadata": {},
   "source": [
    "## Saving of Data ##"
   ]
  },
  {
   "cell_type": "code",
   "execution_count": 36,
   "metadata": {},
   "outputs": [],
   "source": [
    "folder_name = list(model.keys())\n",
    "\n",
    "## SAVE AS .h5 ##\n",
    "\n",
    "# name1=f'\\{cell_type}_{microscope}_{bf_fl}_data_val'\n",
    "# name2=f'\\{cell_type}_{microscope}_{bf_fl}_data_gauss_val'\n",
    "# name3=f'\\{cell_type}_{microscope}_{bf_fl}_data_aug'\n",
    "# name4=f'\\{cell_type}_{microscope}_{bf_fl}_data_gauss_aug'\n",
    "\n",
    "# util.save_h5(data_val_norm, data_path, name1)\n",
    "# util.save_h5(data_gauss_val_norm, data_path, name2)\n",
    "# util.save_h5(data_aug_norm, data_path, name3)\n",
    "# util.save_h5(data_gauss_aug_norm, data_path, name4)\n",
    "\n",
    "## SAVE AS .tiff ##\n",
    "\n",
    "name1=f'{cell_type}_{microscope}_{bf_fl}_data_val.tiff'\n",
    "name2=f'{cell_type}_{microscope}_{bf_fl}_data_gauss_val.tiff'\n",
    "name3=f'{cell_type}_{microscope}_{bf_fl}_data_aug.tiff'\n",
    "name4=f'{cell_type}_{microscope}_{bf_fl}_data_gauss_aug.tiff'\n",
    "\n",
    "imageio.mimwrite(name1, (data_val).astype(np.float64))\n",
    "imageio.mimwrite(name2, (data_gauss_val_norm).astype(np.float64))\n",
    "imageio.mimwrite(name3, (augmentation_data).astype(np.float64))\n",
    "imageio.mimwrite(name4, (data_gauss_aug_norm).astype(np.float64))\n"
   ]
  },
  {
   "cell_type": "code",
   "execution_count": 12,
   "metadata": {},
   "outputs": [
    {
     "name": "stdout",
     "output_type": "stream",
     "text": [
      "(185, 256, 256)\n",
      "<imageio.plugins.tifffile.TiffFormat.Writer object at 0x0000021A7BE15240>\n"
     ]
    },
    {
     "ename": "TypeError",
     "evalue": "TiffFormat.Writer._open() got an unexpected keyword argument 'kwargs'",
     "output_type": "error",
     "traceback": [
      "\u001b[1;31m---------------------------------------------------------------------------\u001b[0m",
      "\u001b[1;31mTypeError\u001b[0m                                 Traceback (most recent call last)",
      "Cell \u001b[1;32mIn [12], line 4\u001b[0m\n\u001b[0;32m      2\u001b[0m writer \u001b[39m=\u001b[39m imageio\u001b[39m.\u001b[39mget_writer(\u001b[39m\"\u001b[39m\u001b[39mall_images.tiff\u001b[39m\u001b[39m\"\u001b[39m)\n\u001b[0;32m      3\u001b[0m \u001b[39mprint\u001b[39m(writer)\n\u001b[1;32m----> 4\u001b[0m imageio\u001b[39m.\u001b[39mmimwrite(\u001b[39m\"\u001b[39m\u001b[39mall_images.tiff\u001b[39m\u001b[39m\"\u001b[39m, all_image_array[:\u001b[39m4\u001b[39m]\u001b[39m.\u001b[39mastype(np\u001b[39m.\u001b[39muint16),\u001b[39mformat\u001b[39m\u001b[39m=\u001b[39m\u001b[39mNone\u001b[39;00m,  kwargs\u001b[39m=\u001b[39m{\u001b[39m'\u001b[39m\u001b[39mphotometric\u001b[39m\u001b[39m'\u001b[39m: \u001b[39m'\u001b[39m\u001b[39mminisblack\u001b[39m\u001b[39m'\u001b[39m})\n",
      "File \u001b[1;32mc:\\Users\\roumba\\Documents\\Software\\deep-events\\.env\\lib\\site-packages\\imageio\\v2.py:331\u001b[0m, in \u001b[0;36mmimwrite\u001b[1;34m(uri, ims, format, **kwargs)\u001b[0m\n\u001b[0;32m    329\u001b[0m imopen_args[\u001b[39m\"\u001b[39m\u001b[39mlegacy_mode\u001b[39m\u001b[39m\"\u001b[39m] \u001b[39m=\u001b[39m \u001b[39mTrue\u001b[39;00m\n\u001b[0;32m    330\u001b[0m \u001b[39mwith\u001b[39;00m imopen(uri, \u001b[39m\"\u001b[39m\u001b[39mwI\u001b[39m\u001b[39m\"\u001b[39m, \u001b[39m*\u001b[39m\u001b[39m*\u001b[39mimopen_args) \u001b[39mas\u001b[39;00m file:\n\u001b[1;32m--> 331\u001b[0m     \u001b[39mreturn\u001b[39;00m file\u001b[39m.\u001b[39mwrite(ims, \u001b[39m*\u001b[39m\u001b[39m*\u001b[39mkwargs)\n",
      "File \u001b[1;32mc:\\Users\\roumba\\Documents\\Software\\deep-events\\.env\\lib\\site-packages\\imageio\\core\\legacy_plugin_wrapper.py:213\u001b[0m, in \u001b[0;36mLegacyPlugin.write\u001b[1;34m(self, ndimage, is_batch, **kwargs)\u001b[0m\n\u001b[0;32m    210\u001b[0m     \u001b[39mif\u001b[39;00m batch_dims \u001b[39m==\u001b[39m \u001b[39m0\u001b[39m:\n\u001b[0;32m    211\u001b[0m         ndimage \u001b[39m=\u001b[39m [ndimage]\n\u001b[1;32m--> 213\u001b[0m \u001b[39mwith\u001b[39;00m \u001b[39mself\u001b[39m\u001b[39m.\u001b[39mlegacy_get_writer(\u001b[39m*\u001b[39m\u001b[39m*\u001b[39mkwargs) \u001b[39mas\u001b[39;00m writer:\n\u001b[0;32m    214\u001b[0m     \u001b[39mfor\u001b[39;00m image \u001b[39min\u001b[39;00m ndimage:\n\u001b[0;32m    215\u001b[0m         image \u001b[39m=\u001b[39m np\u001b[39m.\u001b[39masanyarray(image)\n",
      "File \u001b[1;32mc:\\Users\\roumba\\Documents\\Software\\deep-events\\.env\\lib\\site-packages\\imageio\\core\\legacy_plugin_wrapper.py:165\u001b[0m, in \u001b[0;36mLegacyPlugin.legacy_get_writer\u001b[1;34m(self, **kwargs)\u001b[0m\n\u001b[0;32m    163\u001b[0m \u001b[39m# Note: this will break thread-safety\u001b[39;00m\n\u001b[0;32m    164\u001b[0m \u001b[39mself\u001b[39m\u001b[39m.\u001b[39m_request\u001b[39m.\u001b[39m_kwargs \u001b[39m=\u001b[39m kwargs\n\u001b[1;32m--> 165\u001b[0m \u001b[39mreturn\u001b[39;00m \u001b[39mself\u001b[39;49m\u001b[39m.\u001b[39;49m_format\u001b[39m.\u001b[39;49mget_writer(\u001b[39mself\u001b[39;49m\u001b[39m.\u001b[39;49m_request)\n",
      "File \u001b[1;32mc:\\Users\\roumba\\Documents\\Software\\deep-events\\.env\\lib\\site-packages\\imageio\\core\\format.py:234\u001b[0m, in \u001b[0;36mFormat.get_writer\u001b[1;34m(self, request)\u001b[0m\n\u001b[0;32m    230\u001b[0m \u001b[39mif\u001b[39;00m select_mode \u001b[39mnot\u001b[39;00m \u001b[39min\u001b[39;00m \u001b[39mself\u001b[39m\u001b[39m.\u001b[39mmodes:\n\u001b[0;32m    231\u001b[0m     \u001b[39mraise\u001b[39;00m \u001b[39mRuntimeError\u001b[39;00m(\n\u001b[0;32m    232\u001b[0m         \u001b[39mf\u001b[39m\u001b[39m\"\u001b[39m\u001b[39mFormat \u001b[39m\u001b[39m{\u001b[39;00m\u001b[39mself\u001b[39m\u001b[39m.\u001b[39mname\u001b[39m}\u001b[39;00m\u001b[39m cannot write in \u001b[39m\u001b[39m{\u001b[39;00mrequest\u001b[39m.\u001b[39mmode\u001b[39m.\u001b[39mimage_mode\u001b[39m}\u001b[39;00m\u001b[39m mode\u001b[39m\u001b[39m\"\u001b[39m\n\u001b[0;32m    233\u001b[0m     )\n\u001b[1;32m--> 234\u001b[0m \u001b[39mreturn\u001b[39;00m \u001b[39mself\u001b[39;49m\u001b[39m.\u001b[39;49mWriter(\u001b[39mself\u001b[39;49m, request)\n",
      "File \u001b[1;32mc:\\Users\\roumba\\Documents\\Software\\deep-events\\.env\\lib\\site-packages\\imageio\\core\\format.py:311\u001b[0m, in \u001b[0;36mFormat._BaseReaderWriter.__init__\u001b[1;34m(self, format, request)\u001b[0m\n\u001b[0;32m    309\u001b[0m \u001b[39mself\u001b[39m\u001b[39m.\u001b[39m_request \u001b[39m=\u001b[39m request\n\u001b[0;32m    310\u001b[0m \u001b[39m# Open the reader/writer\u001b[39;00m\n\u001b[1;32m--> 311\u001b[0m \u001b[39mself\u001b[39m\u001b[39m.\u001b[39m_open(\u001b[39m*\u001b[39m\u001b[39m*\u001b[39m\u001b[39mself\u001b[39m\u001b[39m.\u001b[39mrequest\u001b[39m.\u001b[39mkwargs\u001b[39m.\u001b[39mcopy())\n",
      "\u001b[1;31mTypeError\u001b[0m: TiffFormat.Writer._open() got an unexpected keyword argument 'kwargs'"
     ]
    }
   ],
   "source": [
    "print(all_image_array.shape)\n",
    "writer = imageio.get_writer(\"all_images.tiff\")\n",
    "print(writer)\n",
    "imageio.mimwrite(\"all_images.tiff\", all_image_array[:4].astype(np.uint16),format=None, photometric='minisblack'})"
   ]
  },
  {
   "cell_type": "code",
   "execution_count": null,
   "metadata": {},
   "outputs": [
    {
     "name": "stdout",
     "output_type": "stream",
     "text": [
      "\n",
      "Saving C:\\Users\\roumba\\Documents\\Software\\deep-events\\Modelsref_f8_c9_b16/model.h5\n",
      "Done.\n",
      "\n",
      "Saving C:\\Users\\roumba\\Documents\\Software\\deep-events\\Modelsref_f8_c9_b16/history\n",
      "Done.\n"
     ]
    }
   ],
   "source": [
    "util.save_model(model, model_path, [f'model']*len(model), folder_name)\n",
    "util.save_pkl(history, model_path, [f'history']*len(model), folder_name)"
   ]
  }
 ],
 "metadata": {
  "kernelspec": {
   "display_name": "Python 3.10.7 ('.env': venv)",
   "language": "python",
   "name": "python3"
  },
  "language_info": {
   "codemirror_mode": {
    "name": "ipython",
    "version": 3
   },
   "file_extension": ".py",
   "mimetype": "text/x-python",
   "name": "python",
   "nbconvert_exporter": "python",
   "pygments_lexer": "ipython3",
   "version": "3.10.7"
  },
  "orig_nbformat": 4,
  "vscode": {
   "interpreter": {
    "hash": "1eaf8819518d82bc7e7f729f546a337f692f85bf6d00cdfaf0712e2fc6595813"
   }
  }
 },
 "nbformat": 4,
 "nbformat_minor": 2
}
