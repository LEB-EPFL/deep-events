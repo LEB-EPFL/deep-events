{
 "cells": [
  {
   "cell_type": "code",
   "execution_count": 4,
   "metadata": {},
   "outputs": [],
   "source": [
    "from PIL import Image\n",
    "import pandas as pd\n",
    "import numpy as np\n",
    "from glob import glob\n",
    "from sklearn.model_selection import train_test_split\n",
    "from mitosplit_net import preprocessing, augmentation, evaluation, training, plotting, util\n",
    "from tqdm import tqdm\n",
    "import os, sys\n",
    "from os import path\n",
    "from import_augmentation_function import import_fun, aug_fun\n",
    "import matplotlib.pyplot as plt\n",
    "import tensorflow as tf "
   ]
  },
  {
   "cell_type": "code",
   "execution_count": 3,
   "metadata": {},
   "outputs": [
    {
     "name": "stderr",
     "output_type": "stream",
     "text": [
      "100%|██████████| 520/520 [00:00<00:00, 1384.68it/s]\n"
     ]
    }
   ],
   "source": [
    "## IMPORTS ALL IMAGES WITHIN THE FOLDER \"imager_dir\" INTO TWO ARRAYS, ONE FOR GAUSS POINTS AND ONE FOR IMAGE CROPS ##\n",
    "\n",
    "files_dir = r'C:\\Users\\roumba\\Documents\\Software\\deep-events\\training_data'\n",
    "images_dir = '220915_mtstaygold_cos7_ZEISS_bf_pos'\n",
    "joined_path = os.path.join(files_dir, images_dir)\n",
    "img_size = 256\n",
    "all_image_array, all_image_array_gauss = import_fun(joined_path, files_dir, images_dir)\n",
    "aug_data, aug_data_gauss, validation_data, validation_data_gauss = aug_fun(0.1, all_image_array, all_image_array_gauss, img_size)"
   ]
  },
  {
   "cell_type": "code",
   "execution_count": 5,
   "metadata": {},
   "outputs": [
    {
     "name": "stdout",
     "output_type": "stream",
     "text": [
      "PhysicalDevice(name='/physical_device:GPU:0', device_type='GPU')\n",
      "model_path: C:\\Users\\roumba\\Documents\\Software\\deep-eventsModels/\n"
     ]
    }
   ],
   "source": [
    "#Define GPU device where the code will run on\n",
    "\n",
    "gpu = tf.config.list_physical_devices('GPU')[0]\n",
    "print(gpu)\n",
    "tf.config.experimental.set_memory_growth(gpu, True)\n",
    "gpu = tf.device('GPU:0/') \n",
    "\n",
    "base_dir = r'C:\\Users\\roumba\\Documents\\Software\\deep-events'\n",
    "model_path = base_dir+'Models/'\n",
    "print('model_path:', model_path)"
   ]
  },
  {
   "cell_type": "code",
   "execution_count": 6,
   "metadata": {},
   "outputs": [
    {
     "name": "stdout",
     "output_type": "stream",
     "text": [
      "Model: ref_f8_c9_b8\n",
      "* Start Encoder Section *\n",
      "* Start Center Section *\n",
      "* Start Decoder Section *\n",
      "Epoch 1/20\n",
      "42/42 - 17s - loss: 0.7138 - binary_accuracy: 0.5955 - val_loss: 0.6903 - val_binary_accuracy: 0.5006 - 17s/epoch - 394ms/step\n",
      "Epoch 2/20\n",
      "42/42 - 6s - loss: 0.6270 - binary_accuracy: 0.5873 - val_loss: 0.6768 - val_binary_accuracy: 0.4476 - 6s/epoch - 147ms/step\n",
      "Epoch 3/20\n",
      "42/42 - 6s - loss: 0.4810 - binary_accuracy: 0.6373 - val_loss: 0.6261 - val_binary_accuracy: 0.8894 - 6s/epoch - 146ms/step\n",
      "Epoch 4/20\n",
      "42/42 - 6s - loss: -1.0249e-02 - binary_accuracy: 0.7588 - val_loss: 0.7385 - val_binary_accuracy: 0.8876 - 6s/epoch - 146ms/step\n",
      "Epoch 5/20\n",
      "42/42 - 6s - loss: -1.0431e+00 - binary_accuracy: 0.8300 - val_loss: 0.7446 - val_binary_accuracy: 0.5843 - 6s/epoch - 146ms/step\n",
      "Epoch 6/20\n",
      "42/42 - 6s - loss: -2.1972e+00 - binary_accuracy: 0.8641 - val_loss: 0.6486 - val_binary_accuracy: 0.9530 - 6s/epoch - 147ms/step\n",
      "Epoch 7/20\n",
      "42/42 - 6s - loss: -3.0388e+00 - binary_accuracy: 0.8849 - val_loss: 0.6637 - val_binary_accuracy: 0.9727 - 6s/epoch - 146ms/step\n",
      "Epoch 8/20\n",
      "42/42 - 6s - loss: -3.6491e+00 - binary_accuracy: 0.9063 - val_loss: 0.7505 - val_binary_accuracy: 0.9961 - 6s/epoch - 147ms/step\n",
      "Epoch 9/20\n",
      "42/42 - 6s - loss: -4.0257e+00 - binary_accuracy: 0.9302 - val_loss: 0.7193 - val_binary_accuracy: 0.9852 - 6s/epoch - 141ms/step\n",
      "Epoch 10/20\n",
      "42/42 - 6s - loss: -4.2828e+00 - binary_accuracy: 0.9418 - val_loss: 0.7909 - val_binary_accuracy: 0.9954 - 6s/epoch - 136ms/step\n",
      "Epoch 11/20\n",
      "42/42 - 6s - loss: -4.4485e+00 - binary_accuracy: 0.9532 - val_loss: 0.8657 - val_binary_accuracy: 0.9966 - 6s/epoch - 136ms/step\n",
      "Epoch 12/20\n",
      "42/42 - 6s - loss: -4.5976e+00 - binary_accuracy: 0.9605 - val_loss: 1.0819 - val_binary_accuracy: 0.9067 - 6s/epoch - 135ms/step\n",
      "Epoch 13/20\n",
      "42/42 - 6s - loss: -4.6313e+00 - binary_accuracy: 0.9627 - val_loss: 0.8385 - val_binary_accuracy: 0.9907 - 6s/epoch - 135ms/step\n",
      "Epoch 14/20\n",
      "42/42 - 6s - loss: -4.7520e+00 - binary_accuracy: 0.9570 - val_loss: 0.8766 - val_binary_accuracy: 0.9963 - 6s/epoch - 135ms/step\n",
      "Epoch 15/20\n",
      "42/42 - 6s - loss: -4.8319e+00 - binary_accuracy: 0.9740 - val_loss: 0.9069 - val_binary_accuracy: 0.9944 - 6s/epoch - 136ms/step\n",
      "Epoch 16/20\n",
      "42/42 - 6s - loss: -4.8677e+00 - binary_accuracy: 0.9774 - val_loss: 0.9165 - val_binary_accuracy: 0.9963 - 6s/epoch - 136ms/step\n",
      "Epoch 17/20\n",
      "42/42 - 6s - loss: -4.9065e+00 - binary_accuracy: 0.9756 - val_loss: 0.9708 - val_binary_accuracy: 0.9953 - 6s/epoch - 135ms/step\n",
      "Epoch 18/20\n",
      "42/42 - 6s - loss: -4.9570e+00 - binary_accuracy: 0.9778 - val_loss: 0.9708 - val_binary_accuracy: 0.9951 - 6s/epoch - 135ms/step\n",
      "Epoch 19/20\n",
      "42/42 - 6s - loss: -4.9508e+00 - binary_accuracy: 0.9682 - val_loss: 1.0887 - val_binary_accuracy: 0.9817 - 6s/epoch - 135ms/step\n",
      "Epoch 20/20\n",
      "42/42 - 6s - loss: -5.0269e+00 - binary_accuracy: 0.9721 - val_loss: 1.0682 - val_binary_accuracy: 0.9883 - 6s/epoch - 135ms/step\n",
      "Model: ref_f8_c9_b16\n",
      "* Start Encoder Section *\n",
      "* Start Center Section *\n",
      "* Start Decoder Section *\n",
      "Epoch 1/20\n",
      "21/21 - 12s - loss: 0.7266 - binary_accuracy: 0.7375 - val_loss: 0.6858 - val_binary_accuracy: 0.8338 - 12s/epoch - 562ms/step\n",
      "Epoch 2/20\n",
      "21/21 - 5s - loss: 0.6436 - binary_accuracy: 0.7400 - val_loss: 0.6997 - val_binary_accuracy: 0.3747 - 5s/epoch - 247ms/step\n",
      "Epoch 3/20\n",
      "21/21 - 5s - loss: 0.5707 - binary_accuracy: 0.7295 - val_loss: 0.6953 - val_binary_accuracy: 0.3540 - 5s/epoch - 246ms/step\n",
      "Epoch 4/20\n",
      "21/21 - 5s - loss: 0.3613 - binary_accuracy: 0.7270 - val_loss: 0.6941 - val_binary_accuracy: 0.4492 - 5s/epoch - 245ms/step\n",
      "Epoch 5/20\n",
      "21/21 - 5s - loss: -1.3885e-01 - binary_accuracy: 0.7672 - val_loss: 0.7037 - val_binary_accuracy: 0.4532 - 5s/epoch - 248ms/step\n",
      "Epoch 6/20\n",
      "21/21 - 5s - loss: -9.0247e-01 - binary_accuracy: 0.8044 - val_loss: 0.6666 - val_binary_accuracy: 0.9511 - 5s/epoch - 245ms/step\n",
      "Epoch 7/20\n",
      "21/21 - 5s - loss: -1.8413e+00 - binary_accuracy: 0.8334 - val_loss: 0.6762 - val_binary_accuracy: 0.9573 - 5s/epoch - 246ms/step\n",
      "Epoch 8/20\n",
      "21/21 - 5s - loss: -2.6306e+00 - binary_accuracy: 0.8664 - val_loss: 0.6955 - val_binary_accuracy: 0.8971 - 5s/epoch - 246ms/step\n",
      "Epoch 9/20\n",
      "21/21 - 5s - loss: -3.1509e+00 - binary_accuracy: 0.8827 - val_loss: 0.7205 - val_binary_accuracy: 0.9400 - 5s/epoch - 245ms/step\n",
      "Epoch 10/20\n",
      "21/21 - 5s - loss: -3.5479e+00 - binary_accuracy: 0.8969 - val_loss: 0.7434 - val_binary_accuracy: 0.9707 - 5s/epoch - 247ms/step\n",
      "Epoch 11/20\n",
      "21/21 - 5s - loss: -3.8834e+00 - binary_accuracy: 0.9052 - val_loss: 0.7685 - val_binary_accuracy: 0.9885 - 5s/epoch - 246ms/step\n",
      "Epoch 12/20\n",
      "21/21 - 5s - loss: -4.1533e+00 - binary_accuracy: 0.9218 - val_loss: 0.8694 - val_binary_accuracy: 0.9911 - 5s/epoch - 246ms/step\n",
      "Epoch 13/20\n",
      "21/21 - 5s - loss: -4.3829e+00 - binary_accuracy: 0.9275 - val_loss: 0.9232 - val_binary_accuracy: 0.9933 - 5s/epoch - 247ms/step\n",
      "Epoch 14/20\n",
      "21/21 - 5s - loss: -4.5432e+00 - binary_accuracy: 0.9398 - val_loss: 0.9168 - val_binary_accuracy: 0.9946 - 5s/epoch - 245ms/step\n",
      "Epoch 15/20\n",
      "21/21 - 5s - loss: -4.6746e+00 - binary_accuracy: 0.9465 - val_loss: 0.9250 - val_binary_accuracy: 0.9935 - 5s/epoch - 247ms/step\n",
      "Epoch 16/20\n",
      "21/21 - 5s - loss: -4.7848e+00 - binary_accuracy: 0.9539 - val_loss: 0.9613 - val_binary_accuracy: 0.9945 - 5s/epoch - 246ms/step\n",
      "Epoch 17/20\n",
      "21/21 - 5s - loss: -4.8802e+00 - binary_accuracy: 0.9608 - val_loss: 1.0128 - val_binary_accuracy: 0.9949 - 5s/epoch - 246ms/step\n",
      "Epoch 18/20\n",
      "21/21 - 5s - loss: -4.9355e+00 - binary_accuracy: 0.9679 - val_loss: 0.9943 - val_binary_accuracy: 0.9901 - 5s/epoch - 246ms/step\n",
      "Epoch 19/20\n",
      "21/21 - 5s - loss: -4.9794e+00 - binary_accuracy: 0.9685 - val_loss: 1.0798 - val_binary_accuracy: 0.9950 - 5s/epoch - 247ms/step\n",
      "Epoch 20/20\n",
      "21/21 - 5s - loss: -5.0100e+00 - binary_accuracy: 0.9684 - val_loss: 1.0955 - val_binary_accuracy: 0.9948 - 5s/epoch - 246ms/step\n",
      "Model: ref_f8_c9_b32\n",
      "* Start Encoder Section *\n",
      "* Start Center Section *\n",
      "* Start Decoder Section *\n",
      "Epoch 1/20\n",
      "11/11 - 12s - loss: 0.7238 - binary_accuracy: 0.4594 - val_loss: 0.8312 - val_binary_accuracy: 0.9786 - 12s/epoch - 1s/step\n",
      "Epoch 2/20\n",
      "11/11 - 5s - loss: 0.6622 - binary_accuracy: 0.4393 - val_loss: 0.8082 - val_binary_accuracy: 0.9877 - 5s/epoch - 443ms/step\n",
      "Epoch 3/20\n",
      "11/11 - 5s - loss: 0.6283 - binary_accuracy: 0.4219 - val_loss: 0.7710 - val_binary_accuracy: 0.9869 - 5s/epoch - 444ms/step\n",
      "Epoch 4/20\n",
      "11/11 - 5s - loss: 0.5825 - binary_accuracy: 0.4542 - val_loss: 0.7393 - val_binary_accuracy: 0.9852 - 5s/epoch - 446ms/step\n",
      "Epoch 5/20\n",
      "11/11 - 5s - loss: 0.5072 - binary_accuracy: 0.5113 - val_loss: 0.7675 - val_binary_accuracy: 0.9872 - 5s/epoch - 446ms/step\n",
      "Epoch 6/20\n",
      "11/11 - 5s - loss: 0.3802 - binary_accuracy: 0.5625 - val_loss: 0.7889 - val_binary_accuracy: 0.9868 - 5s/epoch - 446ms/step\n",
      "Epoch 7/20\n",
      "11/11 - 5s - loss: 0.1719 - binary_accuracy: 0.6129 - val_loss: 0.8214 - val_binary_accuracy: 0.9836 - 5s/epoch - 445ms/step\n",
      "Epoch 8/20\n",
      "11/11 - 5s - loss: -1.8976e-01 - binary_accuracy: 0.6638 - val_loss: 0.7154 - val_binary_accuracy: 0.7642 - 5s/epoch - 443ms/step\n",
      "Epoch 9/20\n",
      "11/11 - 5s - loss: -7.6927e-01 - binary_accuracy: 0.7215 - val_loss: 0.7278 - val_binary_accuracy: 0.6168 - 5s/epoch - 446ms/step\n",
      "Epoch 10/20\n",
      "11/11 - 5s - loss: -1.6379e+00 - binary_accuracy: 0.7527 - val_loss: 0.7737 - val_binary_accuracy: 0.4302 - 5s/epoch - 444ms/step\n",
      "Epoch 11/20\n",
      "11/11 - 5s - loss: -2.5145e+00 - binary_accuracy: 0.7876 - val_loss: 0.7950 - val_binary_accuracy: 0.2346 - 5s/epoch - 444ms/step\n",
      "Epoch 12/20\n",
      "11/11 - 5s - loss: -3.2323e+00 - binary_accuracy: 0.8273 - val_loss: 0.8067 - val_binary_accuracy: 0.1227 - 5s/epoch - 446ms/step\n",
      "Epoch 13/20\n",
      "11/11 - 5s - loss: -3.6895e+00 - binary_accuracy: 0.8432 - val_loss: 0.7737 - val_binary_accuracy: 0.1612 - 5s/epoch - 446ms/step\n",
      "Epoch 14/20\n",
      "11/11 - 5s - loss: -4.0359e+00 - binary_accuracy: 0.8400 - val_loss: 0.7924 - val_binary_accuracy: 0.2160 - 5s/epoch - 446ms/step\n",
      "Epoch 15/20\n",
      "11/11 - 5s - loss: -4.2315e+00 - binary_accuracy: 0.8569 - val_loss: 0.7516 - val_binary_accuracy: 0.2871 - 5s/epoch - 446ms/step\n",
      "Epoch 16/20\n",
      "11/11 - 5s - loss: -4.4190e+00 - binary_accuracy: 0.8867 - val_loss: 0.7602 - val_binary_accuracy: 0.3040 - 5s/epoch - 446ms/step\n",
      "Epoch 17/20\n",
      "11/11 - 5s - loss: -4.5076e+00 - binary_accuracy: 0.8824 - val_loss: 0.7255 - val_binary_accuracy: 0.4200 - 5s/epoch - 446ms/step\n",
      "Epoch 18/20\n",
      "11/11 - 5s - loss: -4.6026e+00 - binary_accuracy: 0.8901 - val_loss: 0.7339 - val_binary_accuracy: 0.3793 - 5s/epoch - 445ms/step\n",
      "Epoch 19/20\n",
      "11/11 - 5s - loss: -4.6634e+00 - binary_accuracy: 0.9128 - val_loss: 0.6941 - val_binary_accuracy: 0.5994 - 5s/epoch - 444ms/step\n",
      "Epoch 20/20\n",
      "11/11 - 5s - loss: -4.7053e+00 - binary_accuracy: 0.9083 - val_loss: 0.7041 - val_binary_accuracy: 0.5500 - 5s/epoch - 444ms/step\n",
      "Model: ref_f8_c9_b256\n",
      "* Start Encoder Section *\n",
      "* Start Center Section *\n",
      "* Start Decoder Section *\n",
      "Epoch 1/20\n"
     ]
    },
    {
     "ename": "ResourceExhaustedError",
     "evalue": "Graph execution error:\n\nDetected at node 'model_3/concatenate_7/concat' defined at (most recent call last):\n    File \"C:\\Program Files\\Python310\\lib\\runpy.py\", line 196, in _run_module_as_main\n      return _run_code(code, main_globals, None,\n    File \"C:\\Program Files\\Python310\\lib\\runpy.py\", line 86, in _run_code\n      exec(code, run_globals)\n    File \"c:\\Users\\roumba\\Documents\\Software\\deep-events\\.env\\lib\\site-packages\\ipykernel_launcher.py\", line 17, in <module>\n      app.launch_new_instance()\n    File \"c:\\Users\\roumba\\Documents\\Software\\deep-events\\.env\\lib\\site-packages\\traitlets\\config\\application.py\", line 978, in launch_instance\n      app.start()\n    File \"c:\\Users\\roumba\\Documents\\Software\\deep-events\\.env\\lib\\site-packages\\ipykernel\\kernelapp.py\", line 712, in start\n      self.io_loop.start()\n    File \"c:\\Users\\roumba\\Documents\\Software\\deep-events\\.env\\lib\\site-packages\\tornado\\platform\\asyncio.py\", line 215, in start\n      self.asyncio_loop.run_forever()\n    File \"C:\\Program Files\\Python310\\lib\\asyncio\\base_events.py\", line 600, in run_forever\n      self._run_once()\n    File \"C:\\Program Files\\Python310\\lib\\asyncio\\base_events.py\", line 1896, in _run_once\n      handle._run()\n    File \"C:\\Program Files\\Python310\\lib\\asyncio\\events.py\", line 80, in _run\n      self._context.run(self._callback, *self._args)\n    File \"c:\\Users\\roumba\\Documents\\Software\\deep-events\\.env\\lib\\site-packages\\ipykernel\\kernelbase.py\", line 510, in dispatch_queue\n      await self.process_one()\n    File \"c:\\Users\\roumba\\Documents\\Software\\deep-events\\.env\\lib\\site-packages\\ipykernel\\kernelbase.py\", line 499, in process_one\n      await dispatch(*args)\n    File \"c:\\Users\\roumba\\Documents\\Software\\deep-events\\.env\\lib\\site-packages\\ipykernel\\kernelbase.py\", line 406, in dispatch_shell\n      await result\n    File \"c:\\Users\\roumba\\Documents\\Software\\deep-events\\.env\\lib\\site-packages\\ipykernel\\kernelbase.py\", line 730, in execute_request\n      reply_content = await reply_content\n    File \"c:\\Users\\roumba\\Documents\\Software\\deep-events\\.env\\lib\\site-packages\\ipykernel\\ipkernel.py\", line 383, in do_execute\n      res = shell.run_cell(\n    File \"c:\\Users\\roumba\\Documents\\Software\\deep-events\\.env\\lib\\site-packages\\ipykernel\\zmqshell.py\", line 528, in run_cell\n      return super().run_cell(*args, **kwargs)\n    File \"c:\\Users\\roumba\\Documents\\Software\\deep-events\\.env\\lib\\site-packages\\IPython\\core\\interactiveshell.py\", line 2885, in run_cell\n      result = self._run_cell(\n    File \"c:\\Users\\roumba\\Documents\\Software\\deep-events\\.env\\lib\\site-packages\\IPython\\core\\interactiveshell.py\", line 2940, in _run_cell\n      return runner(coro)\n    File \"c:\\Users\\roumba\\Documents\\Software\\deep-events\\.env\\lib\\site-packages\\IPython\\core\\async_helpers.py\", line 129, in _pseudo_sync_runner\n      coro.send(None)\n    File \"c:\\Users\\roumba\\Documents\\Software\\deep-events\\.env\\lib\\site-packages\\IPython\\core\\interactiveshell.py\", line 3139, in run_cell_async\n      has_raised = await self.run_ast_nodes(code_ast.body, cell_name,\n    File \"c:\\Users\\roumba\\Documents\\Software\\deep-events\\.env\\lib\\site-packages\\IPython\\core\\interactiveshell.py\", line 3318, in run_ast_nodes\n      if await self.run_code(code, result, async_=asy):\n    File \"c:\\Users\\roumba\\Documents\\Software\\deep-events\\.env\\lib\\site-packages\\IPython\\core\\interactiveshell.py\", line 3378, in run_code\n      exec(code_obj, self.user_global_ns, self.user_ns)\n    File \"C:\\Users\\roumba\\AppData\\Local\\Temp\\3\\ipykernel_14780\\723148489.py\", line 11, in <module>\n      history[model_name], frames_test[model_name] = training.train_model(model[model_name], aug_data, aug_data_gauss, batch_size=b)\n    File \"c:\\users\\roumba\\documents\\software\\mitosplit-net\\mitosplit_net\\training.py\", line 113, in train_model\n      history = model.fit(input_train, output_train,\n    File \"c:\\Users\\roumba\\Documents\\Software\\deep-events\\.env\\lib\\site-packages\\keras\\utils\\traceback_utils.py\", line 65, in error_handler\n      return fn(*args, **kwargs)\n    File \"c:\\Users\\roumba\\Documents\\Software\\deep-events\\.env\\lib\\site-packages\\keras\\engine\\training.py\", line 1564, in fit\n      tmp_logs = self.train_function(iterator)\n    File \"c:\\Users\\roumba\\Documents\\Software\\deep-events\\.env\\lib\\site-packages\\keras\\engine\\training.py\", line 1160, in train_function\n      return step_function(self, iterator)\n    File \"c:\\Users\\roumba\\Documents\\Software\\deep-events\\.env\\lib\\site-packages\\keras\\engine\\training.py\", line 1146, in step_function\n      outputs = model.distribute_strategy.run(run_step, args=(data,))\n    File \"c:\\Users\\roumba\\Documents\\Software\\deep-events\\.env\\lib\\site-packages\\keras\\engine\\training.py\", line 1135, in run_step\n      outputs = model.train_step(data)\n    File \"c:\\Users\\roumba\\Documents\\Software\\deep-events\\.env\\lib\\site-packages\\keras\\engine\\training.py\", line 993, in train_step\n      y_pred = self(x, training=True)\n    File \"c:\\Users\\roumba\\Documents\\Software\\deep-events\\.env\\lib\\site-packages\\keras\\utils\\traceback_utils.py\", line 65, in error_handler\n      return fn(*args, **kwargs)\n    File \"c:\\Users\\roumba\\Documents\\Software\\deep-events\\.env\\lib\\site-packages\\keras\\engine\\training.py\", line 557, in __call__\n      return super().__call__(*args, **kwargs)\n    File \"c:\\Users\\roumba\\Documents\\Software\\deep-events\\.env\\lib\\site-packages\\keras\\utils\\traceback_utils.py\", line 65, in error_handler\n      return fn(*args, **kwargs)\n    File \"c:\\Users\\roumba\\Documents\\Software\\deep-events\\.env\\lib\\site-packages\\keras\\engine\\base_layer.py\", line 1097, in __call__\n      outputs = call_fn(inputs, *args, **kwargs)\n    File \"c:\\Users\\roumba\\Documents\\Software\\deep-events\\.env\\lib\\site-packages\\keras\\utils\\traceback_utils.py\", line 96, in error_handler\n      return fn(*args, **kwargs)\n    File \"c:\\Users\\roumba\\Documents\\Software\\deep-events\\.env\\lib\\site-packages\\keras\\engine\\functional.py\", line 510, in call\n      return self._run_internal_graph(inputs, training=training, mask=mask)\n    File \"c:\\Users\\roumba\\Documents\\Software\\deep-events\\.env\\lib\\site-packages\\keras\\engine\\functional.py\", line 667, in _run_internal_graph\n      outputs = node.layer(*args, **kwargs)\n    File \"c:\\Users\\roumba\\Documents\\Software\\deep-events\\.env\\lib\\site-packages\\keras\\utils\\traceback_utils.py\", line 65, in error_handler\n      return fn(*args, **kwargs)\n    File \"c:\\Users\\roumba\\Documents\\Software\\deep-events\\.env\\lib\\site-packages\\keras\\engine\\base_layer.py\", line 1097, in __call__\n      outputs = call_fn(inputs, *args, **kwargs)\n    File \"c:\\Users\\roumba\\Documents\\Software\\deep-events\\.env\\lib\\site-packages\\keras\\utils\\traceback_utils.py\", line 96, in error_handler\n      return fn(*args, **kwargs)\n    File \"c:\\Users\\roumba\\Documents\\Software\\deep-events\\.env\\lib\\site-packages\\keras\\layers\\merging\\base_merge.py\", line 196, in call\n      return self._merge_function(inputs)\n    File \"c:\\Users\\roumba\\Documents\\Software\\deep-events\\.env\\lib\\site-packages\\keras\\layers\\merging\\concatenate.py\", line 134, in _merge_function\n      return backend.concatenate(inputs, axis=self.axis)\n    File \"c:\\Users\\roumba\\Documents\\Software\\deep-events\\.env\\lib\\site-packages\\keras\\backend.py\", line 3572, in concatenate\n      return tf.concat([to_dense(x) for x in tensors], axis)\nNode: 'model_3/concatenate_7/concat'\nOOM when allocating tensor with shape[256,24,256,256] and type float on /job:localhost/replica:0/task:0/device:GPU:0 by allocator GPU_0_bfc\n\t [[{{node model_3/concatenate_7/concat}}]]\nHint: If you want to see a list of allocated tensors when OOM happens, add report_tensor_allocations_upon_oom to RunOptions for current allocation info. This isn't available when running in Eager mode.\n [Op:__inference_train_function_21541]",
     "output_type": "error",
     "traceback": [
      "\u001b[1;31m---------------------------------------------------------------------------\u001b[0m",
      "\u001b[1;31mResourceExhaustedError\u001b[0m                    Traceback (most recent call last)",
      "Cell \u001b[1;32mIn [6], line 11\u001b[0m\n\u001b[0;32m      9\u001b[0m \u001b[39mprint\u001b[39m(\u001b[39m'\u001b[39m\u001b[39mModel:\u001b[39m\u001b[39m'\u001b[39m, model_name)\n\u001b[0;32m     10\u001b[0m model[model_name] \u001b[39m=\u001b[39m training\u001b[39m.\u001b[39mcreate_model(nb_filters, firstConvSize)\n\u001b[1;32m---> 11\u001b[0m history[model_name], frames_test[model_name] \u001b[39m=\u001b[39m training\u001b[39m.\u001b[39mtrain_model(model[model_name], aug_data, aug_data_gauss, batch_size\u001b[39m=\u001b[39mb)\n",
      "File \u001b[1;32mc:\\users\\roumba\\documents\\software\\mitosplit-net\\mitosplit_net\\training.py:113\u001b[0m, in \u001b[0;36mtrain_model\u001b[1;34m(model, input_data, output_data, batch_size)\u001b[0m\n\u001b[0;32m    110\u001b[0m max_epochs \u001b[39m=\u001b[39m \u001b[39m20\u001b[39m  \u001b[39m# maxmimum number of epochs to be iterated\u001b[39;00m\n\u001b[0;32m    111\u001b[0m batch_shuffle\u001b[39m=\u001b[39m \u001b[39mTrue\u001b[39;00m   \u001b[39m# shuffle the training data prior to batching before each epoch\u001b[39;00m\n\u001b[1;32m--> 113\u001b[0m history \u001b[39m=\u001b[39m model\u001b[39m.\u001b[39;49mfit(input_train, output_train,\n\u001b[0;32m    114\u001b[0m                     batch_size\u001b[39m=\u001b[39;49mbatch_size,\n\u001b[0;32m    115\u001b[0m                     epochs\u001b[39m=\u001b[39;49mmax_epochs,\n\u001b[0;32m    116\u001b[0m                     validation_split\u001b[39m=\u001b[39;49mvalidtrain_split_ratio,\n\u001b[0;32m    117\u001b[0m                     shuffle\u001b[39m=\u001b[39;49mbatch_shuffle,\n\u001b[0;32m    118\u001b[0m                     verbose\u001b[39m=\u001b[39;49m\u001b[39m2\u001b[39;49m)\n\u001b[0;32m    120\u001b[0m \u001b[39m#Frames separated for evaluation\u001b[39;00m\n\u001b[0;32m    121\u001b[0m frames_test \u001b[39m=\u001b[39m np\u001b[39m.\u001b[39marange(\u001b[39m0\u001b[39m, input_data\u001b[39m.\u001b[39mshape[\u001b[39m0\u001b[39m], \u001b[39m1\u001b[39m)\n",
      "File \u001b[1;32mc:\\Users\\roumba\\Documents\\Software\\deep-events\\.env\\lib\\site-packages\\keras\\utils\\traceback_utils.py:70\u001b[0m, in \u001b[0;36mfilter_traceback.<locals>.error_handler\u001b[1;34m(*args, **kwargs)\u001b[0m\n\u001b[0;32m     67\u001b[0m     filtered_tb \u001b[39m=\u001b[39m _process_traceback_frames(e\u001b[39m.\u001b[39m__traceback__)\n\u001b[0;32m     68\u001b[0m     \u001b[39m# To get the full stack trace, call:\u001b[39;00m\n\u001b[0;32m     69\u001b[0m     \u001b[39m# `tf.debugging.disable_traceback_filtering()`\u001b[39;00m\n\u001b[1;32m---> 70\u001b[0m     \u001b[39mraise\u001b[39;00m e\u001b[39m.\u001b[39mwith_traceback(filtered_tb) \u001b[39mfrom\u001b[39;00m \u001b[39mNone\u001b[39m\n\u001b[0;32m     71\u001b[0m \u001b[39mfinally\u001b[39;00m:\n\u001b[0;32m     72\u001b[0m     \u001b[39mdel\u001b[39;00m filtered_tb\n",
      "File \u001b[1;32mc:\\Users\\roumba\\Documents\\Software\\deep-events\\.env\\lib\\site-packages\\tensorflow\\python\\eager\\execute.py:54\u001b[0m, in \u001b[0;36mquick_execute\u001b[1;34m(op_name, num_outputs, inputs, attrs, ctx, name)\u001b[0m\n\u001b[0;32m     52\u001b[0m \u001b[39mtry\u001b[39;00m:\n\u001b[0;32m     53\u001b[0m   ctx\u001b[39m.\u001b[39mensure_initialized()\n\u001b[1;32m---> 54\u001b[0m   tensors \u001b[39m=\u001b[39m pywrap_tfe\u001b[39m.\u001b[39mTFE_Py_Execute(ctx\u001b[39m.\u001b[39m_handle, device_name, op_name,\n\u001b[0;32m     55\u001b[0m                                       inputs, attrs, num_outputs)\n\u001b[0;32m     56\u001b[0m \u001b[39mexcept\u001b[39;00m core\u001b[39m.\u001b[39m_NotOkStatusException \u001b[39mas\u001b[39;00m e:\n\u001b[0;32m     57\u001b[0m   \u001b[39mif\u001b[39;00m name \u001b[39mis\u001b[39;00m \u001b[39mnot\u001b[39;00m \u001b[39mNone\u001b[39;00m:\n",
      "\u001b[1;31mResourceExhaustedError\u001b[0m: Graph execution error:\n\nDetected at node 'model_3/concatenate_7/concat' defined at (most recent call last):\n    File \"C:\\Program Files\\Python310\\lib\\runpy.py\", line 196, in _run_module_as_main\n      return _run_code(code, main_globals, None,\n    File \"C:\\Program Files\\Python310\\lib\\runpy.py\", line 86, in _run_code\n      exec(code, run_globals)\n    File \"c:\\Users\\roumba\\Documents\\Software\\deep-events\\.env\\lib\\site-packages\\ipykernel_launcher.py\", line 17, in <module>\n      app.launch_new_instance()\n    File \"c:\\Users\\roumba\\Documents\\Software\\deep-events\\.env\\lib\\site-packages\\traitlets\\config\\application.py\", line 978, in launch_instance\n      app.start()\n    File \"c:\\Users\\roumba\\Documents\\Software\\deep-events\\.env\\lib\\site-packages\\ipykernel\\kernelapp.py\", line 712, in start\n      self.io_loop.start()\n    File \"c:\\Users\\roumba\\Documents\\Software\\deep-events\\.env\\lib\\site-packages\\tornado\\platform\\asyncio.py\", line 215, in start\n      self.asyncio_loop.run_forever()\n    File \"C:\\Program Files\\Python310\\lib\\asyncio\\base_events.py\", line 600, in run_forever\n      self._run_once()\n    File \"C:\\Program Files\\Python310\\lib\\asyncio\\base_events.py\", line 1896, in _run_once\n      handle._run()\n    File \"C:\\Program Files\\Python310\\lib\\asyncio\\events.py\", line 80, in _run\n      self._context.run(self._callback, *self._args)\n    File \"c:\\Users\\roumba\\Documents\\Software\\deep-events\\.env\\lib\\site-packages\\ipykernel\\kernelbase.py\", line 510, in dispatch_queue\n      await self.process_one()\n    File \"c:\\Users\\roumba\\Documents\\Software\\deep-events\\.env\\lib\\site-packages\\ipykernel\\kernelbase.py\", line 499, in process_one\n      await dispatch(*args)\n    File \"c:\\Users\\roumba\\Documents\\Software\\deep-events\\.env\\lib\\site-packages\\ipykernel\\kernelbase.py\", line 406, in dispatch_shell\n      await result\n    File \"c:\\Users\\roumba\\Documents\\Software\\deep-events\\.env\\lib\\site-packages\\ipykernel\\kernelbase.py\", line 730, in execute_request\n      reply_content = await reply_content\n    File \"c:\\Users\\roumba\\Documents\\Software\\deep-events\\.env\\lib\\site-packages\\ipykernel\\ipkernel.py\", line 383, in do_execute\n      res = shell.run_cell(\n    File \"c:\\Users\\roumba\\Documents\\Software\\deep-events\\.env\\lib\\site-packages\\ipykernel\\zmqshell.py\", line 528, in run_cell\n      return super().run_cell(*args, **kwargs)\n    File \"c:\\Users\\roumba\\Documents\\Software\\deep-events\\.env\\lib\\site-packages\\IPython\\core\\interactiveshell.py\", line 2885, in run_cell\n      result = self._run_cell(\n    File \"c:\\Users\\roumba\\Documents\\Software\\deep-events\\.env\\lib\\site-packages\\IPython\\core\\interactiveshell.py\", line 2940, in _run_cell\n      return runner(coro)\n    File \"c:\\Users\\roumba\\Documents\\Software\\deep-events\\.env\\lib\\site-packages\\IPython\\core\\async_helpers.py\", line 129, in _pseudo_sync_runner\n      coro.send(None)\n    File \"c:\\Users\\roumba\\Documents\\Software\\deep-events\\.env\\lib\\site-packages\\IPython\\core\\interactiveshell.py\", line 3139, in run_cell_async\n      has_raised = await self.run_ast_nodes(code_ast.body, cell_name,\n    File \"c:\\Users\\roumba\\Documents\\Software\\deep-events\\.env\\lib\\site-packages\\IPython\\core\\interactiveshell.py\", line 3318, in run_ast_nodes\n      if await self.run_code(code, result, async_=asy):\n    File \"c:\\Users\\roumba\\Documents\\Software\\deep-events\\.env\\lib\\site-packages\\IPython\\core\\interactiveshell.py\", line 3378, in run_code\n      exec(code_obj, self.user_global_ns, self.user_ns)\n    File \"C:\\Users\\roumba\\AppData\\Local\\Temp\\3\\ipykernel_14780\\723148489.py\", line 11, in <module>\n      history[model_name], frames_test[model_name] = training.train_model(model[model_name], aug_data, aug_data_gauss, batch_size=b)\n    File \"c:\\users\\roumba\\documents\\software\\mitosplit-net\\mitosplit_net\\training.py\", line 113, in train_model\n      history = model.fit(input_train, output_train,\n    File \"c:\\Users\\roumba\\Documents\\Software\\deep-events\\.env\\lib\\site-packages\\keras\\utils\\traceback_utils.py\", line 65, in error_handler\n      return fn(*args, **kwargs)\n    File \"c:\\Users\\roumba\\Documents\\Software\\deep-events\\.env\\lib\\site-packages\\keras\\engine\\training.py\", line 1564, in fit\n      tmp_logs = self.train_function(iterator)\n    File \"c:\\Users\\roumba\\Documents\\Software\\deep-events\\.env\\lib\\site-packages\\keras\\engine\\training.py\", line 1160, in train_function\n      return step_function(self, iterator)\n    File \"c:\\Users\\roumba\\Documents\\Software\\deep-events\\.env\\lib\\site-packages\\keras\\engine\\training.py\", line 1146, in step_function\n      outputs = model.distribute_strategy.run(run_step, args=(data,))\n    File \"c:\\Users\\roumba\\Documents\\Software\\deep-events\\.env\\lib\\site-packages\\keras\\engine\\training.py\", line 1135, in run_step\n      outputs = model.train_step(data)\n    File \"c:\\Users\\roumba\\Documents\\Software\\deep-events\\.env\\lib\\site-packages\\keras\\engine\\training.py\", line 993, in train_step\n      y_pred = self(x, training=True)\n    File \"c:\\Users\\roumba\\Documents\\Software\\deep-events\\.env\\lib\\site-packages\\keras\\utils\\traceback_utils.py\", line 65, in error_handler\n      return fn(*args, **kwargs)\n    File \"c:\\Users\\roumba\\Documents\\Software\\deep-events\\.env\\lib\\site-packages\\keras\\engine\\training.py\", line 557, in __call__\n      return super().__call__(*args, **kwargs)\n    File \"c:\\Users\\roumba\\Documents\\Software\\deep-events\\.env\\lib\\site-packages\\keras\\utils\\traceback_utils.py\", line 65, in error_handler\n      return fn(*args, **kwargs)\n    File \"c:\\Users\\roumba\\Documents\\Software\\deep-events\\.env\\lib\\site-packages\\keras\\engine\\base_layer.py\", line 1097, in __call__\n      outputs = call_fn(inputs, *args, **kwargs)\n    File \"c:\\Users\\roumba\\Documents\\Software\\deep-events\\.env\\lib\\site-packages\\keras\\utils\\traceback_utils.py\", line 96, in error_handler\n      return fn(*args, **kwargs)\n    File \"c:\\Users\\roumba\\Documents\\Software\\deep-events\\.env\\lib\\site-packages\\keras\\engine\\functional.py\", line 510, in call\n      return self._run_internal_graph(inputs, training=training, mask=mask)\n    File \"c:\\Users\\roumba\\Documents\\Software\\deep-events\\.env\\lib\\site-packages\\keras\\engine\\functional.py\", line 667, in _run_internal_graph\n      outputs = node.layer(*args, **kwargs)\n    File \"c:\\Users\\roumba\\Documents\\Software\\deep-events\\.env\\lib\\site-packages\\keras\\utils\\traceback_utils.py\", line 65, in error_handler\n      return fn(*args, **kwargs)\n    File \"c:\\Users\\roumba\\Documents\\Software\\deep-events\\.env\\lib\\site-packages\\keras\\engine\\base_layer.py\", line 1097, in __call__\n      outputs = call_fn(inputs, *args, **kwargs)\n    File \"c:\\Users\\roumba\\Documents\\Software\\deep-events\\.env\\lib\\site-packages\\keras\\utils\\traceback_utils.py\", line 96, in error_handler\n      return fn(*args, **kwargs)\n    File \"c:\\Users\\roumba\\Documents\\Software\\deep-events\\.env\\lib\\site-packages\\keras\\layers\\merging\\base_merge.py\", line 196, in call\n      return self._merge_function(inputs)\n    File \"c:\\Users\\roumba\\Documents\\Software\\deep-events\\.env\\lib\\site-packages\\keras\\layers\\merging\\concatenate.py\", line 134, in _merge_function\n      return backend.concatenate(inputs, axis=self.axis)\n    File \"c:\\Users\\roumba\\Documents\\Software\\deep-events\\.env\\lib\\site-packages\\keras\\backend.py\", line 3572, in concatenate\n      return tf.concat([to_dense(x) for x in tensors], axis)\nNode: 'model_3/concatenate_7/concat'\nOOM when allocating tensor with shape[256,24,256,256] and type float on /job:localhost/replica:0/task:0/device:GPU:0 by allocator GPU_0_bfc\n\t [[{{node model_3/concatenate_7/concat}}]]\nHint: If you want to see a list of allocated tensors when OOM happens, add report_tensor_allocations_upon_oom to RunOptions for current allocation info. This isn't available when running in Eager mode.\n [Op:__inference_train_function_21541]"
     ]
    }
   ],
   "source": [
    "with gpu:\n",
    "  nb_filters = 8\n",
    "  firstConvSize = 9\n",
    "  batch_size = [8, 16, 32, 256]\n",
    "  model, history, frames_test = {}, {}, {}\n",
    "  \n",
    "  for b in batch_size:\n",
    "    model_name = 'ref_f%i_c%i_b%i'%(nb_filters, firstConvSize, b)\n",
    "    print('Model:', model_name)\n",
    "    model[model_name] = training.create_model(nb_filters, firstConvSize)\n",
    "    history[model_name], frames_test[model_name] = training.train_model(model[model_name], aug_data, aug_data_gauss, batch_size=b) "
   ]
  },
  {
   "cell_type": "code",
   "execution_count": null,
   "metadata": {},
   "outputs": [],
   "source": [
    "folder_name = list(model.keys())\n",
    "\n",
    "util.save_model(model, model_path, ['model']*len(model), folder_name)\n",
    "util.save_pkl(history, model_path, ['history']*len(model), folder_name)\n",
    "util.save_pkl(frames_test, model_path, ['frames_test']*len(model), folder_name)"
   ]
  }
 ],
 "metadata": {
  "kernelspec": {
   "display_name": "Python 3.10.7 ('.env': venv)",
   "language": "python",
   "name": "python3"
  },
  "language_info": {
   "codemirror_mode": {
    "name": "ipython",
    "version": 3
   },
   "file_extension": ".py",
   "mimetype": "text/x-python",
   "name": "python",
   "nbconvert_exporter": "python",
   "pygments_lexer": "ipython3",
   "version": "3.10.7"
  },
  "orig_nbformat": 4,
  "vscode": {
   "interpreter": {
    "hash": "1eaf8819518d82bc7e7f729f546a337f692f85bf6d00cdfaf0712e2fc6595813"
   }
  }
 },
 "nbformat": 4,
 "nbformat_minor": 2
}
