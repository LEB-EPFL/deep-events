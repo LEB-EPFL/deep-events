{
 "cells": [
  {
   "cell_type": "code",
   "execution_count": 1,
   "metadata": {},
   "outputs": [],
   "source": [
    "from PIL import Image\n",
    "import pandas as pd\n",
    "import numpy as np\n",
    "import cv2 as cv\n",
    "from glob import glob\n",
    "from sklearn.model_selection import train_test_split\n",
    "from mitosplit_net import preprocessing, augmentation, evaluation, training, plotting, util\n",
    "from albumentations import Compose, Rotate, RandomRotate90, HorizontalFlip, Flip, ElasticTransform, GaussNoise, RandomCrop, Resize\n",
    "from tqdm import tqdm\n",
    "import os, sys\n",
    "from os import path\n",
    "import random as r\n",
    "from import_augmentation_function import import_fun, aug_fun, import_aug_fun, normalization_fun, normalization_fun_one\n",
    "import matplotlib.pyplot as plt\n",
    "import tensorflow as tf \n",
    "import imageio"
   ]
  },
  {
   "cell_type": "markdown",
   "metadata": {},
   "source": [
    "## Choice of folder and number of augmentations ##"
   ]
  },
  {
   "cell_type": "code",
   "execution_count": 2,
   "metadata": {},
   "outputs": [],
   "source": [
    "files_dir = r'C:\\Users\\roumba\\Documents\\Software\\deep-events\\training_data'\n",
    "images_dir = '220915_mtstaygold_cos7_ZEISS_fl_pos'\n",
    "date, dye, cell_type, microscope, bf_fl, pos_neg = images_dir.split('_')\n",
    "joined_path = os.path.join(files_dir, images_dir)\n",
    "img_size = 256\n",
    "data_ratio=0.1\n",
    "data_split_state = None \n",
    "number_of_augmentations = 5 "
   ]
  },
  {
   "cell_type": "markdown",
   "metadata": {},
   "source": [
    "## Import and Normalization ##\n",
    "                            "
   ]
  },
  {
   "cell_type": "code",
   "execution_count": 3,
   "metadata": {},
   "outputs": [],
   "source": [
    "all_image_array, all_image_array_gauss = import_fun(joined_path, files_dir, images_dir)\n",
    "norm_image_array, norm_image_array_gauss = normalization_fun_one(all_image_array, all_image_array_gauss, 0.15)\n"
   ]
  },
  {
   "cell_type": "markdown",
   "metadata": {},
   "source": [
    "## Split and Augmentation ##"
   ]
  },
  {
   "cell_type": "code",
   "execution_count": 4,
   "metadata": {},
   "outputs": [
    {
     "name": "stderr",
     "output_type": "stream",
     "text": [
      "100%|██████████| 171/171 [00:00<00:00, 929.87it/s] \n",
      "100%|██████████| 171/171 [00:00<00:00, 1049.66it/s]\n",
      "100%|██████████| 171/171 [00:00<00:00, 1089.77it/s]\n",
      "100%|██████████| 171/171 [00:00<00:00, 1000.55it/s]\n",
      "100%|██████████| 171/171 [00:00<00:00, 1171.91it/s]\n"
     ]
    }
   ],
   "source": [
    "augmentation_data, data_val, augmentation_data_gauss, data_gauss_val =  train_test_split(norm_image_array, norm_image_array_gauss,\n",
    "                                                                                                       test_size=data_ratio, random_state=data_split_state)\n",
    "data_aug = augmentation_data\n",
    "data_gauss_aug = augmentation_data_gauss\n",
    "for j in range(number_of_augmentations):\n",
    "    augment_data, augment_data_gauss = aug_fun(augmentation_data, augmentation_data_gauss)\n",
    "    data_aug = np.concatenate((data_aug, augment_data))\n",
    "    data_gauss_aug = np.concatenate((data_gauss_aug,augment_data_gauss))"
   ]
  },
  {
   "cell_type": "markdown",
   "metadata": {},
   "source": [
    "## Crop ##"
   ]
  },
  {
   "cell_type": "code",
   "execution_count": 5,
   "metadata": {},
   "outputs": [],
   "source": [
    "data_crop = np.zeros((np.size(data_aug , 0),128,128))\n",
    "data_crop_gauss = np.zeros((np.size(data_aug , 0),128,128))\n",
    "data_cropp = np.zeros((np.size(data_val , 0),128,128))\n",
    "data_cropp_gauss = np.zeros((np.size(data_val , 0),128,128))\n",
    "\n",
    "for frame_index in range(np.size(data_aug , 0)):\n",
    "    data_crop[frame_index,:,:] = data_aug[frame_index, 64:192 , 64:192]\n",
    "    data_crop_gauss[frame_index,:,:] = data_gauss_aug[frame_index, 64:192 , 64:192]\n",
    "\n",
    "for frame_index in range(np.size(data_val , 0)):\n",
    "    data_cropp[frame_index,:,:] = data_val[frame_index, 64:192 , 64:192]\n",
    "    data_cropp_gauss[frame_index,:,:] = data_gauss_val[frame_index, 64:192 , 64:192]\n",
    "\n",
    "\n",
    "data_aug=data_crop\n",
    "data_gauss_aug=data_crop_gauss\n",
    "data_val=data_cropp\n",
    "data_gauss_val=data_cropp_gauss"
   ]
  },
  {
   "cell_type": "markdown",
   "metadata": {},
   "source": [
    "## Shuffle ##"
   ]
  },
  {
   "cell_type": "code",
   "execution_count": 6,
   "metadata": {},
   "outputs": [],
   "source": [
    "shuffle_array_val= np.arange(0, data_val.shape[0], 1)\n",
    "shuffle_array_aug= np.arange(0, data_aug.shape[0], 1)\n",
    "r.shuffle(shuffle_array_val)\n",
    "r.shuffle(shuffle_array_aug)\n",
    "\n",
    "for frame_index in range(np.size(data_val , 0)):\n",
    "    data_val[frame_index]= data_val[shuffle_array_val[frame_index]]\n",
    "    data_gauss_val[frame_index]= data_gauss_val[shuffle_array_val[frame_index]]\n",
    "\n",
    "for frame_index in range(np.size(data_aug , 0)):\n",
    "    data_aug[frame_index]= data_aug[shuffle_array_aug[frame_index]]\n",
    "    data_gauss_aug[frame_index]= data_gauss_aug[shuffle_array_aug[frame_index]]"
   ]
  },
  {
   "cell_type": "markdown",
   "metadata": {},
   "source": [
    "## Define GPU device ##"
   ]
  },
  {
   "cell_type": "code",
   "execution_count": 7,
   "metadata": {},
   "outputs": [
    {
     "name": "stdout",
     "output_type": "stream",
     "text": [
      "PhysicalDevice(name='/physical_device:GPU:0', device_type='GPU')\n"
     ]
    }
   ],
   "source": [
    "gpu = tf.config.list_physical_devices('GPU')[0]\n",
    "print(gpu)\n",
    "tf.config.experimental.set_memory_growth(gpu, True)\n",
    "gpu = tf.device('GPU:0/') \n",
    "\n",
    "base_dir = r'C:\\Users\\roumba\\Documents\\Software\\deep-events'\n",
    "data_path = base_dir+ r'\\Norm_data'\n",
    "model_path = base_dir+ '\\Models'"
   ]
  },
  {
   "cell_type": "code",
   "execution_count": 8,
   "metadata": {},
   "outputs": [
    {
     "name": "stdout",
     "output_type": "stream",
     "text": [
      "Model: ref_f8_c9_b16\n",
      "* Start Encoder Section *\n",
      "* Start Center Section *\n",
      "* Start Decoder Section *\n",
      "Epoch 1/20\n",
      "58/58 - 14s - loss: 0.5267 - binary_accuracy: 0.8309 - val_loss: 0.6062 - val_binary_accuracy: 0.9880 - 14s/epoch - 245ms/step\n",
      "Epoch 2/20\n",
      "58/58 - 5s - loss: 0.3578 - binary_accuracy: 0.9853 - val_loss: 0.4741 - val_binary_accuracy: 0.9880 - 5s/epoch - 86ms/step\n",
      "Epoch 3/20\n",
      "58/58 - 5s - loss: 0.3062 - binary_accuracy: 0.9872 - val_loss: 0.3847 - val_binary_accuracy: 0.9880 - 5s/epoch - 87ms/step\n",
      "Epoch 4/20\n",
      "58/58 - 5s - loss: 0.2639 - binary_accuracy: 0.9873 - val_loss: 0.3052 - val_binary_accuracy: 0.9880 - 5s/epoch - 86ms/step\n",
      "Epoch 5/20\n",
      "58/58 - 5s - loss: 0.2331 - binary_accuracy: 0.9873 - val_loss: 0.2497 - val_binary_accuracy: 0.9880 - 5s/epoch - 86ms/step\n",
      "Epoch 6/20\n",
      "58/58 - 5s - loss: 0.2070 - binary_accuracy: 0.9873 - val_loss: 0.2108 - val_binary_accuracy: 0.9880 - 5s/epoch - 86ms/step\n",
      "Epoch 7/20\n",
      "58/58 - 5s - loss: 0.1838 - binary_accuracy: 0.9873 - val_loss: 0.1817 - val_binary_accuracy: 0.9880 - 5s/epoch - 85ms/step\n",
      "Epoch 8/20\n",
      "58/58 - 5s - loss: 0.1635 - binary_accuracy: 0.9873 - val_loss: 0.1584 - val_binary_accuracy: 0.9880 - 5s/epoch - 85ms/step\n",
      "Epoch 9/20\n",
      "58/58 - 5s - loss: 0.1461 - binary_accuracy: 0.9873 - val_loss: 0.1387 - val_binary_accuracy: 0.9880 - 5s/epoch - 85ms/step\n",
      "Epoch 10/20\n",
      "58/58 - 5s - loss: 0.1330 - binary_accuracy: 0.9873 - val_loss: 0.1241 - val_binary_accuracy: 0.9880 - 5s/epoch - 84ms/step\n",
      "Epoch 11/20\n",
      "58/58 - 5s - loss: 0.1179 - binary_accuracy: 0.9873 - val_loss: 0.1107 - val_binary_accuracy: 0.9880 - 5s/epoch - 84ms/step\n",
      "Epoch 12/20\n",
      "58/58 - 5s - loss: 0.1062 - binary_accuracy: 0.9873 - val_loss: 0.0980 - val_binary_accuracy: 0.9880 - 5s/epoch - 84ms/step\n",
      "Epoch 13/20\n",
      "58/58 - 5s - loss: 0.0963 - binary_accuracy: 0.9873 - val_loss: 0.0887 - val_binary_accuracy: 0.9880 - 5s/epoch - 84ms/step\n",
      "Epoch 14/20\n",
      "58/58 - 5s - loss: 0.0877 - binary_accuracy: 0.9873 - val_loss: 0.0797 - val_binary_accuracy: 0.9880 - 5s/epoch - 85ms/step\n",
      "Epoch 15/20\n",
      "58/58 - 5s - loss: 0.0805 - binary_accuracy: 0.9873 - val_loss: 0.0744 - val_binary_accuracy: 0.9880 - 5s/epoch - 84ms/step\n",
      "Epoch 16/20\n",
      "58/58 - 5s - loss: 0.0741 - binary_accuracy: 0.9873 - val_loss: 0.0681 - val_binary_accuracy: 0.9880 - 5s/epoch - 85ms/step\n",
      "Epoch 17/20\n",
      "58/58 - 5s - loss: 0.0685 - binary_accuracy: 0.9873 - val_loss: 0.0631 - val_binary_accuracy: 0.9880 - 5s/epoch - 84ms/step\n",
      "Epoch 18/20\n",
      "58/58 - 5s - loss: 0.0637 - binary_accuracy: 0.9873 - val_loss: 0.0584 - val_binary_accuracy: 0.9880 - 5s/epoch - 84ms/step\n",
      "Epoch 19/20\n",
      "58/58 - 5s - loss: 0.0595 - binary_accuracy: 0.9873 - val_loss: 0.0542 - val_binary_accuracy: 0.9880 - 5s/epoch - 84ms/step\n",
      "Epoch 20/20\n",
      "58/58 - 5s - loss: 0.0558 - binary_accuracy: 0.9873 - val_loss: 0.0509 - val_binary_accuracy: 0.9880 - 5s/epoch - 84ms/step\n"
     ]
    }
   ],
   "source": [
    "with gpu:\n",
    "  nb_filters = 8\n",
    "  firstConvSize = 9\n",
    "  batch_size = [8, 16, 32, 256]\n",
    "  model, history= {}, {}\n",
    "  \n",
    "  b=batch_size[1]\n",
    "  model_name = 'ref_f%i_c%i_b%i'%(nb_filters, firstConvSize, b)\n",
    "  print('Model:', model_name)\n",
    "  model[model_name] = training.create_model(nb_filters, firstConvSize)\n",
    "  history[model_name] = training.train_model(model[model_name], data_aug, data_gauss_aug, b, data_ratio)"
   ]
  },
  {
   "cell_type": "markdown",
   "metadata": {},
   "source": [
    "## Saving of Data ##"
   ]
  },
  {
   "cell_type": "code",
   "execution_count": 9,
   "metadata": {},
   "outputs": [],
   "source": [
    "## SAVE AS .h5 ##\n",
    "\n",
    "# name1=f'\\{cell_type}_{microscope}_{bf_fl}_data_val'\n",
    "# name2=f'\\{cell_type}_{microscope}_{bf_fl}_data_gauss_val'\n",
    "# name3=f'\\{cell_type}_{microscope}_{bf_fl}_data_aug'\n",
    "# name4=f'\\{cell_type}_{microscope}_{bf_fl}_data_gauss_aug'\n",
    "\n",
    "# util.save_h5(data_val_norm, data_path, name1)\n",
    "# util.save_h5(data_gauss_val_norm, data_path, name2)\n",
    "# util.save_h5(data_aug_norm, data_path, name3)\n",
    "# util.save_h5(data_gauss_aug_norm, data_path, name4)\n",
    "\n",
    "## SAVE AS .tiff ##\n",
    "\n",
    "name1=f'{cell_type}_{microscope}_{bf_fl}_data_val.tiff'\n",
    "name2=f'{cell_type}_{microscope}_{bf_fl}_data_gauss_val.tiff'\n",
    "name3=f'{cell_type}_{microscope}_{bf_fl}_data_aug.tiff'\n",
    "name4=f'{cell_type}_{microscope}_{bf_fl}_data_gauss_aug.tiff'\n",
    "\n",
    "imageio.mimwrite(name1, (data_val).astype(np.float64))\n",
    "imageio.mimwrite(name2, (data_gauss_val).astype(np.float64))\n",
    "imageio.mimwrite(name3, (data_aug).astype(np.float64))\n",
    "imageio.mimwrite(name4, (data_gauss_aug).astype(np.float64))\n"
   ]
  },
  {
   "cell_type": "code",
   "execution_count": 10,
   "metadata": {},
   "outputs": [],
   "source": [
    "# import tifffile\n",
    "# print(all_image_array.shape)\n",
    "# writer = imageio.get_writer(\"all_images.tiff\")\n",
    "# print(writer)\n",
    "# tifffile.imwrite(\"all_images.tiff\", all_image_array.astype(np.uint16), photometric='minisblack')"
   ]
  },
  {
   "cell_type": "code",
   "execution_count": 11,
   "metadata": {},
   "outputs": [
    {
     "name": "stdout",
     "output_type": "stream",
     "text": [
      "\n",
      "Saving C:\\Users\\roumba\\Documents\\Software\\deep-events\\Modelsref_f8_c9_b16/model.h5\n",
      "Done.\n",
      "\n",
      "Saving C:\\Users\\roumba\\Documents\\Software\\deep-events\\Modelsref_f8_c9_b16/history\n",
      "Done.\n"
     ]
    }
   ],
   "source": [
    "folder_name = list(model.keys())\n",
    "\n",
    "util.save_model(model, model_path, [f'model']*len(model), folder_name)\n",
    "util.save_pkl(history, model_path, [f'history']*len(model), folder_name)\n",
    "\n",
    "# C:/Users/roumba/Documents/Software/deep-events/Modelsref_f8_c9_b16/model.h5 #"
   ]
  }
 ],
 "metadata": {
  "kernelspec": {
   "display_name": "Python 3.10.7 ('.env': venv)",
   "language": "python",
   "name": "python3"
  },
  "language_info": {
   "codemirror_mode": {
    "name": "ipython",
    "version": 3
   },
   "file_extension": ".py",
   "mimetype": "text/x-python",
   "name": "python",
   "nbconvert_exporter": "python",
   "pygments_lexer": "ipython3",
   "version": "3.10.7"
  },
  "orig_nbformat": 4,
  "vscode": {
   "interpreter": {
    "hash": "1eaf8819518d82bc7e7f729f546a337f692f85bf6d00cdfaf0712e2fc6595813"
   }
  }
 },
 "nbformat": 4,
 "nbformat_minor": 2
}
