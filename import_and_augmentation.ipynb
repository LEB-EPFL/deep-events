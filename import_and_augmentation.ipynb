{
 "cells": [
  {
   "cell_type": "code",
   "execution_count": 1,
   "metadata": {},
   "outputs": [],
   "source": [
    "from PIL import Image\n",
    "import pandas as pd\n",
    "import numpy as np\n",
    "import cv2 as cv\n",
    "from glob import glob\n",
    "from sklearn.model_selection import train_test_split\n",
    "from mitosplit_net import preprocessing, augmentation, evaluation, training, plotting, util\n",
    "from albumentations import Compose, Rotate, RandomRotate90, HorizontalFlip, Flip, ElasticTransform, GaussNoise, RandomCrop, Resize\n",
    "from tqdm import tqdm\n",
    "import os, sys\n",
    "from os import path\n",
    "import random as r\n",
    "from import_augmentation_function import import_fun, aug_fun, import_aug_fun\n",
    "import matplotlib.pyplot as plt\n",
    "import tensorflow as tf "
   ]
  },
  {
   "cell_type": "code",
   "execution_count": 2,
   "metadata": {},
   "outputs": [],
   "source": [
    "## IMPORTS ALL IMAGES WITHIN THE FOLDER \"imager_dir\" ##\n",
    "\n",
    "files_dir = r'C:\\Users\\roumba\\Documents\\Software\\deep-events\\training_data'\n",
    "images_dir = '220915_mtstaygold_cos7_ZEISS_bf_pos'\n",
    "joined_path = os.path.join(files_dir, images_dir)\n",
    "img_size = 256\n",
    "data_ratio=0.1\n",
    "data_split_state = None \n",
    "number_of_augmentations = 5 \n",
    "\n",
    "#for some reason, even though it should have been deleted, the first two arrays of axis0 are zeros?# \n"
   ]
  },
  {
   "cell_type": "code",
   "execution_count": 14,
   "metadata": {},
   "outputs": [
    {
     "name": "stderr",
     "output_type": "stream",
     "text": [
      "100%|██████████| 519/519 [00:00<00:00, 1390.18it/s]\n",
      "100%|██████████| 519/519 [00:00<00:00, 1333.65it/s]\n",
      "100%|██████████| 519/519 [00:00<00:00, 1714.51it/s]\n",
      "100%|██████████| 519/519 [00:00<00:00, 1407.63it/s]\n",
      "100%|██████████| 519/519 [00:00<00:00, 1457.18it/s]\n"
     ]
    }
   ],
   "source": [
    "## THIS WORKS FOR A NETWORK WITH NO MEMORY ##\n",
    "\n",
    "all_image_array, all_image_array_gauss = import_fun(joined_path, files_dir, images_dir)\n",
    "augmentation_data, data_val, augmentation_data_gauss, data_gauss_val =  train_test_split(all_image_array, all_image_array_gauss, \n",
    "                                                                                                       test_size=data_ratio, random_state=data_split_state)\n",
    "data_aug = augmentation_data\n",
    "data_gauss_aug = augmentation_data_gauss\n",
    "for j in range(number_of_augmentations):\n",
    "    augment_data, augment_data_gauss = aug_fun(augmentation_data, augmentation_data_gauss)\n",
    "    data_aug = np.concatenate((data_aug, augment_data))\n",
    "    data_gauss_aug = np.concatenate((data_gauss_aug,augment_data_gauss))\n"
   ]
  },
  {
   "cell_type": "code",
   "execution_count": 10,
   "metadata": {},
   "outputs": [
    {
     "data": {
      "text/plain": [
       "(3114, 256, 256)"
      ]
     },
     "execution_count": 10,
     "metadata": {},
     "output_type": "execute_result"
    }
   ],
   "source": [
    "np.shape(data_aug)"
   ]
  },
  {
   "cell_type": "code",
   "execution_count": null,
   "metadata": {},
   "outputs": [
    {
     "name": "stderr",
     "output_type": "stream",
     "text": [
      "100%|██████████| 1/1 [00:00<?, ?it/s]\n",
      "100%|██████████| 1/1 [00:00<00:00, 1001.74it/s]\n",
      "100%|██████████| 1/1 [00:00<00:00, 999.60it/s]\n",
      "100%|██████████| 15/15 [00:00<?, ?it/s]\n",
      "100%|██████████| 15/15 [00:00<00:00, 1876.03it/s]\n",
      "100%|██████████| 29/29 [00:00<00:00, 9415.19it/s]\n",
      "100%|██████████| 29/29 [00:00<00:00, 3225.28it/s]\n",
      "100%|██████████| 11/11 [00:00<00:00, 1528.13it/s]\n",
      "100%|██████████| 11/11 [00:00<?, ?it/s]\n",
      "100%|██████████| 5/5 [00:00<?, ?it/s]\n",
      "100%|██████████| 5/5 [00:00<?, ?it/s]\n",
      "100%|██████████| 24/24 [00:00<00:00, 1875.67it/s]\n",
      "100%|██████████| 24/24 [00:00<00:00, 1334.23it/s]\n",
      "100%|██████████| 14/14 [00:00<00:00, 6659.14it/s]\n",
      "100%|██████████| 14/14 [00:00<00:00, 1296.11it/s]\n",
      "100%|██████████| 7/7 [00:00<00:00, 351.77it/s]\n",
      "100%|██████████| 7/7 [00:00<00:00, 7020.59it/s]\n",
      "100%|██████████| 16/16 [00:00<00:00, 2278.12it/s]\n",
      "100%|██████████| 16/16 [00:00<00:00, 1428.58it/s]\n",
      "100%|██████████| 8/8 [00:00<00:00, 2694.27it/s]\n",
      "100%|██████████| 8/8 [00:00<00:00, 853.04it/s]\n",
      "100%|██████████| 8/8 [00:00<00:00, 1601.49it/s]\n",
      "100%|██████████| 8/8 [00:00<?, ?it/s]\n",
      "100%|██████████| 1/1 [00:00<?, ?it/s]\n",
      "100%|██████████| 8/8 [00:00<00:00, 470.18it/s]\n",
      "100%|██████████| 39/39 [00:00<00:00, 1833.87it/s]\n",
      "100%|██████████| 39/39 [00:00<00:00, 1859.81it/s]\n",
      "100%|██████████| 46/46 [00:00<00:00, 1363.87it/s]\n",
      "100%|██████████| 46/46 [00:00<00:00, 1472.56it/s]\n",
      "100%|██████████| 19/19 [00:00<00:00, 1064.71it/s]\n",
      "100%|██████████| 19/19 [00:00<00:00, 1147.17it/s]\n",
      "100%|██████████| 14/14 [00:00<?, ?it/s]\n",
      "100%|██████████| 14/14 [00:00<00:00, 1158.03it/s]\n",
      "100%|██████████| 12/12 [00:00<00:00, 2416.19it/s]\n",
      "100%|██████████| 12/12 [00:00<00:00, 972.91it/s]\n",
      "100%|██████████| 14/14 [00:00<00:00, 787.69it/s]\n",
      "100%|██████████| 14/14 [00:00<00:00, 1377.70it/s]\n",
      "100%|██████████| 47/47 [00:00<00:00, 1072.17it/s]\n",
      "100%|██████████| 47/47 [00:00<00:00, 3591.60it/s]\n",
      "100%|██████████| 24/24 [00:00<00:00, 2885.00it/s]\n",
      "100%|██████████| 24/24 [00:00<00:00, 625.63it/s]\n",
      "100%|██████████| 8/8 [00:00<?, ?it/s]\n",
      "100%|██████████| 7/7 [00:00<?, ?it/s]\n",
      "100%|██████████| 7/7 [00:00<00:00, 414.29it/s]\n",
      "100%|██████████| 18/18 [00:00<00:00, 2336.44it/s]\n",
      "100%|██████████| 18/18 [00:00<00:00, 1800.65it/s]\n",
      "100%|██████████| 9/9 [00:00<00:00, 1800.56it/s]\n",
      "100%|██████████| 9/9 [00:00<00:00, 2378.17it/s]\n",
      "100%|██████████| 5/5 [00:00<00:00, 1670.37it/s]\n",
      "100%|██████████| 5/5 [00:00<00:00, 26051.58it/s]\n",
      "100%|██████████| 15/15 [00:00<00:00, 2152.10it/s]\n",
      "100%|██████████| 15/15 [00:00<00:00, 1876.37it/s]\n",
      "100%|██████████| 2/2 [00:00<00:00, 2004.45it/s]\n",
      "100%|██████████| 2/2 [00:00<00:00, 1953.11it/s]\n",
      "100%|██████████| 22/22 [00:00<00:00, 997.38it/s]\n",
      "100%|██████████| 22/22 [00:00<00:00, 1404.85it/s]\n",
      "100%|██████████| 14/14 [00:00<00:00, 7005.52it/s]\n",
      "100%|██████████| 14/14 [00:00<00:00, 1740.58it/s]\n",
      "100%|██████████| 1/1 [00:00<?, ?it/s]\n",
      "100%|██████████| 1/1 [00:00<?, ?it/s]\n",
      "100%|██████████| 19/19 [00:00<00:00, 1215.89it/s]\n",
      "100%|██████████| 19/19 [00:00<00:00, 1277.28it/s]\n",
      "100%|██████████| 1/1 [00:00<?, ?it/s]\n",
      "100%|██████████| 1/1 [00:00<?, ?it/s]\n",
      "100%|██████████| 8/8 [00:00<00:00, 471.09it/s]\n",
      "100%|██████████| 8/8 [00:00<00:00, 7794.29it/s]\n",
      "100%|██████████| 40/40 [00:00<00:00, 2200.15it/s]\n",
      "100%|██████████| 40/40 [00:00<00:00, 1193.47it/s]\n",
      "100%|██████████| 2/2 [00:00<00:00, 1002.22it/s]\n",
      "100%|██████████| 2/2 [00:00<?, ?it/s]\n",
      "100%|██████████| 6/6 [00:00<?, ?it/s]\n",
      "100%|██████████| 6/6 [00:00<?, ?it/s]\n",
      "100%|██████████| 19/19 [00:00<00:00, 925.76it/s]\n",
      "100%|██████████| 19/19 [00:00<00:00, 5544.55it/s]\n",
      "100%|██████████| 16/16 [00:00<?, ?it/s]\n",
      "100%|██████████| 16/16 [00:00<00:00, 3174.50it/s]\n",
      "100%|██████████| 9/9 [00:00<00:00, 526.69it/s]\n",
      "100%|██████████| 9/9 [00:00<00:00, 4493.36it/s]\n",
      "100%|██████████| 2/2 [00:00<?, ?it/s]\n",
      "100%|██████████| 2/2 [00:00<?, ?it/s]\n"
     ]
    },
    {
     "data": {
      "text/plain": [
       "(578, 256, 256)"
      ]
     },
     "execution_count": 42,
     "metadata": {},
     "output_type": "execute_result"
    }
   ],
   "source": [
    "## THIS WORKS FOR MEMORY CONSERVATION ##\n",
    "\n",
    "all_data_aug, all_data_gauss_aug, all_image_array, all_image_array_gauss = import_aug_fun(joined_path, files_dir, images_dir)\n",
    "np.shape(all_data_aug)\n",
    "\n",
    "## DATA SPLIT IN VALIDATION AND AUGMENTATION ##\n",
    "\n",
    "val_size=int(data_ratio * np.size(all_data_aug,0))\n",
    "rand_arr= np.zeros(val_size)\n",
    "aug_size= np.size(all_data_aug,0) - val_size\n",
    "data_val= np.zeros((val_size, 256,256))\n",
    "data_gauss_val= np.zeros((val_size, 256,256))\n",
    "x = list(range(np.size(all_data_aug,0)-val_size))\n",
    "\n",
    "random_num_row = np.random.choice(x,val_size, replace=False)\n",
    "\n",
    "for i in range(val_size):\n",
    "    x= random_num_row[i]\n",
    "    data_val[i,:,:]= all_image_array[x,:,:]\n",
    "    data_gauss_val[i,:,:]= all_image_array_gauss[x,:,:]\n",
    "    if i==0:\n",
    "        data_aug = np.delete(all_data_aug, x, axis=0)\n",
    "        data_gauss_aug = np.delete(all_data_gauss_aug, x, axis=0)\n",
    "    else:\n",
    "        data_aug = np.delete(data_aug, x, axis=0)\n",
    "        data_gauss_aug = np.delete(data_gauss_aug, x, axis=0)"
   ]
  },
  {
   "cell_type": "code",
   "execution_count": 4,
   "metadata": {},
   "outputs": [],
   "source": [
    "## NORMALIZATION ##    \n",
    "\n",
    "for framenumber in range(np.size(data_val, 0)):\n",
    "    # k is the bit of data that we want to set to background and this should be reconsidered since maybe just quoting a number isn't very productive#\n",
    "    k=0.1 \n",
    "    kk=1/(1-k)\n",
    "\n",
    "    # validation data #\n",
    "    data_val = data_val/np.max(data_val)                                               \n",
    "    data_val = data_val-k\n",
    "    data_val[data_val < 0] = 0   \n",
    "    data_val = data_val*kk\n",
    "\n",
    "    data_gauss_val = data_gauss_val/np.max(data_gauss_val) \n",
    "    data_gauss_val = data_gauss_val-k\n",
    "    data_gauss_val[data_gauss_val < 0] = 0     \n",
    "    data_gauss_val = data_gauss_val*kk                                             \n",
    "    \n",
    "\n",
    "for framenumber in range(np.size(data_aug,0)):\n",
    "\n",
    "    # augmentation data #\n",
    "    data_aug = data_aug/np.max(data_aug)                                               \n",
    "    data_aug = data_aug-k\n",
    "    data_aug[data_aug < 0] = 0   \n",
    "    data_aug = data_aug*kk\n",
    "\n",
    "    data_gauss_aug = data_gauss_aug/np.max(data_gauss_aug) \n",
    "    data_gauss_aug = data_gauss_aug-k\n",
    "    data_gauss_aug[data_gauss_aug < 0] = 0     \n",
    "    data_gauss_aug = data_gauss_aug*kk     "
   ]
  },
  {
   "cell_type": "code",
   "execution_count": 16,
   "metadata": {},
   "outputs": [
    {
     "data": {
      "text/plain": [
       "1.0"
      ]
     },
     "execution_count": 16,
     "metadata": {},
     "output_type": "execute_result"
    }
   ],
   "source": [
    "data_aug = data_aug/np.max(data_aug) \n",
    "\n",
    "\n",
    "np.max(data_aug)                                                       "
   ]
  },
  {
   "cell_type": "code",
   "execution_count": 6,
   "metadata": {},
   "outputs": [],
   "source": [
    "## SHUFFLE ##\n",
    "\n",
    "data_val = r.shuffle(data_val)\n",
    "data_gauss_val = r.shuffle(data_gauss_val)\n",
    "data_aug = r.shuffle(data_aug)\n",
    "data_gauss_aug = r.shuffle(data_gauss_aug)"
   ]
  },
  {
   "cell_type": "code",
   "execution_count": 13,
   "metadata": {},
   "outputs": [
    {
     "name": "stdout",
     "output_type": "stream",
     "text": [
      "PhysicalDevice(name='/physical_device:GPU:0', device_type='GPU')\n",
      "model_path: C:\\Users\\roumba\\Documents\\Software\\deep-events\\Models\n"
     ]
    }
   ],
   "source": [
    "#Define GPU device where the code will run on\n",
    "\n",
    "gpu = tf.config.list_physical_devices('GPU')[0]\n",
    "print(gpu)\n",
    "tf.config.experimental.set_memory_growth(gpu, True)\n",
    "gpu = tf.device('GPU:0/') \n",
    "\n",
    "base_dir = r'C:\\Users\\roumba\\Documents\\Software\\deep-events'\n",
    "model_path = base_dir+'\\Models'\n",
    "print('model_path:', model_path)"
   ]
  },
  {
   "cell_type": "code",
   "execution_count": 17,
   "metadata": {},
   "outputs": [
    {
     "name": "stdout",
     "output_type": "stream",
     "text": [
      "Model: ref_f8_c9_b16\n",
      "* Start Encoder Section *\n",
      "* Start Center Section *\n",
      "* Start Decoder Section *\n",
      "Epoch 1/20\n",
      "21/21 - 9s - loss: 0.9240 - binary_accuracy: 0.3355 - val_loss: 0.7136 - val_binary_accuracy: 0.2338 - 9s/epoch - 406ms/step\n",
      "Epoch 2/20\n",
      "21/21 - 6s - loss: 0.7911 - binary_accuracy: 0.3902 - val_loss: 0.7290 - val_binary_accuracy: 0.0677 - 6s/epoch - 274ms/step\n",
      "Epoch 3/20\n",
      "21/21 - 6s - loss: 0.6038 - binary_accuracy: 0.7447 - val_loss: 0.6527 - val_binary_accuracy: 0.9849 - 6s/epoch - 276ms/step\n",
      "Epoch 4/20\n",
      "21/21 - 6s - loss: 0.5030 - binary_accuracy: 0.9526 - val_loss: 0.6169 - val_binary_accuracy: 0.9960 - 6s/epoch - 274ms/step\n",
      "Epoch 5/20\n",
      "21/21 - 6s - loss: 0.4563 - binary_accuracy: 0.9703 - val_loss: 0.5848 - val_binary_accuracy: 0.9960 - 6s/epoch - 274ms/step\n",
      "Epoch 6/20\n",
      "21/21 - 6s - loss: 0.4261 - binary_accuracy: 0.9827 - val_loss: 0.5569 - val_binary_accuracy: 0.9955 - 6s/epoch - 272ms/step\n",
      "Epoch 7/20\n",
      "21/21 - 6s - loss: 0.3990 - binary_accuracy: 0.9894 - val_loss: 0.5338 - val_binary_accuracy: 0.9956 - 6s/epoch - 275ms/step\n",
      "Epoch 8/20\n",
      "21/21 - 6s - loss: 0.3771 - binary_accuracy: 0.9926 - val_loss: 0.5116 - val_binary_accuracy: 0.9957 - 6s/epoch - 276ms/step\n",
      "Epoch 9/20\n",
      "21/21 - 6s - loss: 0.3557 - binary_accuracy: 0.9939 - val_loss: 0.4897 - val_binary_accuracy: 0.9956 - 6s/epoch - 273ms/step\n",
      "Epoch 10/20\n",
      "21/21 - 6s - loss: 0.3382 - binary_accuracy: 0.9949 - val_loss: 0.4751 - val_binary_accuracy: 0.9963 - 6s/epoch - 275ms/step\n",
      "Epoch 11/20\n",
      "21/21 - 6s - loss: 0.3238 - binary_accuracy: 0.9956 - val_loss: 0.4741 - val_binary_accuracy: 0.9963 - 6s/epoch - 275ms/step\n",
      "Epoch 12/20\n",
      "21/21 - 6s - loss: 0.3075 - binary_accuracy: 0.9959 - val_loss: 0.4567 - val_binary_accuracy: 0.9963 - 6s/epoch - 275ms/step\n",
      "Epoch 13/20\n",
      "21/21 - 6s - loss: 0.2946 - binary_accuracy: 0.9962 - val_loss: 0.4459 - val_binary_accuracy: 0.9963 - 6s/epoch - 275ms/step\n",
      "Epoch 14/20\n",
      "21/21 - 6s - loss: 0.2815 - binary_accuracy: 0.9962 - val_loss: 0.4057 - val_binary_accuracy: 0.9963 - 6s/epoch - 277ms/step\n",
      "Epoch 15/20\n",
      "21/21 - 6s - loss: 0.2705 - binary_accuracy: 0.9962 - val_loss: 0.4121 - val_binary_accuracy: 0.9963 - 6s/epoch - 276ms/step\n",
      "Epoch 16/20\n",
      "21/21 - 6s - loss: 0.2587 - binary_accuracy: 0.9962 - val_loss: 0.3984 - val_binary_accuracy: 0.9963 - 6s/epoch - 272ms/step\n",
      "Epoch 17/20\n",
      "21/21 - 6s - loss: 0.2486 - binary_accuracy: 0.9962 - val_loss: 0.3790 - val_binary_accuracy: 0.9963 - 6s/epoch - 271ms/step\n",
      "Epoch 18/20\n",
      "21/21 - 6s - loss: 0.2384 - binary_accuracy: 0.9962 - val_loss: 0.3681 - val_binary_accuracy: 0.9963 - 6s/epoch - 271ms/step\n",
      "Epoch 19/20\n",
      "21/21 - 6s - loss: 0.2288 - binary_accuracy: 0.9963 - val_loss: 0.3333 - val_binary_accuracy: 0.9963 - 6s/epoch - 272ms/step\n",
      "Epoch 20/20\n",
      "21/21 - 6s - loss: 0.2197 - binary_accuracy: 0.9963 - val_loss: 0.3205 - val_binary_accuracy: 0.9963 - 6s/epoch - 272ms/step\n"
     ]
    }
   ],
   "source": [
    "with gpu:\n",
    "  nb_filters = 8\n",
    "  firstConvSize = 9\n",
    "  batch_size = [8, 16, 32, 256]\n",
    "  model, history= {}, {}\n",
    "  \n",
    "  b=batch_size[1]\n",
    "  model_name = 'ref_f%i_c%i_b%i'%(nb_filters, firstConvSize, b)\n",
    "  print('Model:', model_name)\n",
    "  model[model_name] = training.create_model(nb_filters, firstConvSize)\n",
    "  history[model_name] = training.train_model(model[model_name], data_aug, data_gauss_aug, batch_size=b)"
   ]
  },
  {
   "cell_type": "code",
   "execution_count": 18,
   "metadata": {},
   "outputs": [
    {
     "name": "stdout",
     "output_type": "stream",
     "text": [
      "\n",
      "Saving C:\\Users\\roumba\\Documents\\Software\\deep-events\\Modelsref_f8_c9_b16/model.h5\n",
      "Done.\n",
      "\n",
      "Saving C:\\Users\\roumba\\Documents\\Software\\deep-events\\Modelsref_f8_c9_b16/history\n",
      "Done.\n",
      "\n",
      "Saving C:\\Users\\roumba\\Documents\\Software\\deep-events\\Modelsref_f8_c9_b16/frames_test\n",
      "Done.\n"
     ]
    }
   ],
   "source": [
    "folder_name = list(model.keys())\n",
    "\n",
    "util.save_model(model, model_path, ['model']*len(model), folder_name)\n",
    "util.save_pkl(history, model_path, ['history']*len(model), folder_name)"
   ]
  }
 ],
 "metadata": {
  "kernelspec": {
   "display_name": "Python 3.10.7 ('.env': venv)",
   "language": "python",
   "name": "python3"
  },
  "language_info": {
   "codemirror_mode": {
    "name": "ipython",
    "version": 3
   },
   "file_extension": ".py",
   "mimetype": "text/x-python",
   "name": "python",
   "nbconvert_exporter": "python",
   "pygments_lexer": "ipython3",
   "version": "3.10.7"
  },
  "orig_nbformat": 4,
  "vscode": {
   "interpreter": {
    "hash": "1eaf8819518d82bc7e7f729f546a337f692f85bf6d00cdfaf0712e2fc6595813"
   }
  }
 },
 "nbformat": 4,
 "nbformat_minor": 2
}
