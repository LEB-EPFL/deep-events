{
 "cells": [
  {
   "cell_type": "code",
   "execution_count": null,
   "metadata": {},
   "outputs": [],
   "source": [
    "base_dir = r'C:\\Users\\roumba\\Documents\\Software\\deep-events'\n",
    "data_path = base_dir+ r'\\testing_data'  \n",
    "folder_name = r'\\Modelsref_f8_c9_b16'\n",
    "\n",
    "model_type= r'\\MODELS_both_iSIM_fl'\n",
    "MODELS, cell, microscope, fl_bf= model_type.split('_')\n",
    "\n",
    "model_path = base_dir + folder_name + model_type\n",
    "\n",
    "data=data_path+r'\\both_iSIM_fl_data_val.tiff'\n",
    "data_test = tifffile.imread(data)\n",
    "gauss=data_path+r'\\both_iSIM_fl_data_gauss_val.tiff'\n",
    "gauss_test = tifffile.imread(gauss)\n",
    "out=data_path+r'\\both_iSIM_fl_model_output.tif'\n",
    "model_out = tifffile.imread(out)\n",
    "model_out_n= normalization_fun(model_out,0.1)"
   ]
  },
  {
   "cell_type": "code",
   "execution_count": null,
   "metadata": {},
   "outputs": [],
   "source": [
    "from sklearn.utils.multiclass import type_of_target\n",
    "from sklearn.metrics import ConfusionMatrixDisplay\n",
    "predicted=[]\n",
    "actual=[]\n",
    "\n",
    "for i in range(0,model_out_n.shape[0],1):\n",
    "    for j in range(0,model_out_n.shape[1],1):\n",
    "        for k in range(0,model_out_n.shape[2],1):\n",
    "            predicted.append(model_out_n[i,j,k])\n",
    "            actual.append(gauss_test[i,j,k])\n",
    "#for title, normalize in titles_options:\n",
    "title= \"Normalized confusion matrix\"\n",
    "disp = ConfusionMatrixDisplay.from_predictions(actual,predicted,normalize=\"true\")\n",
    "disp.ax_.set_title(title)\n",
    "print(title)\n",
    "print(disp.confusion_matrix)\n",
    "\n",
    "plt.show()"
   ]
  }
 ],
 "metadata": {
  "kernelspec": {
   "display_name": "Python 3.10.7 ('.env': venv)",
   "language": "python",
   "name": "python3"
  },
  "language_info": {
   "name": "python",
   "version": "3.10.7"
  },
  "orig_nbformat": 4,
  "vscode": {
   "interpreter": {
    "hash": "1eaf8819518d82bc7e7f729f546a337f692f85bf6d00cdfaf0712e2fc6595813"
   }
  }
 },
 "nbformat": 4,
 "nbformat_minor": 2
}
