{
 "cells": [
  {
   "cell_type": "code",
   "execution_count": 1,
   "metadata": {},
   "outputs": [
    {
     "name": "stderr",
     "output_type": "stream",
     "text": [
      "Matplotlib is building the font cache; this may take a moment.\n"
     ]
    }
   ],
   "source": [
    "from PIL import Image\n",
    "import pandas as pd\n",
    "import numpy as np\n",
    "import random \n",
    "import matplotlib.pyplot as plt \n",
    "from skimage import filters, segmentation, feature, measure, morphology\n",
    "import tensorflow\n",
    "import imageio\n",
    "from skimage.segmentation import flood, flood_fill\n",
    "from scipy import signal\n",
    "from tqdm import tqdm\n",
    "\n",
    "csvfile = r'C:\\Users\\roumba\\Documents\\Software\\deep-events\\Videos\\21.09_mtstaygold_cos7_iSIM_1\\mtStayGold__1_points.csv'\n",
    "datacsv = pd.read_csv(csvfile)\n",
    "\n"
   ]
  },
  {
   "cell_type": "code",
   "execution_count": 2,
   "metadata": {},
   "outputs": [],
   "source": [
    "def event_separation(data):\n",
    "    #this function takes in the data from the excel file and splits them into a nested list: each list within the nested list corresponds to the excel lines of a single division \n",
    "    #it differentiates the lines based on conditions on both frame number and x,y-distance that could potentially be changed if they don't work\n",
    "    length_of_file=len(data)-1\n",
    "    all_event_lines=[]\n",
    "    single_divison_events=[]\n",
    "    for excelindex in range(0,length_of_file):\n",
    "        framedataline1= data.iloc[excelindex,1] \n",
    "        framedataline2= data.iloc[excelindex+1,1] \n",
    "        framediff= abs(framedataline2-framedataline1)\n",
    "\n",
    "        ydistancedataline1= data.iloc[excelindex,2]\n",
    "        ydistancedataline2= data.iloc[excelindex+1,2]\n",
    "        ydistancediff= abs(ydistancedataline2-ydistancedataline1)\n",
    "\n",
    "        xdistancedataline1= data.iloc[excelindex,2]\n",
    "        xdistancedataline2= data.iloc[excelindex+1,2]\n",
    "        xdistancediff= abs(xdistancedataline2-xdistancedataline1)\n",
    "\n",
    "        if framediff < 3 and ydistancediff <  10 and xdistancediff < 10 :\n",
    "            single_divison_events.append(excelindex)\n",
    "            if excelindex == length_of_file-1:\n",
    "                single_divison_events.append(excelindex+1)\n",
    "                all_event_lines.append(single_divison_events)\n",
    "        else:\n",
    "            single_divison_events.append(excelindex)\n",
    "            all_event_lines.append(single_divison_events)\n",
    "            single_divison_events=[]\n",
    "    return all_event_lines\n"
   ]
  },
  {
   "cell_type": "code",
   "execution_count": 3,
   "metadata": {},
   "outputs": [],
   "source": [
    "imagefile= r'C:\\Users\\roumba\\Documents\\Software\\deep-events\\Videos\\21.09_mtstaygold_cos7_iSIM_1\\mtStayGold__1_MMStack_Pos0.ome.tif'\n",
    "img = Image.open(imagefile)\n"
   ]
  },
  {
   "cell_type": "code",
   "execution_count": 4,
   "metadata": {},
   "outputs": [],
   "source": [
    "def image_crop_save(l,list, data, img):   \n",
    "    division_list=[]\n",
    "    for index_list in range(0, l):\n",
    "        l1=len(list[index_list])\n",
    "        division_list=[]\n",
    "\n",
    "        for index_list1 in range(0,l1):\n",
    "            division_list.append(list[index_list][index_list1])\n",
    "            minlist=division_list[0]\n",
    "            maxlist=division_list[index_list1]\n",
    "\n",
    "        data_croped= data.iloc[minlist:maxlist,1:4]\n",
    "        frame1=int(data_croped['axis-0'].min())\n",
    "        frame2=int(data_croped['axis-0'].max())\n",
    "        ymean = data_croped['axis-1'].mean()\n",
    "        xmean = data_croped['axis-2'].mean()\n",
    "        ycrop1=ymean+128\n",
    "        ycrop2=ymean-128\n",
    "        xcrop1=xmean+128\n",
    "        xcrop2=xmean-128\n",
    "        dataar=np.zeros((frame2-frame1, 256, 256))\n",
    "\n",
    "        for frame_index, frame_number in enumerate(range (frame1, frame2)):\n",
    "            print(frame_number)\n",
    "            img.seek(frame_number-1) #starts from 0 I think?\n",
    "            box = (xcrop2, ycrop2, xcrop1, ycrop1) #choose dimensions of box\n",
    "            imcrop= img.crop(box)\n",
    "        \n",
    "            dataar[frame_index, :, :] = np.array(imcrop)\n",
    "        \n",
    "        currname_crop = f'image_{index_list}.tiff'\n",
    "        imageio.mimwrite(currname_crop, dataar)\n",
    "    return(dataar) #what does it actually return\n"
   ]
  },
  {
   "cell_type": "code",
   "execution_count": 5,
   "metadata": {},
   "outputs": [
    {
     "name": "stderr",
     "output_type": "stream",
     "text": [
      "c:\\Users\\roumba\\Documents\\Software\\deep-events\\.env\\lib\\site-packages\\tifffile\\tifffile.py:2001: UserWarning: <tifffile.TiffWriter 'image_7.tiff'> writing zero-size array to nonconformant TIFF\n",
      "  warnings.warn(\n"
     ]
    },
    {
     "ename": "EOFError",
     "evalue": "attempt to seek outside sequence",
     "output_type": "error",
     "traceback": [
      "\u001b[1;31m---------------------------------------------------------------------------\u001b[0m",
      "\u001b[1;31mEOFError\u001b[0m                                  Traceback (most recent call last)",
      "Cell \u001b[1;32mIn [5], line 3\u001b[0m\n\u001b[0;32m      1\u001b[0m list1\u001b[38;5;241m=\u001b[39mevent_separation(datacsv)\n\u001b[0;32m      2\u001b[0m l\u001b[38;5;241m=\u001b[39m\u001b[38;5;28mlen\u001b[39m(list1)\n\u001b[1;32m----> 3\u001b[0m image_crop_save(l,list1, datacsv, img)\n",
      "Cell \u001b[1;32mIn [4], line 24\u001b[0m, in \u001b[0;36mimage_crop_save\u001b[1;34m(l, list, data, img)\u001b[0m\n\u001b[0;32m     21\u001b[0m dataar\u001b[38;5;241m=\u001b[39mnp\u001b[38;5;241m.\u001b[39mzeros((frame2\u001b[38;5;241m-\u001b[39mframe1, \u001b[38;5;241m256\u001b[39m, \u001b[38;5;241m256\u001b[39m))\n\u001b[0;32m     23\u001b[0m \u001b[38;5;28;01mfor\u001b[39;00m frame_index, frame_number \u001b[38;5;129;01min\u001b[39;00m \u001b[38;5;28menumerate\u001b[39m(\u001b[38;5;28mrange\u001b[39m (frame1, frame2)):\n\u001b[1;32m---> 24\u001b[0m     \u001b[43mimg\u001b[49m\u001b[38;5;241;43m.\u001b[39;49m\u001b[43mseek\u001b[49m\u001b[43m(\u001b[49m\u001b[43mframe_number\u001b[49m\u001b[38;5;241;43m-\u001b[39;49m\u001b[38;5;241;43m1\u001b[39;49m\u001b[43m)\u001b[49m \u001b[38;5;66;03m#starts from 0 I think?\u001b[39;00m\n\u001b[0;32m     25\u001b[0m     box \u001b[38;5;241m=\u001b[39m (xcrop2, ycrop2, xcrop1, ycrop1) \u001b[38;5;66;03m#choose dimensions of box\u001b[39;00m\n\u001b[0;32m     26\u001b[0m     imcrop\u001b[38;5;241m=\u001b[39m img\u001b[38;5;241m.\u001b[39mcrop(box)\n",
      "File \u001b[1;32mc:\\Users\\roumba\\Documents\\Software\\deep-events\\.env\\lib\\site-packages\\PIL\\TiffImagePlugin.py:1099\u001b[0m, in \u001b[0;36mTiffImageFile.seek\u001b[1;34m(self, frame)\u001b[0m\n\u001b[0;32m   1097\u001b[0m \u001b[39mdef\u001b[39;00m \u001b[39mseek\u001b[39m(\u001b[39mself\u001b[39m, frame):\n\u001b[0;32m   1098\u001b[0m     \u001b[39m\"\"\"Select a given frame as current image\"\"\"\u001b[39;00m\n\u001b[1;32m-> 1099\u001b[0m     \u001b[39mif\u001b[39;00m \u001b[39mnot\u001b[39;00m \u001b[39mself\u001b[39;49m\u001b[39m.\u001b[39;49m_seek_check(frame):\n\u001b[0;32m   1100\u001b[0m         \u001b[39mreturn\u001b[39;00m\n\u001b[0;32m   1101\u001b[0m     \u001b[39mself\u001b[39m\u001b[39m.\u001b[39m_seek(frame)\n",
      "File \u001b[1;32mc:\\Users\\roumba\\Documents\\Software\\deep-events\\.env\\lib\\site-packages\\PIL\\ImageFile.py:310\u001b[0m, in \u001b[0;36mImageFile._seek_check\u001b[1;34m(self, frame)\u001b[0m\n\u001b[0;32m    300\u001b[0m \u001b[39mdef\u001b[39;00m \u001b[39m_seek_check\u001b[39m(\u001b[39mself\u001b[39m, frame):\n\u001b[0;32m    301\u001b[0m     \u001b[39mif\u001b[39;00m (\n\u001b[0;32m    302\u001b[0m         frame \u001b[39m<\u001b[39m \u001b[39mself\u001b[39m\u001b[39m.\u001b[39m_min_frame\n\u001b[0;32m    303\u001b[0m         \u001b[39m# Only check upper limit on frames if additional seek operations\u001b[39;00m\n\u001b[1;32m   (...)\u001b[0m\n\u001b[0;32m    308\u001b[0m         )\n\u001b[0;32m    309\u001b[0m     ):\n\u001b[1;32m--> 310\u001b[0m         \u001b[39mraise\u001b[39;00m \u001b[39mEOFError\u001b[39;00m(\u001b[39m\"\u001b[39m\u001b[39mattempt to seek outside sequence\u001b[39m\u001b[39m\"\u001b[39m)\n\u001b[0;32m    312\u001b[0m     \u001b[39mreturn\u001b[39;00m \u001b[39mself\u001b[39m\u001b[39m.\u001b[39mtell() \u001b[39m!=\u001b[39m frame\n",
      "\u001b[1;31mEOFError\u001b[0m: attempt to seek outside sequence"
     ]
    }
   ],
   "source": [
    "list1=event_separation(datacsv)\n",
    "l=len(list1)\n",
    "image_crop_save(l,list1, datacsv, img)\n"
   ]
  }
 ],
 "metadata": {
  "kernelspec": {
   "display_name": "Python 3.10.7 ('.env': venv)",
   "language": "python",
   "name": "python3"
  },
  "language_info": {
   "codemirror_mode": {
    "name": "ipython",
    "version": 3
   },
   "file_extension": ".py",
   "mimetype": "text/x-python",
   "name": "python",
   "nbconvert_exporter": "python",
   "pygments_lexer": "ipython3",
   "version": "3.10.7"
  },
  "orig_nbformat": 4,
  "vscode": {
   "interpreter": {
    "hash": "1eaf8819518d82bc7e7f729f546a337f692f85bf6d00cdfaf0712e2fc6595813"
   }
  }
 },
 "nbformat": 4,
 "nbformat_minor": 2
}
