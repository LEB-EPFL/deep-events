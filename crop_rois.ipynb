{
 "cells": [
  {
   "cell_type": "code",
   "execution_count": 1,
   "metadata": {},
   "outputs": [],
   "source": [
    "imagefile= r'C:\\Users\\roumba\\Documents\\Software\\deep-events\\Videos\\Video_1\\Brightfield\\220915_cos7_mitostaygold1_w1Brightfield.ome.tif'\n",
    "csvfile = r'C:\\Users\\roumba\\Documents\\Software\\deep-events\\Videos\\Video_1\\Brightfield\\labels1b.csv'\n",
    "\n",
    "from PIL import Image\n",
    "import pandas as pd\n",
    "import numpy as np\n",
    "\n",
    "img = Image.open(imagefile)\n",
    "#tiffarray = np.array(img)\n",
    "\n",
    "data = pd.read_csv(csvfile)\n",
    "#data.columns\n"
   ]
  },
  {
   "cell_type": "code",
   "execution_count": 42,
   "metadata": {},
   "outputs": [],
   "source": [
    "length=len(data)-1\n",
    "list=[]\n",
    "list1=[]\n",
    "for excelindex in range(0,length):\n",
    "    framedataline1= data.iloc[excelindex,1] \n",
    "    framedataline2= data.iloc[excelindex+1,1] \n",
    "    framediff= abs(framedataline2-framedataline1)\n",
    "\n",
    "    ydistancedataline1= data.iloc[excelindex,2]\n",
    "    ydistancedataline2= data.iloc[excelindex+1,2]\n",
    "    ydistancediff= abs(ydistancedataline2-ydistancedataline1)\n",
    "\n",
    "    xdistancedataline1= data.iloc[excelindex,2]\n",
    "    xdistancedataline2= data.iloc[excelindex+1,2]\n",
    "    xdistancediff= abs(xdistancedataline2-xdistancedataline1)\n",
    "\n",
    "    if framediff < 3 and ydistancediff <  10 and xdistancediff < 10 :\n",
    "        list1.append(excelindex)\n",
    "        if excelindex == length-1:\n",
    "            list1.append(excelindex+1)\n",
    "            list.append(list1)\n",
    "    else:\n",
    "        list1.append(excelindex)\n",
    "        list.append(list1)\n",
    "        list1=[]\n",
    "\n",
    "l=len(list)\n"
   ]
  },
  {
   "cell_type": "code",
   "execution_count": 51,
   "metadata": {},
   "outputs": [],
   "source": [
    "divisionlist=[]\n",
    "for indexlist in range(0, l):\n",
    "    l1=len(list[indexlist])\n",
    "    divisionlist=[]\n",
    "\n",
    "    for indexlist1 in range(0,l1):\n",
    "        divisionlist.append(list[indexlist][indexlist1])\n",
    "        minlist=divisionlist[0]\n",
    "        maxlist=divisionlist[indexlist1]\n",
    "\n",
    "    datacrop= data.iloc[minlist:maxlist,1:4]\n",
    "    frame1=int(datacrop['axis-0'].min())\n",
    "    frame2=int(datacrop['axis-0'].max())\n",
    "    ymean = datacrop['axis-1'].mean()\n",
    "    xmean = datacrop['axis-2'].mean()\n",
    "    ycrop1=ymean+128\n",
    "    ycrop2=ymean-128\n",
    "    xcrop1=xmean+128\n",
    "    xcrop2=xmean-128\n",
    "    dataar=np.zeros((frame2-frame1+1, 256, 256))\n",
    "\n",
    "    for frameindex, framenumber in enumerate(range (frame1, frame2)):\n",
    "        img.seek(framenumber-1) #starts from 0 I think?\n",
    "        box = (xcrop2, ycrop2, xcrop1, ycrop1) #choose dimensions of box\n",
    "        imcrop= img.crop(box)\n",
    "    \n",
    "        dataar[frameindex, :, :] = np.array(imcrop)\n",
    "\n",
    "    import imageio\n",
    "    currname = f'image_{indexlist}.tiff'\n",
    "    #imageio.mimwrite(\"image.tiff\", dataar)\n",
    "    imageio.mimwrite(currname, dataar)\n"
   ]
  }
 ],
 "metadata": {
  "kernelspec": {
   "display_name": "Python 3.10.7 ('.env': venv)",
   "language": "python",
   "name": "python3"
  },
  "language_info": {
   "codemirror_mode": {
    "name": "ipython",
    "version": 3
   },
   "file_extension": ".py",
   "mimetype": "text/x-python",
   "name": "python",
   "nbconvert_exporter": "python",
   "pygments_lexer": "ipython3",
   "version": "3.10.7"
  },
  "orig_nbformat": 4,
  "vscode": {
   "interpreter": {
    "hash": "1eaf8819518d82bc7e7f729f546a337f692f85bf6d00cdfaf0712e2fc6595813"
   }
  }
 },
 "nbformat": 4,
 "nbformat_minor": 2
}
