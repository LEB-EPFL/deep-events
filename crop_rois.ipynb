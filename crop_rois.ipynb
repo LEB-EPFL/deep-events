{
 "cells": [
  {
   "cell_type": "code",
   "execution_count": 43,
   "metadata": {},
   "outputs": [],
   "source": [
    "from PIL import Image\n",
    "import pandas as pd\n",
    "import numpy as np\n",
    "import random \n",
    "import matplotlib.pyplot as plt \n",
    "from skimage import filters, segmentation, feature, measure, morphology\n",
    "import tensorflow\n",
    "import imageio\n",
    "from skimage.segmentation import flood, flood_fill\n",
    "from scipy import signal\n",
    "from tqdm import tqdm\n",
    "\n",
    "csvfile = r'C:\\Users\\roumba\\Documents\\Software\\deep-events\\Videos\\Video_1\\Brightfield\\labels1b.csv'\n",
    "datacsv = pd.read_csv(csvfile)\n",
    "\n"
   ]
  },
  {
   "cell_type": "code",
   "execution_count": 44,
   "metadata": {},
   "outputs": [],
   "source": [
    "def event_separation(data):\n",
    "    #this function takes in the data from the excel file and splits them into a nested list: each list within the nested list corresponds to the excel lines of a single division \n",
    "    #it differentiates the lines based on conditions on both frame number and x,y-distance that could potentially be changed if they don't work\n",
    "    length_of_file=len(data)-1\n",
    "    all_event_lines=[]\n",
    "    single_divison_events=[]\n",
    "    for excelindex in range(0,length_of_file):\n",
    "        framedataline1= data.iloc[excelindex,1] \n",
    "        framedataline2= data.iloc[excelindex+1,1] \n",
    "        framediff= abs(framedataline2-framedataline1)\n",
    "\n",
    "        ydistancedataline1= data.iloc[excelindex,2]\n",
    "        ydistancedataline2= data.iloc[excelindex+1,2]\n",
    "        ydistancediff= abs(ydistancedataline2-ydistancedataline1)\n",
    "\n",
    "        xdistancedataline1= data.iloc[excelindex,2]\n",
    "        xdistancedataline2= data.iloc[excelindex+1,2]\n",
    "        xdistancediff= abs(xdistancedataline2-xdistancedataline1)\n",
    "\n",
    "        if framediff < 3 and ydistancediff <  10 and xdistancediff < 10 :\n",
    "            single_divison_events.append(excelindex)\n",
    "            if excelindex == length_of_file-1:\n",
    "                single_divison_events.append(excelindex+1)\n",
    "                all_event_lines.append(single_divison_events)\n",
    "        else:\n",
    "            single_divison_events.append(excelindex)\n",
    "            all_event_lines.append(single_divison_events)\n",
    "            single_divison_events=[]\n",
    "    return all_event_lines\n"
   ]
  },
  {
   "cell_type": "code",
   "execution_count": 45,
   "metadata": {},
   "outputs": [],
   "source": [
    "imagefile= r'C:\\Users\\roumba\\Documents\\Software\\deep-events\\Videos\\Video_1\\Brightfield\\220915_cos7_mitostaygold1_w1Brightfield.ome.tif'\n",
    "img = Image.open(imagefile)\n"
   ]
  },
  {
   "cell_type": "code",
   "execution_count": 46,
   "metadata": {},
   "outputs": [],
   "source": [
    "def image_crop_save(l,list, data, img):   \n",
    "    division_list=[]\n",
    "    for index_list in range(0, l):\n",
    "        l1=len(list[index_list])\n",
    "        division_list=[]\n",
    "\n",
    "        for index_list1 in range(0,l1):\n",
    "            division_list.append(list[index_list][index_list1])\n",
    "            minlist=division_list[0]\n",
    "            maxlist=division_list[index_list1]\n",
    "\n",
    "        data_croped= data.iloc[minlist:maxlist,1:4]\n",
    "        frame1=int(data_croped['axis-0'].min())\n",
    "        frame2=int(data_croped['axis-0'].max())\n",
    "        ymean = data_croped['axis-1'].mean()\n",
    "        xmean = data_croped['axis-2'].mean()\n",
    "        ycrop1=ymean+128\n",
    "        ycrop2=ymean-128\n",
    "        xcrop1=xmean+128\n",
    "        xcrop2=xmean-128\n",
    "        dataar=np.zeros((frame2-frame1, 256, 256))\n",
    "\n",
    "        for frame_index, frame_number in enumerate(range (frame1, frame2)):\n",
    "            img.seek(frame_number-1) #starts from 0 I think?\n",
    "            box = (xcrop2, ycrop2, xcrop1, ycrop1) #choose dimensions of box\n",
    "            imcrop= img.crop(box)\n",
    "        \n",
    "            dataar[frame_index, :, :] = np.array(imcrop)\n",
    "        \n",
    "        currname_crop = f'image_{index_list}.tiff'\n",
    "        imageio.mimwrite(currname_crop, dataar)\n",
    "    return(dataar) #what does it actually return\n"
   ]
  },
  {
   "cell_type": "code",
   "execution_count": 47,
   "metadata": {},
   "outputs": [
    {
     "data": {
      "text/plain": [
       "array([[[4126., 4238., 4376., ..., 4325., 3955., 3752.],\n",
       "        [4167., 4179., 4030., ..., 4394., 4263., 3823.],\n",
       "        [3939., 4237., 4409., ..., 4300., 4187., 4102.],\n",
       "        ...,\n",
       "        [3591., 3867., 4168., ..., 3548., 3425., 3661.],\n",
       "        [3647., 4246., 4419., ..., 3477., 3330., 3385.],\n",
       "        [3885., 4406., 4603., ..., 3055., 3258., 3471.]],\n",
       "\n",
       "       [[4295., 3609., 3160., ..., 4451., 4621., 4254.],\n",
       "        [4167., 4137., 3818., ..., 4436., 4513., 4286.],\n",
       "        [4149., 4405., 4326., ..., 4594., 4768., 4480.],\n",
       "        ...,\n",
       "        [3465., 3950., 4168., ..., 4128., 4094., 3830.],\n",
       "        [3732., 4122., 4503., ..., 4227., 4037., 3972.],\n",
       "        [4262., 4406., 4519., ..., 4150., 4219., 3890.]],\n",
       "\n",
       "       [[4126., 4238., 4292., ..., 4033., 4454., 4337.],\n",
       "        [4294., 4513., 4579., ..., 4561., 4764., 4707.],\n",
       "        [4360., 4782., 5072., ..., 4888., 4685., 4899.],\n",
       "        ...,\n",
       "        [3424., 3617., 4000., ..., 3838., 3969., 3957.],\n",
       "        [3437., 3955., 4377., ..., 3935., 3912., 3930.],\n",
       "        [3969., 4406., 4435., ..., 3729., 4011., 3932.]],\n",
       "\n",
       "       ...,\n",
       "\n",
       "       [[4126., 4951., 4964., ..., 3866., 4121., 4086.],\n",
       "        [4547., 5390., 5297., ..., 4061., 4263., 4370.],\n",
       "        [4907., 5453., 5528., ..., 4091., 4436., 4480.],\n",
       "        ...,\n",
       "        [3549., 3409., 3287., ..., 4501., 4303., 4422.],\n",
       "        [3479., 3580., 3455., ..., 4435., 4537., 4433.],\n",
       "        [4011., 3693., 3761., ..., 4570., 4512., 4268.]],\n",
       "\n",
       "       [[3619., 4448., 5299., ..., 3615., 3955., 4086.],\n",
       "        [4040., 4680., 5128., ..., 3853., 3970., 3865.],\n",
       "        [4276., 5076., 5570., ..., 3881., 4146., 4312.],\n",
       "        ...,\n",
       "        [3298., 3201., 3120., ..., 3755., 3509., 3577.],\n",
       "        [3311., 3414., 3245., ..., 4227., 3996., 3972.],\n",
       "        [3549., 3777., 3635., ..., 4486., 4554., 4394.]],\n",
       "\n",
       "       [[3661., 4532., 4796., ..., 4743., 4912., 4630.],\n",
       "        [4209., 4722., 5171., ..., 4394., 4680., 4286.],\n",
       "        [4528., 5034., 5487., ..., 4300., 4146., 4018.],\n",
       "        ...,\n",
       "        [3549., 3326., 3245., ..., 4460., 4386., 4211.],\n",
       "        [3395., 3414., 3580., ..., 4393., 4287., 4349.],\n",
       "        [3675., 3819., 3635., ..., 4486., 4345., 4226.]]])"
      ]
     },
     "execution_count": 47,
     "metadata": {},
     "output_type": "execute_result"
    }
   ],
   "source": [
    "list1=event_separation(datacsv)\n",
    "l=len(list1)\n",
    "image_crop_save(l,list1, datacsv, img)\n"
   ]
  }
 ],
 "metadata": {
  "kernelspec": {
   "display_name": "Python 3.10.7 ('.env': venv)",
   "language": "python",
   "name": "python3"
  },
  "language_info": {
   "codemirror_mode": {
    "name": "ipython",
    "version": 3
   },
   "file_extension": ".py",
   "mimetype": "text/x-python",
   "name": "python",
   "nbconvert_exporter": "python",
   "pygments_lexer": "ipython3",
   "version": "3.10.7"
  },
  "orig_nbformat": 4,
  "vscode": {
   "interpreter": {
    "hash": "1eaf8819518d82bc7e7f729f546a337f692f85bf6d00cdfaf0712e2fc6595813"
   }
  }
 },
 "nbformat": 4,
 "nbformat_minor": 2
}
