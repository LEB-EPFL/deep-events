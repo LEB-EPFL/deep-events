{
 "cells": [
  {
   "cell_type": "code",
   "execution_count": 2,
   "metadata": {},
   "outputs": [
    {
     "data": {
      "text/plain": [
       "498"
      ]
     },
     "execution_count": 2,
     "metadata": {},
     "output_type": "execute_result"
    }
   ],
   "source": [
    "imagefile= r'C:\\Users\\roumba\\Documents\\Software\\deep-events\\Videos\\Video_1\\Brightfield\\220915_cos7_mitostaygold1_w1Brightfield.ome.tif'\n",
    "csvfile = r'C:\\Users\\roumba\\Documents\\Software\\deep-events\\Videos\\Video_1\\Brightfield\\labels1b.csv'\n",
    "\n",
    "from PIL import Image\n",
    "import pandas as pd\n",
    "import numpy as np\n",
    "\n",
    "img = Image.open(imagefile)\n",
    "#tiffarray = np.array(img)\n",
    "\n",
    "data = pd.read_csv(csvfile)\n",
    "#data.columns\n"
   ]
  },
  {
   "cell_type": "code",
   "execution_count": null,
   "metadata": {},
   "outputs": [],
   "source": [
    "for excelindex in range len(data):\n",
    "    "
   ]
  },
  {
   "cell_type": "code",
   "execution_count": null,
   "metadata": {},
   "outputs": [],
   "source": [
    "frame1=int(datacrop['axis-0'].min())\n",
    "frame2=int(datacrop['axis-0'].max())\n",
    "ymean = datacrop['axis-1'].mean()\n",
    "xmean = datacrop['axis-2'].mean()\n",
    "ycrop1=ymean+128\n",
    "ycrop2=ymean-128\n",
    "xcrop1=xmean+128\n",
    "xcrop2=xmean-128"
   ]
  },
  {
   "cell_type": "code",
   "execution_count": null,
   "metadata": {},
   "outputs": [],
   "source": [
    "dataar=np.zeros((frame2-frame1+1, 256, 256))\n",
    "\n",
    "for frameindex, framenumber in enumerate(range (frame1, frame2)):\n",
    "    img.seek(framenumber-1) #starts from 0 I think?\n",
    "    box = (xcrop2, ycrop2, xcrop1, ycrop1) #choose dimensions of box\n",
    "    imcrop= img.crop(box)\n",
    "    \n",
    "    dataar[frameindex, :, :] = np.array(imcrop)\n",
    "    \n",
    "print(dataar.shape)\n"
   ]
  }
 ],
 "metadata": {
  "kernelspec": {
   "display_name": "Python 3.10.7 ('.env': venv)",
   "language": "python",
   "name": "python3"
  },
  "language_info": {
   "codemirror_mode": {
    "name": "ipython",
    "version": 3
   },
   "file_extension": ".py",
   "mimetype": "text/x-python",
   "name": "python",
   "nbconvert_exporter": "python",
   "pygments_lexer": "ipython3",
   "version": "3.10.7"
  },
  "orig_nbformat": 4,
  "vscode": {
   "interpreter": {
    "hash": "1eaf8819518d82bc7e7f729f546a337f692f85bf6d00cdfaf0712e2fc6595813"
   }
  }
 },
 "nbformat": 4,
 "nbformat_minor": 2
}
