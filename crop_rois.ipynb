{
 "cells": [
  {
   "cell_type": "code",
   "execution_count": 48,
   "metadata": {},
   "outputs": [],
   "source": [
    "from PIL import Image\n",
    "import pandas as pd\n",
    "import numpy as np\n",
    "import random \n",
    "import matplotlib.pyplot as plt \n",
    "from skimage import filters, segmentation, feature, measure, morphology\n",
    "import tensorflow\n",
    "import imageio\n",
    "from skimage.segmentation import flood, flood_fill\n",
    "from scipy import signal\n",
    "from tqdm import tqdm\n",
    "import myfunctions\n",
    "from myfunctions import event_separation \n",
    "\n",
    "csvfile = r'C:\\Users\\roumba\\Documents\\Software\\deep-events\\Videos\\27.09_mitotrackergreem_cos7_ZEIS_1\\Brightfield\\labels1b.csv'\n",
    "datacsv = pd.read_csv(csvfile)\n",
    "imagefile= r'C:\\Users\\roumba\\Documents\\Software\\deep-events\\Videos\\27.09_mitotrackergreem_cos7_ZEIS_1\\Brightfield\\220923_cos7_mitotrackergreen2_w2Brightfield.ome.tif'\n",
    "img = Image.open(imagefile)\n"
   ]
  },
  {
   "cell_type": "code",
   "execution_count": 49,
   "metadata": {},
   "outputs": [],
   "source": [
    "def image_crop_save(l,list_of_divisions, data, img):   \n",
    "    division_list=[]\n",
    "    for index_list in range(0, l):\n",
    "        l1=len(list_of_divisions[index_list])\n",
    "        division_list=[]\n",
    "\n",
    "        for index_list1 in range(0,l1):\n",
    "            division_list.append(list_of_divisions[index_list][index_list1])\n",
    "            minlist=division_list[0]\n",
    "            maxlist=division_list[index_list1]\n",
    "\n",
    "        data_croped= data.iloc[minlist:maxlist,1:4]\n",
    "        frame1=int(data_croped['axis-0'].min())\n",
    "        frame2=int(data_croped['axis-0'].max())\n",
    "        ymean = data_croped['axis-1'].mean()\n",
    "        xmean = data_croped['axis-2'].mean()\n",
    "        ycrop1=ymean+128\n",
    "        ycrop2=ymean-128\n",
    "        xcrop1=xmean+128\n",
    "        xcrop2=xmean-128\n",
    "        dataar=np.zeros((frame2-frame1, 256, 256))\n",
    "\n",
    "        for frame_index, frame_number in enumerate(range (frame1, frame2)):\n",
    "            img.seek(frame_number) #starts from 0 I think?\n",
    "            box = (xcrop2, ycrop2, xcrop1, ycrop1) #choose dimensions of box\n",
    "            imcrop= img.crop(box)\n",
    "        \n",
    "            dataar[frame_index, :, :] = np.array(imcrop)\n",
    "        currname_crop = f'image_{index_list}.tiff'\n",
    "        imageio.mimwrite(currname_crop, dataar)\n",
    "    return dataar    "
   ]
  },
  {
   "cell_type": "code",
   "execution_count": 50,
   "metadata": {},
   "outputs": [
    {
     "data": {
      "text/plain": [
       "array([[[1583., 1631., 1497., ..., 1528., 1496., 1490.],\n",
       "        [1552., 1535., 1438., ..., 1536., 1485., 1477.],\n",
       "        [1525., 1577., 1472., ..., 1594., 1437., 1428.],\n",
       "        ...,\n",
       "        [1664., 1711., 1734., ..., 1260., 1392., 1336.],\n",
       "        [1666., 1758., 1763., ..., 1367., 1407., 1284.],\n",
       "        [1575., 1687., 1738., ..., 1311., 1281., 1268.]],\n",
       "\n",
       "       [[1604., 1542., 1583., ..., 1459., 1531., 1647.],\n",
       "        [1695., 1543., 1502., ..., 1506., 1490., 1411.],\n",
       "        [1471., 1654., 1499., ..., 1552., 1456., 1538.],\n",
       "        ...,\n",
       "        [1703., 1651., 1837., ..., 1234., 1249., 1248.],\n",
       "        [1747., 1729., 1801., ..., 1297., 1230., 1344.],\n",
       "        [1658., 1797., 1711., ..., 1341., 1305., 1322.]]])"
      ]
     },
     "execution_count": 50,
     "metadata": {},
     "output_type": "execute_result"
    }
   ],
   "source": [
    "list1=event_separation(datacsv)\n",
    "l=len(list1)\n",
    "image_crop_save(l,list1, datacsv, img)"
   ]
  }
 ],
 "metadata": {
  "kernelspec": {
   "display_name": "Python 3.10.7 ('.env': venv)",
   "language": "python",
   "name": "python3"
  },
  "language_info": {
   "codemirror_mode": {
    "name": "ipython",
    "version": 3
   },
   "file_extension": ".py",
   "mimetype": "text/x-python",
   "name": "python",
   "nbconvert_exporter": "python",
   "pygments_lexer": "ipython3",
   "version": "3.10.7"
  },
  "orig_nbformat": 4,
  "vscode": {
   "interpreter": {
    "hash": "1eaf8819518d82bc7e7f729f546a337f692f85bf6d00cdfaf0712e2fc6595813"
   }
  }
 },
 "nbformat": 4,
 "nbformat_minor": 2
}
