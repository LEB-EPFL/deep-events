{
 "cells": [
  {
   "cell_type": "code",
   "execution_count": 3,
   "metadata": {},
   "outputs": [],
   "source": [
    "import pandas as pd\n",
    "import numpy as np\n",
    "import imageio\n",
    "from PIL import Image\n",
    "import myfunctions\n",
    "from myfunctions import event_separation\n",
    "\n",
    "csvfile = r'C:\\Users\\roumba\\Documents\\Software\\deep-events\\Videos\\21.09_mtstaygold_cos7_iSIM_1\\mtStayGold__1_points.csv'\n",
    "imagefile= r'C:\\Users\\roumba\\Documents\\Software\\deep-events\\Videos\\21.09_mtstaygold_cos7_iSIM_1\\mtStayGold__1_MMStack_Pos0.ome.tif'\n",
    "img = Image.open(imagefile)\n",
    "datacsv = pd.read_csv(csvfile)\n",
    "list1=event_separation(datacsv)\n",
    "l=len(list1)\n",
    "\n"
   ]
  },
  {
   "cell_type": "code",
   "execution_count": 11,
   "metadata": {},
   "outputs": [],
   "source": [
    "def image_crop_negative(l,list_of_divisions, data, img):\n",
    "    division_list=[]\n",
    "    for index_list in range(0, l):\n",
    "        l1=len(list_of_divisions[index_list])\n",
    "        division_list=[]\n",
    "\n",
    "        for index_list1 in range(0,l1):\n",
    "            division_list.append(list_of_divisions[index_list][index_list1])\n",
    "            minlist=division_list[0]\n",
    "            maxlist=division_list[index_list1]\n",
    "            if minlist>9 and maxlist<90:\n",
    "\n",
    "                first_frame_before=minlist-10               #frame numbers back and forth\n",
    "                last_frame_after=maxlist+10\n",
    "\n",
    "                data_croped_before_event= data.iloc[first_frame_before:minlist,1:4]\n",
    "                data_croped_after_event= data.iloc[maxlist:last_frame_after,1:4]\n",
    "\n",
    "                frame1_before=int(data_croped_before_event['axis-0'].min())\n",
    "                frame2_before=int(data_croped_before_event['axis-0'].max())\n",
    "                frame1_after=int(data_croped_after_event['axis-0'].min())\n",
    "                frame2_after=int(data_croped_after_event['axis-0'].max())\n",
    "\n",
    "                ymean_before = data_croped_before_event['axis-1'].mean()\n",
    "                xmean_before = data_croped_before_event['axis-2'].mean()\n",
    "                ycrop1_b=ymean_before+128\n",
    "                ycrop2_b=ymean_before-128\n",
    "                xcrop1_b=xmean_before+128\n",
    "                xcrop2_b=xmean_before-128\n",
    "                dataar_b=np.zeros((frame2_before-frame1_before, 256, 256))\n",
    "\n",
    "                ymean_after = data_croped_after_event['axis-1'].mean()\n",
    "                xmean_after = data_croped_after_event['axis-2'].mean()\n",
    "                ycrop1_a=ymean_after+128\n",
    "                ycrop2_a=ymean_after-128\n",
    "                xcrop1_a=xmean_after+128\n",
    "                xcrop2_a=xmean_after-128\n",
    "                dataar_a=np.zeros((frame2_after-frame1_after, 256, 256))\n",
    "\n",
    "                for frame_index_b, frame_number_b in enumerate(range (frame1_before, frame2_before)):\n",
    "                    img.seek(frame_number_b) #starts from 0 I think?\n",
    "                    box_b = (xcrop2_b, ycrop2_b, xcrop1_b, ycrop1_b) #choose dimensions of box\n",
    "                    imcrop= img.crop(box_b)\n",
    "                    \n",
    "                    dataar_b[frame_index_b, :, :] = np.array(imcrop)\n",
    "\n",
    "                for frame_index_a, frame_number_a in enumerate(range (frame1_after, frame2_after)):\n",
    "                    img.seek(frame_number_a) #starts from 0 I think?\n",
    "                    box_a = (xcrop2_a, ycrop2_a, xcrop1_a, ycrop1_a) #choose dimensions of box\n",
    "                    imcrop= img.crop(box_a)\n",
    "                    \n",
    "                    dataar_a[frame_index_a, :, :] = np.array(imcrop)\n",
    "            \n",
    "                currname_crop_b = f'image_{index_list}_b.tiff'\n",
    "                currname_crop_a = f'image_{index_list}_a.tiff'\n",
    "                imageio.mimwrite(currname_crop_b, (dataar_b).astype(np.uint16))   \n",
    "                imageio.mimwrite(currname_crop_a, (dataar_a).astype(np.uint16))\n"
   ]
  },
  {
   "cell_type": "code",
   "execution_count": 12,
   "metadata": {},
   "outputs": [],
   "source": [
    "image_crop_negative(l,list1, datacsv, img)"
   ]
  }
 ],
 "metadata": {
  "kernelspec": {
   "display_name": "Python 3.10.7 ('.env': venv)",
   "language": "python",
   "name": "python3"
  },
  "language_info": {
   "codemirror_mode": {
    "name": "ipython",
    "version": 3
   },
   "file_extension": ".py",
   "mimetype": "text/x-python",
   "name": "python",
   "nbconvert_exporter": "python",
   "pygments_lexer": "ipython3",
   "version": "3.10.7"
  },
  "orig_nbformat": 4,
  "vscode": {
   "interpreter": {
    "hash": "1eaf8819518d82bc7e7f729f546a337f692f85bf6d00cdfaf0712e2fc6595813"
   }
  }
 },
 "nbformat": 4,
 "nbformat_minor": 2
}
