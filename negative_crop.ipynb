{
 "cells": [
  {
   "cell_type": "code",
   "execution_count": 9,
   "metadata": {},
   "outputs": [],
   "source": [
    "import pandas as pd\n",
    "import numpy as np\n",
    "import imageio\n",
    "from PIL import Image\n",
    "import myfunctions\n",
    "from myfunctions import event_separation\n",
    "\n",
    "csvfile = r'C:\\Users\\roumba\\Documents\\Software\\deep-events\\Videos\\all_data_220915_mtstaygold_cos7_ZEIS\\220915_mtstaygold_cos7_ZEIS_2\\labels2f.csv'\n",
    "imagefile= r'C:\\Users\\roumba\\Documents\\Software\\deep-events\\Videos\\all_data_220915_mtstaygold_cos7_ZEIS\\220915_mtstaygold_cos7_ZEIS_2\\220915_cos7_mitostaygold_5int1_w2GFP.ome.tif'\n",
    "img = Image.open(imagefile)\n",
    "datacsv = pd.read_csv(csvfile)\n",
    "list1=event_separation(datacsv)\n",
    "l=len(list1)\n",
    "\n"
   ]
  },
  {
   "cell_type": "code",
   "execution_count": 27,
   "metadata": {},
   "outputs": [],
   "source": [
    "def image_crop_negative(l,list_of_divisions, data, img):\n",
    "    division_list=[]\n",
    "    for index_list in range(0, l):\n",
    "        l1=len(list_of_divisions[index_list])\n",
    "        division_list=[]\n",
    "\n",
    "        for index_list1 in range(0,l1):\n",
    "            division_list.append(list_of_divisions[index_list][index_list1])\n",
    "            minlist=division_list[0]\n",
    "            maxlist=division_list[index_list1]\n",
    "\n",
    "        data_croped_after_event= data.iloc[minlist:maxlist,1:4]\n",
    "        \n",
    "        frame_number_max=int(data_croped_after_event['axis-0'].max())\n",
    "        if frame_number_max<90:\n",
    "            frame1_after=frame_number_max\n",
    "            frame2_after=frame_number_max+10\n",
    "            ymean_after = data_croped_after_event['axis-1'].mean()\n",
    "            xmean_after = data_croped_after_event['axis-2'].mean()\n",
    "            y1_moved=ymean_after+64\n",
    "            y2_moved=ymean_after+320\n",
    "            x1_moved=xmean_after+64\n",
    "            x2_moved=xmean_after+320\n",
    "            if y2_moved>2048 and x2_moved>2048:\n",
    "                y1_moved=ymean_after-64\n",
    "                y2_moved=ymean_after-320\n",
    "                x1_moved=xmean_after-64\n",
    "                x2_moved=xmean_after-320\n",
    "            elif y2_moved<2048 and x2_moved>2048:\n",
    "                y1_moved=ymean_after+64\n",
    "                y2_moved=ymean_after+320\n",
    "                x1_moved=xmean_after-64\n",
    "                x2_moved=xmean_after-320\n",
    "            elif y2_moved>2048 and x2_moved<2048:\n",
    "                y1_moved=ymean_after-64\n",
    "                y2_moved=ymean_after-320\n",
    "                x1_moved=xmean_after+64\n",
    "                x2_moved=xmean_after+320\n",
    "\n",
    "\n",
    "\n",
    "            dataar_a=np.zeros((frame2_after-frame1_after, 256, 256))\n",
    "\n",
    "            for frame_index_a, frame_number_a in enumerate(range (frame1_after, frame2_after)):\n",
    "                img.seek(frame_number_a) #starts from 0 I think?\n",
    "                box_a = (x1_moved, y1_moved, x2_moved, y2_moved) #choose dimensions of box\n",
    "                imcrop= img.crop(box_a)\n",
    "                \n",
    "                dataar_a[frame_index_a, :, :] = np.array(imcrop)\n",
    "        \n",
    "            currname_crop_a = f'image_{index_list}_a.tiff' \n",
    "            imageio.mimwrite(currname_crop_a, (dataar_a).astype(np.uint16))\n"
   ]
  },
  {
   "cell_type": "code",
   "execution_count": 28,
   "metadata": {},
   "outputs": [],
   "source": [
    "image_crop_negative(l,list1, datacsv, img)\n"
   ]
  }
 ],
 "metadata": {
  "kernelspec": {
   "display_name": "Python 3.10.7 ('.env': venv)",
   "language": "python",
   "name": "python3"
  },
  "language_info": {
   "codemirror_mode": {
    "name": "ipython",
    "version": 3
   },
   "file_extension": ".py",
   "mimetype": "text/x-python",
   "name": "python",
   "nbconvert_exporter": "python",
   "pygments_lexer": "ipython3",
   "version": "3.10.7"
  },
  "orig_nbformat": 4,
  "vscode": {
   "interpreter": {
    "hash": "1eaf8819518d82bc7e7f729f546a337f692f85bf6d00cdfaf0712e2fc6595813"
   }
  }
 },
 "nbformat": 4,
 "nbformat_minor": 2
}
