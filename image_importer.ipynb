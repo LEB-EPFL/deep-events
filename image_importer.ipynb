{
 "cells": [
  {
   "cell_type": "code",
   "execution_count": 2,
   "metadata": {},
   "outputs": [],
   "source": [
    "from PIL import Image\n",
    "import pandas as pd\n",
    "import numpy as np\n",
    "import random \n",
    "import matplotlib.pyplot as plt \n",
    "import tensorflow\n",
    "import imageio\n",
    "from scipy import signal\n",
    "import os\n"
   ]
  },
  {
   "cell_type": "code",
   "execution_count": 5,
   "metadata": {},
   "outputs": [],
   "source": [
    "all_image_array=[]\n",
    "all_image_array_gauss=[]\n",
    "\n",
    "files_dir = r'C:\\Users\\roumba\\Documents\\Software\\deep-events\\Videos\\done\\220915_mtstaygold_cos7_ZEIS_1'\n",
    "images_dir = 'deep_events1b'\n",
    "for image_index in range(0,28):\n",
    "    file_name = f'image_{image_index}.tiff'\n",
    "    file_name_gauss = f'image_{image_index}gauss.tiff'\n",
    "    joined_path = os.path.join(files_dir, images_dir, file_name)\n",
    "    joined_path_gauss = os.path.join(files_dir, images_dir, file_name_gauss)\n",
    "    img = Image.open(str(joined_path).strip())\n",
    "    image_array = np.array(img)\n",
    "    img_gauss = Image.open(joined_path_gauss)\n",
    "    image_array_gauss = np.array(img_gauss)\n",
    "    all_image_array.append(image_array)\n",
    "    all_image_array_gauss.append(image_array_gauss)\n"
   ]
  }
 ],
 "metadata": {
  "kernelspec": {
   "display_name": "Python 3.10.7 ('.env': venv)",
   "language": "python",
   "name": "python3"
  },
  "language_info": {
   "codemirror_mode": {
    "name": "ipython",
    "version": 3
   },
   "file_extension": ".py",
   "mimetype": "text/x-python",
   "name": "python",
   "nbconvert_exporter": "python",
   "pygments_lexer": "ipython3",
   "version": "3.10.7"
  },
  "orig_nbformat": 4,
  "vscode": {
   "interpreter": {
    "hash": "1eaf8819518d82bc7e7f729f546a337f692f85bf6d00cdfaf0712e2fc6595813"
   }
  }
 },
 "nbformat": 4,
 "nbformat_minor": 2
}
