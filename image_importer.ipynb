{
 "cells": [
  {
   "cell_type": "code",
   "execution_count": 27,
   "metadata": {},
   "outputs": [],
   "source": [
    "from PIL import Image\n",
    "import pandas as pd\n",
    "import numpy as np\n",
    "from glob import glob\n",
    "from os import path\n",
    "import random \n",
    "import matplotlib.pyplot as plt \n",
    "import tensorflow\n",
    "import imageio\n",
    "from scipy import signal\n",
    "from pathlib import Path\n"
   ]
  },
  {
   "cell_type": "code",
   "execution_count": 30,
   "metadata": {},
   "outputs": [],
   "source": [
    "## IMPORTS ALL IMAGES WITHIN THE FOLDER \"imager_dir\" INTO TWO ARRAYS, ONE FOR GAUSS POINTS AND ONE FOR IMAGE CROPS ##\n",
    "all_image_array=[]\n",
    "all_image_array_gauss=[]\n",
    "\n",
    "files_dir = r'C:\\Users\\roumba\\Documents\\Software\\deep-events\\training_data'\n",
    "images_dir = '220915_mtstaygold_cos7_ZEISS_bf_pos'\n",
    "joined_path = os.path.join(files_dir, images_dir)\n",
    "\n",
    "for image_file in os.listdir(joined_path):\n",
    "    image, date, cell_type, bf_fl, index, number_gauss  = image_file.split('_')\n",
    "    joined_image_path = os.path.join(files_dir, images_dir, image_file)\n",
    "\n",
    "    if 'gauss' in number_gauss:\n",
    "        img_gauss = Image.open(joined_image_path)\n",
    "        image_array_gauss = np.array(img_gauss)\n",
    "        all_image_array_gauss.append(image_array_gauss)\n",
    "    else:\n",
    "        img = Image.open(joined_image_path)\n",
    "        image_array = np.array(img)\n",
    "        all_image_array.append(image_array)\n"
   ]
  },
  {
   "cell_type": "code",
   "execution_count": 34,
   "metadata": {},
   "outputs": [],
   "source": [
    "## ANYTHING BELOW THIS POINT IS FROM MITOSPLITNET CODE \"augmentation\" ##\n",
    "from mitosplit_net import preprocessing, augmentation, evaluation, training, plotting, util\n",
    "from tqdm import tqdm\n",
    "import numpy as np\n",
    "import matplotlib.pyplot as plt\n",
    "from skimage.color import label2rgb\n",
    "from skimage import segmentation\n",
    "\n",
    "from albumentations import Compose, Rotate, RandomRotate90, HorizontalFlip, Flip, ElasticTransform, GaussNoise, RandomCrop, Resize"
   ]
  },
  {
   "cell_type": "code",
   "execution_count": null,
   "metadata": {},
   "outputs": [],
   "source": [
    "def augImg(input_img, output_img, transform, **kwargs):\n",
    "    input_mask = (input_img>0).astype(np.uint8)\n",
    "    transformed = transform(image=input_img, image0=output_img)\n",
    "    transformed['image'] = noise_transform(image=transformed['image'])['image']\n",
    "    \n",
    "    aug_input_img, aug_output_img, aug_labels = transformed['image']*transformed['mask0'], transformed['image0'], transformed['mask']\n",
    "    \n",
    "    aug_fission_coords = preprocessing.fissionCoords(aug_labels, aug_output_img)\n",
    "    aug_output_img, aug_fission_props = preprocessing.prepareProc(aug_output_img, coords=aug_fission_coords, **kwargs)\n",
    "    aug_labels = preprocessing.segmentFissions(aug_output_img, aug_fission_props)\n",
    "    return aug_input_img.astype(np.uint8), aug_output_img, aug_labels\n",
    "    \n",
    "\n",
    "def augStack(input_data, output_data, transform, **kwargs):\n",
    "    aug_input_data = np.zeros(input_data.shape, dtype=np.uint8)\n",
    "    aug_output_data = np.zeros(output_data.shape, dtype=np.float32)\n",
    "    \n",
    "    for i in tqdm(range(input_data.shape[0]), total=input_data.shape[0]):\n",
    "        aug_input_data[i], aug_output_data[i]= augImg(input_data[i], output_data[i], labels[i], transform, noise_transform, **kwargs)\n",
    "    return aug_input_data, aug_output_data"
   ]
  },
  {
   "cell_type": "code",
   "execution_count": 36,
   "metadata": {},
   "outputs": [
    {
     "ename": "TypeError",
     "evalue": "augStack() missing 2 required positional arguments: 'transform' and 'noise_transform'",
     "output_type": "error",
     "traceback": [
      "\u001b[1;31m---------------------------------------------------------------------------\u001b[0m",
      "\u001b[1;31mTypeError\u001b[0m                                 Traceback (most recent call last)",
      "Cell \u001b[1;32mIn [36], line 4\u001b[0m\n\u001b[0;32m      1\u001b[0m img_size \u001b[39m=\u001b[39m \u001b[39m256\u001b[39m\n\u001b[0;32m      2\u001b[0m transform \u001b[39m=\u001b[39m Compose([RandomRotate90(p\u001b[39m=\u001b[39m\u001b[39m0.5\u001b[39m), HorizontalFlip(p\u001b[39m=\u001b[39m\u001b[39m0.5\u001b[39m), Flip(p\u001b[39m=\u001b[39m\u001b[39m0.5\u001b[39m)])\n\u001b[1;32m----> 4\u001b[0m aug_input_data, aug_output_data\u001b[39m=\u001b[39m augmentation\u001b[39m.\u001b[39maugStack(all_image_array, all_image_array_gauss,transform, sigma\u001b[39m=\u001b[39m\u001b[39m8\u001b[39m)\n\u001b[0;32m      6\u001b[0m nb_img \u001b[39m=\u001b[39m all_image_array\u001b[39m.\u001b[39mshape[\u001b[39m0\u001b[39m]\n\u001b[0;32m      7\u001b[0m title_size\u001b[39m=\u001b[39m\u001b[39m20\u001b[39m\n",
      "\u001b[1;31mTypeError\u001b[0m: augStack() missing 2 required positional arguments: 'transform' and 'noise_transform'"
     ]
    }
   ],
   "source": [
    "img_size = 256\n",
    "transform = Compose([RandomRotate90(p=0.5), HorizontalFlip(p=0.5), Flip(p=0.5)])\n",
    "\n",
    "aug_input_data, aug_output_data= augmentation.augStack(all_image_array, all_image_array_gauss,transform, sigma=8)\n",
    "\n",
    "nb_img = all_image_array.shape[0]\n",
    "title_size=20\n",
    "width = 5\n",
    "\n",
    "fig, axes = plt.subplots(nb_img, 3, figsize=(width*3, width*nb_img))\n",
    "for frame in range(all_image_array.shape[0]):\n",
    "  plotting.plot_merge(all_image_array[frame],  all_image_array_gauss[frame], title='', ax=axes[frame, 0])\n",
    "  plotting.plot_merge(aug_input_data[frame], aug_output_data[frame], title='', ax=axes[frame, 1])\n",
    "  axes[frame, 2].imshow(label2rgb(aug_labels[frame], bg_label=0))\n",
    "  axes[frame, 2].axis('off')\n",
    "  \n",
    "axes[0, 0].set_title('Original', size=title_size, color='white')\n",
    "axes[0, 1].set_title('Augmented output', size=title_size, color='white')\n",
    "axes[0, 2].set_title('Augmented labels', size=title_size, color='white')\n",
    "\n",
    "fig.tight_layout(pad=0)\n",
    "fig.subplots_adjust(hspace=0.05, wspace=0)\n",
    "\n",
    "plt.show()"
   ]
  }
 ],
 "metadata": {
  "kernelspec": {
   "display_name": "Python 3.10.7 ('.env': venv)",
   "language": "python",
   "name": "python3"
  },
  "language_info": {
   "codemirror_mode": {
    "name": "ipython",
    "version": 3
   },
   "file_extension": ".py",
   "mimetype": "text/x-python",
   "name": "python",
   "nbconvert_exporter": "python",
   "pygments_lexer": "ipython3",
   "version": "3.10.7"
  },
  "orig_nbformat": 4,
  "vscode": {
   "interpreter": {
    "hash": "1eaf8819518d82bc7e7f729f546a337f692f85bf6d00cdfaf0712e2fc6595813"
   }
  }
 },
 "nbformat": 4,
 "nbformat_minor": 2
}
